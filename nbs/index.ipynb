{
 "cells": [
  {
   "cell_type": "markdown",
   "metadata": {},
   "source": [
    "# fastduck\n",
    "\n",
    "> A bit of extra usability for duckdb... inspired by fastlite and sqlite_utils"
   ]
  },
  {
   "cell_type": "markdown",
   "metadata": {},
   "source": [
    "`fastduck` provides some development experience improvements for the standard `duckdb` python API. "
   ]
  },
  {
   "cell_type": "markdown",
   "metadata": {},
   "source": [
    "## Install"
   ]
  },
  {
   "cell_type": "markdown",
   "metadata": {},
   "source": [
    "```sh\n",
    "pip install fastduck\n",
    "```"
   ]
  },
  {
   "cell_type": "markdown",
   "metadata": {},
   "source": [
    "## How to use\n",
    "\n"
   ]
  },
  {
   "cell_type": "markdown",
   "metadata": {},
   "source": [
    "~~import fastduck as fuck~~"
   ]
  },
  {
   "cell_type": "code",
   "execution_count": 1,
   "metadata": {},
   "outputs": [],
   "source": [
    "from fastduck import database"
   ]
  },
  {
   "cell_type": "code",
   "execution_count": 2,
   "metadata": {},
   "outputs": [
    {
     "data": {
      "text/plain": [
       "DuckDBPyConnection (chinook_main)"
      ]
     },
     "execution_count": null,
     "metadata": {},
     "output_type": "execute_result"
    }
   ],
   "source": [
    "db = database('../data/chinook.duckdb')\n",
    "db"
   ]
  },
  {
   "cell_type": "code",
   "execution_count": 3,
   "metadata": {},
   "outputs": [
    {
     "data": {
      "text/plain": [
       "(chinook_main) Tables: Album, Artist, Customer, Employee, Genre, Invoice, InvoiceLine, MediaType, Playlist, PlaylistTrack, Track, fd_Customer, todos, tst"
      ]
     },
     "execution_count": null,
     "metadata": {},
     "output_type": "execute_result"
    }
   ],
   "source": [
    "dt = db.t\n",
    "dt"
   ]
  },
  {
   "cell_type": "markdown",
   "metadata": {},
   "source": [
    "You can use this to grab a single table..."
   ]
  },
  {
   "cell_type": "code",
   "execution_count": 4,
   "metadata": {},
   "outputs": [
    {
     "data": {
      "text/plain": [
       "┌──────────┬────────────────────────────────────────────────────────────────────────────────────┐\n",
       "│ ArtistId │                                        Name                                        │\n",
       "│  int32   │                                      varchar                                       │\n",
       "├──────────┼────────────────────────────────────────────────────────────────────────────────────┤\n",
       "│        1 │ AC/DC                                                                              │\n",
       "│        2 │ Accept                                                                             │\n",
       "│        3 │ Aerosmith                                                                          │\n",
       "│        4 │ Alanis Morissette                                                                  │\n",
       "│        5 │ Alice In Chains                                                                    │\n",
       "│        6 │ Antônio Carlos Jobim                                                               │\n",
       "│        7 │ Apocalyptica                                                                       │\n",
       "│        8 │ Audioslave                                                                         │\n",
       "│        9 │ BackBeat                                                                           │\n",
       "│       10 │ Billy Cobham                                                                       │\n",
       "│        · │      ·                                                                             │\n",
       "│        · │      ·                                                                             │\n",
       "│        · │      ·                                                                             │\n",
       "│      266 │ Martin Roscoe                                                                      │\n",
       "│      267 │ Göteborgs Symfoniker & Neeme Järvi                                                 │\n",
       "│      268 │ Itzhak Perlman                                                                     │\n",
       "│      269 │ Michele Campanella                                                                 │\n",
       "│      270 │ Gerald Moore                                                                       │\n",
       "│      271 │ Mela Tenenbaum, Pro Musica Prague & Richard Kapp                                   │\n",
       "│      272 │ Emerson String Quartet                                                             │\n",
       "│      273 │ C. Monteverdi, Nigel Rogers - Chiaroscuro; London Baroque; London Cornett & Sackbu │\n",
       "│      274 │ Nash Ensemble                                                                      │\n",
       "│      275 │ Philip Glass Ensemble                                                              │\n",
       "├──────────┴────────────────────────────────────────────────────────────────────────────────────┤\n",
       "│ 275 rows (20 shown)                                                                 2 columns │\n",
       "└───────────────────────────────────────────────────────────────────────────────────────────────┘"
      ]
     },
     "execution_count": null,
     "metadata": {},
     "output_type": "execute_result"
    }
   ],
   "source": [
    "artist = dt.Artist\n",
    "artist"
   ]
  },
  {
   "cell_type": "code",
   "execution_count": 5,
   "metadata": {},
   "outputs": [
    {
     "data": {
      "text/plain": [
       "┌────────────┬───────────┬─────────────┬───┬────────────────────┬──────────────────────┬──────────────┐\n",
       "│ CustomerId │ FirstName │  LastName   │ … │        Fax         │        Email         │ SupportRepId │\n",
       "│   int32    │  varchar  │   varchar   │   │      varchar       │       varchar        │    int32     │\n",
       "├────────────┼───────────┼─────────────┼───┼────────────────────┼──────────────────────┼──────────────┤\n",
       "│          1 │ Luís      │ Gonçalves   │ … │ +55 (12) 3923-5566 │ luisg@embraer.com.br │            3 │\n",
       "│          2 │ Leonie    │ Köhler      │ … │ NULL               │ leonekohler@surfeu…  │            5 │\n",
       "│          3 │ François  │ Tremblay    │ … │ NULL               │ ftremblay@gmail.com  │            3 │\n",
       "│          4 │ Bjørn     │ Hansen      │ … │ NULL               │ bjorn.hansen@yahoo…  │            4 │\n",
       "│          5 │ František │ Wichterlová │ … │ +420 2 4172 5555   │ frantisekw@jetbrai…  │            4 │\n",
       "│          6 │ Helena    │ Holý        │ … │ NULL               │ hholy@gmail.com      │            5 │\n",
       "│          7 │ Astrid    │ Gruber      │ … │ NULL               │ astrid.gruber@appl…  │            5 │\n",
       "│          8 │ Daan      │ Peeters     │ … │ NULL               │ daan_peeters@apple…  │            4 │\n",
       "│          9 │ Kara      │ Nielsen     │ … │ NULL               │ kara.nielsen@jubii…  │            4 │\n",
       "│         10 │ Eduardo   │ Martins     │ … │ +55 (11) 3033-4564 │ eduardo@woodstock.…  │            4 │\n",
       "│          · │    ·      │   ·         │ · │  ·                 │          ·           │            · │\n",
       "│          · │    ·      │   ·         │ · │  ·                 │          ·           │            · │\n",
       "│          · │    ·      │   ·         │ · │  ·                 │          ·           │            · │\n",
       "│         50 │ Enrique   │ Muñoz       │ … │ NULL               │ enrique_munoz@yaho…  │            5 │\n",
       "│         51 │ Joakim    │ Johansson   │ … │ NULL               │ joakim.johansson@y…  │            5 │\n",
       "│         52 │ Emma      │ Jones       │ … │ NULL               │ emma_jones@hotmail…  │            3 │\n",
       "│         53 │ Phil      │ Hughes      │ … │ NULL               │ phil.hughes@gmail.…  │            3 │\n",
       "│         54 │ Steve     │ Murray      │ … │ NULL               │ steve.murray@yahoo…  │            5 │\n",
       "│         55 │ Mark      │ Taylor      │ … │ NULL               │ mark.taylor@yahoo.au │            4 │\n",
       "│         56 │ Diego     │ Gutiérrez   │ … │ NULL               │ diego.gutierrez@ya…  │            4 │\n",
       "│         57 │ Luis      │ Rojas       │ … │ NULL               │ luisrojas@yahoo.cl   │            5 │\n",
       "│         58 │ Manoj     │ Pareek      │ … │ NULL               │ manoj.pareek@redif…  │            3 │\n",
       "│         59 │ Puja      │ Srivastava  │ … │ NULL               │ puja_srivastava@ya…  │            3 │\n",
       "├────────────┴───────────┴─────────────┴───┴────────────────────┴──────────────────────┴──────────────┤\n",
       "│ 59 rows (20 shown)                                                             13 columns (6 shown) │\n",
       "└─────────────────────────────────────────────────────────────────────────────────────────────────────┘"
      ]
     },
     "execution_count": null,
     "metadata": {},
     "output_type": "execute_result"
    }
   ],
   "source": [
    "customer = dt['Customer']\n",
    "customer"
   ]
  },
  {
   "cell_type": "markdown",
   "metadata": {},
   "source": [
    "... or multiple tables at once:"
   ]
  },
  {
   "cell_type": "code",
   "execution_count": 6,
   "metadata": {},
   "outputs": [
    {
     "data": {
      "text/plain": [
       "[┌──────────┬────────────────────────────────────────────────────────────────────────────────────┐\n",
       " │ ArtistId │                                        Name                                        │\n",
       " │  int32   │                                      varchar                                       │\n",
       " ├──────────┼────────────────────────────────────────────────────────────────────────────────────┤\n",
       " │        1 │ AC/DC                                                                              │\n",
       " │        2 │ Accept                                                                             │\n",
       " │        3 │ Aerosmith                                                                          │\n",
       " │        4 │ Alanis Morissette                                                                  │\n",
       " │        5 │ Alice In Chains                                                                    │\n",
       " │        6 │ Antônio Carlos Jobim                                                               │\n",
       " │        7 │ Apocalyptica                                                                       │\n",
       " │        8 │ Audioslave                                                                         │\n",
       " │        9 │ BackBeat                                                                           │\n",
       " │       10 │ Billy Cobham                                                                       │\n",
       " │        · │      ·                                                                             │\n",
       " │        · │      ·                                                                             │\n",
       " │        · │      ·                                                                             │\n",
       " │      266 │ Martin Roscoe                                                                      │\n",
       " │      267 │ Göteborgs Symfoniker & Neeme Järvi                                                 │\n",
       " │      268 │ Itzhak Perlman                                                                     │\n",
       " │      269 │ Michele Campanella                                                                 │\n",
       " │      270 │ Gerald Moore                                                                       │\n",
       " │      271 │ Mela Tenenbaum, Pro Musica Prague & Richard Kapp                                   │\n",
       " │      272 │ Emerson String Quartet                                                             │\n",
       " │      273 │ C. Monteverdi, Nigel Rogers - Chiaroscuro; London Baroque; London Cornett & Sackbu │\n",
       " │      274 │ Nash Ensemble                                                                      │\n",
       " │      275 │ Philip Glass Ensemble                                                              │\n",
       " ├──────────┴────────────────────────────────────────────────────────────────────────────────────┤\n",
       " │ 275 rows (20 shown)                                                                 2 columns │\n",
       " └───────────────────────────────────────────────────────────────────────────────────────────────┘,\n",
       " ┌─────────┬─────────────────────────────────────────────────────────────────────┬──────────┐\n",
       " │ AlbumId │                                Title                                │ ArtistId │\n",
       " │  int32  │                               varchar                               │  int32   │\n",
       " ├─────────┼─────────────────────────────────────────────────────────────────────┼──────────┤\n",
       " │       1 │ For Those About To Rock We Salute You                               │        1 │\n",
       " │       2 │ Balls to the Wall                                                   │        2 │\n",
       " │       3 │ Restless and Wild                                                   │        2 │\n",
       " │       4 │ Let There Be Rock                                                   │        1 │\n",
       " │       5 │ Big Ones                                                            │        3 │\n",
       " │       6 │ Jagged Little Pill                                                  │        4 │\n",
       " │       7 │ Facelift                                                            │        5 │\n",
       " │       8 │ Warner 25 Anos                                                      │        6 │\n",
       " │       9 │ Plays Metallica By Four Cellos                                      │        7 │\n",
       " │      10 │ Audioslave                                                          │        8 │\n",
       " │       · │     ·                                                               │        · │\n",
       " │       · │     ·                                                               │        · │\n",
       " │       · │     ·                                                               │        · │\n",
       " │     338 │ Nielsen: The Six Symphonies                                         │      267 │\n",
       " │     339 │ Great Recordings of the Century: Paganini's 24 Caprices             │      268 │\n",
       " │     340 │ Liszt - 12 Études D'Execution Transcendante                         │      269 │\n",
       " │     341 │ Great Recordings of the Century - Shubert: Schwanengesang, 4 Lieder │      270 │\n",
       " │     342 │ Locatelli: Concertos for Violin, Strings and Continuo, Vol. 3       │      271 │\n",
       " │     343 │ Respighi:Pines of Rome                                              │      226 │\n",
       " │     344 │ Schubert: The Late String Quartets & String Quintet (3 CD's)        │      272 │\n",
       " │     345 │ Monteverdi: L'Orfeo                                                 │      273 │\n",
       " │     346 │ Mozart: Chamber Music                                               │      274 │\n",
       " │     347 │ Koyaanisqatsi (Soundtrack from the Motion Picture)                  │      275 │\n",
       " ├─────────┴─────────────────────────────────────────────────────────────────────┴──────────┤\n",
       " │ 347 rows (20 shown)                                                            3 columns │\n",
       " └──────────────────────────────────────────────────────────────────────────────────────────┘,\n",
       " ┌─────────┬────────────────────┐\n",
       " │ GenreId │        Name        │\n",
       " │  int32  │      varchar       │\n",
       " ├─────────┼────────────────────┤\n",
       " │       1 │ Rock               │\n",
       " │       2 │ Jazz               │\n",
       " │       3 │ Metal              │\n",
       " │       4 │ Alternative & Punk │\n",
       " │       5 │ Rock And Roll      │\n",
       " │       6 │ Blues              │\n",
       " │       7 │ Latin              │\n",
       " │       8 │ Reggae             │\n",
       " │       9 │ Pop                │\n",
       " │      10 │ Soundtrack         │\n",
       " │       · │   ·                │\n",
       " │       · │   ·                │\n",
       " │       · │   ·                │\n",
       " │      16 │ World              │\n",
       " │      17 │ Hip Hop/Rap        │\n",
       " │      18 │ Science Fiction    │\n",
       " │      19 │ TV Shows           │\n",
       " │      20 │ Sci Fi & Fantasy   │\n",
       " │      21 │ Drama              │\n",
       " │      22 │ Comedy             │\n",
       " │      23 │ Alternative        │\n",
       " │      24 │ Classical          │\n",
       " │      25 │ Opera              │\n",
       " ├─────────┴────────────────────┤\n",
       " │      25 rows (20 shown)      │\n",
       " └──────────────────────────────┘]"
      ]
     },
     "execution_count": null,
     "metadata": {},
     "output_type": "execute_result"
    }
   ],
   "source": [
    "dt['Artist', 'Album', 'Genre']"
   ]
  },
  {
   "cell_type": "markdown",
   "metadata": {},
   "source": [
    "It also provides auto-complete in Jupyter, IPython and nearly any other interactive Python environment:\n",
    "\n",
    "![Autocomplete in Jupyter](images/autocomplete.png){width=400}"
   ]
  },
  {
   "cell_type": "markdown",
   "metadata": {},
   "source": [
    "You can check if a table is in the database already:"
   ]
  },
  {
   "cell_type": "code",
   "execution_count": 7,
   "metadata": {},
   "outputs": [
    {
     "data": {
      "text/plain": [
       "True"
      ]
     },
     "execution_count": null,
     "metadata": {},
     "output_type": "execute_result"
    }
   ],
   "source": [
    "'Artist' in dt"
   ]
  },
  {
   "cell_type": "markdown",
   "metadata": {},
   "source": [
    "Column work in a similar way to tables, using the `c` property:"
   ]
  },
  {
   "cell_type": "code",
   "execution_count": 8,
   "metadata": {},
   "outputs": [
    {
     "data": {
      "text/plain": [
       "(│\n",
       " └───────────────────────────────────────────────────────────────────────────────────────────────┘\n",
       "  Columns: ArtistId, Name,\n",
       " ['ArtistId', 'Name'])"
      ]
     },
     "execution_count": null,
     "metadata": {},
     "output_type": "execute_result"
    }
   ],
   "source": [
    "ac = artist.c\n",
    "ac, artist.columns"
   ]
  },
  {
   "cell_type": "markdown",
   "metadata": {},
   "source": [
    "Auto-complete works for columns too:\n",
    "\n",
    "\n",
    "![Columns autocomplete in Jupyter](images/columns_complete.png){width=300}"
   ]
  },
  {
   "cell_type": "markdown",
   "metadata": {},
   "source": [
    "The tables and views of a database got some interesting new attributes...."
   ]
  },
  {
   "cell_type": "code",
   "execution_count": 9,
   "metadata": {},
   "outputs": [
    {
     "data": {
      "text/plain": [
       "{'base': DuckDBPyConnection (chinook_main),\n",
       " 'catalog': 'chinook',\n",
       " 'schema': 'main',\n",
       " 'name': 'Artist',\n",
       " 'type': 'BASE TABLE',\n",
       " 'comment': None,\n",
       " 'shape': (275, 2)}"
      ]
     },
     "execution_count": null,
     "metadata": {},
     "output_type": "execute_result"
    }
   ],
   "source": [
    "artist.meta"
   ]
  },
  {
   "cell_type": "code",
   "execution_count": 10,
   "metadata": {},
   "outputs": [
    {
     "data": {
      "text/plain": [
       "[{'name': 'ArtistId',\n",
       "  'type': 'INTEGER',\n",
       "  'nullable': False,\n",
       "  'default': None,\n",
       "  'pk': True},\n",
       " {'name': 'Name',\n",
       "  'type': 'VARCHAR',\n",
       "  'nullable': True,\n",
       "  'default': None,\n",
       "  'pk': False}]"
      ]
     },
     "execution_count": null,
     "metadata": {},
     "output_type": "execute_result"
    }
   ],
   "source": [
    "artist.model"
   ]
  },
  {
   "cell_type": "code",
   "execution_count": 11,
   "metadata": {},
   "outputs": [
    {
     "data": {
      "text/plain": [
       "(fastduck.core.Artist, type)"
      ]
     },
     "execution_count": null,
     "metadata": {},
     "output_type": "execute_result"
    }
   ],
   "source": [
    "artist.cls, type(artist.cls)"
   ]
  },
  {
   "cell_type": "markdown",
   "metadata": {},
   "source": [
    "`duckdb` replacement scans keep working and are wonderful for usage in SQL statements:"
   ]
  },
  {
   "cell_type": "code",
   "execution_count": 12,
   "metadata": {},
   "outputs": [
    {
     "data": {
      "text/plain": [
       "┌──────────┬─────────┐\n",
       "│ ArtistId │  Name   │\n",
       "│  int32   │ varchar │\n",
       "├──────────┼─────────┤\n",
       "│        1 │ AC/DC   │\n",
       "└──────────┴─────────┘"
      ]
     },
     "execution_count": null,
     "metadata": {},
     "output_type": "execute_result"
    }
   ],
   "source": [
    "db.sql(\"select * from artist where artist.Name like 'AC/%'\")"
   ]
  },
  {
   "cell_type": "markdown",
   "metadata": {},
   "source": [
    "You can view the results of a query as records"
   ]
  },
  {
   "cell_type": "code",
   "execution_count": 13,
   "metadata": {},
   "outputs": [
    {
     "data": {
      "text/plain": [
       "[{'ArtistId': 1, 'Name': 'AC/DC'}]"
      ]
     },
     "execution_count": null,
     "metadata": {},
     "output_type": "execute_result"
    }
   ],
   "source": [
    "db.sql(\"select * from artist where artist.Name like 'AC/%'\").to_recs()"
   ]
  },
  {
   "cell_type": "markdown",
   "metadata": {},
   "source": [
    "or as a list of lists"
   ]
  },
  {
   "cell_type": "code",
   "execution_count": 14,
   "metadata": {},
   "outputs": [
    {
     "data": {
      "text/plain": [
       "[[1, 'AC/DC']]"
      ]
     },
     "execution_count": null,
     "metadata": {},
     "output_type": "execute_result"
    }
   ],
   "source": [
    "db.sql(\"select * from artist where artist.Name like 'AC/%'\").to_list()"
   ]
  },
  {
   "cell_type": "markdown",
   "metadata": {},
   "source": [
    "And you there is also an alias for `sql` with `to_recs` simply called `q`"
   ]
  },
  {
   "cell_type": "code",
   "execution_count": 15,
   "metadata": {},
   "outputs": [
    {
     "data": {
      "text/plain": [
       "[{'ArtistId': 1, 'Name': 'AC/DC'}]"
      ]
     },
     "execution_count": null,
     "metadata": {},
     "output_type": "execute_result"
    }
   ],
   "source": [
    "db.q(\"select * from artist where artist.Name like 'AC/%'\")"
   ]
  },
  {
   "cell_type": "markdown",
   "metadata": {},
   "source": [
    "#### Dataclass support"
   ]
  },
  {
   "cell_type": "markdown",
   "metadata": {},
   "source": [
    "As we briefly saw, a  `dataclass` type with the names, types and defaults of the table is added to the Relation:"
   ]
  },
  {
   "cell_type": "code",
   "execution_count": 16,
   "metadata": {},
   "outputs": [
    {
     "data": {
      "text/plain": [
       "[{'AlbumId': 1,\n",
       "  'Title': 'For Those About To Rock We Salute You',\n",
       "  'ArtistId': 1},\n",
       " {'AlbumId': 4, 'Title': 'Let There Be Rock', 'ArtistId': 1}]"
      ]
     },
     "execution_count": null,
     "metadata": {},
     "output_type": "execute_result"
    }
   ],
   "source": [
    "abm = db.t.Album\n",
    "art = db.t.Artist\n",
    "acca_sql = f\"\"\"\n",
    "select abm.* \n",
    "from abm join art using (ArtistID)\n",
    "where art.Name like 'AC/%'\n",
    "\"\"\"\n",
    "acca_dacca = db.q(acca_sql)\n",
    "acca_dacca"
   ]
  },
  {
   "cell_type": "code",
   "execution_count": 17,
   "metadata": {},
   "outputs": [
    {
     "data": {
      "text/plain": [
       "Album(AlbumId=4, Title='Let There Be Rock', ArtistId=1)"
      ]
     },
     "execution_count": null,
     "metadata": {},
     "output_type": "execute_result"
    }
   ],
   "source": [
    "let_b_rock_obj = abm.cls(**acca_dacca[-1])\n",
    "let_b_rock_obj"
   ]
  },
  {
   "cell_type": "markdown",
   "metadata": {},
   "source": [
    "You can get the definition of the dataclass using fastcore's `dataclass_src` -- everything is treated as nullable, in order to handle auto-generated database values:"
   ]
  },
  {
   "cell_type": "code",
   "execution_count": 18,
   "metadata": {},
   "outputs": [
    {
     "data": {
      "text/markdown": [
       "```python\n",
       "@dataclass\n",
       "class Album:\n",
       "    AlbumId: int32 = None\n",
       "    Title: str = None\n",
       "    ArtistId: int32 = None\n",
       "\n",
       "```"
      ],
      "text/plain": [
       "<IPython.core.display.Markdown object>"
      ]
     },
     "execution_count": null,
     "metadata": {},
     "output_type": "execute_result"
    }
   ],
   "source": [
    "from fastcore.xtras import hl_md, dataclass_src\n",
    "\n",
    "src = dataclass_src(db.t.Album.cls)\n",
    "hl_md(src, 'python')"
   ]
  }
 ],
 "metadata": {
  "kernelspec": {
   "display_name": "python3",
   "language": "python",
   "name": "python3"
  },
  "language_info": {
   "codemirror_mode": {
    "name": "ipython",
    "version": 3
   },
   "file_extension": ".py",
   "mimetype": "text/x-python",
   "name": "python",
   "nbconvert_exporter": "python",
   "pygments_lexer": "ipython3",
   "version": "3.12.4"
  }
 },
 "nbformat": 4,
 "nbformat_minor": 4
}
