{
 "cells": [
  {
   "cell_type": "markdown",
   "metadata": {},
   "source": [
    "# fastduck\n",
    "\n",
    "> A bit of extra usability for duckdb... inspired by fastlite and sqlite_utils"
   ]
  },
  {
   "cell_type": "markdown",
   "metadata": {},
   "source": [
    "`fastduck` provides some development experience improvements for the standard `duckdb` python API. "
   ]
  },
  {
   "cell_type": "markdown",
   "metadata": {},
   "source": [
    "## Install"
   ]
  },
  {
   "cell_type": "markdown",
   "metadata": {},
   "source": [
    "```sh\n",
    "pip install fastduck\n",
    "```"
   ]
  },
  {
   "cell_type": "markdown",
   "metadata": {},
   "source": [
    "## How to use\n",
    "\n"
   ]
  },
  {
   "cell_type": "markdown",
   "metadata": {},
   "source": [
    "~~import fastduck as fuck~~"
   ]
  },
  {
   "cell_type": "code",
   "execution_count": null,
   "metadata": {},
   "outputs": [],
   "source": [
    "from fastduck import database"
   ]
  },
  {
   "cell_type": "code",
   "execution_count": null,
   "metadata": {},
   "outputs": [
    {
     "data": {
      "text/plain": [
       "DuckDBPyConnection (chinook_main)"
      ]
     },
     "execution_count": null,
     "metadata": {},
     "output_type": "execute_result"
    }
   ],
   "source": [
    "db = database('../data/chinook.duckdb')\n",
    "db"
   ]
  },
  {
   "cell_type": "code",
   "execution_count": null,
   "metadata": {},
   "outputs": [
    {
     "data": {
      "text/plain": [
       "(chinook_main) Tables: Album, Artist, Customer, Employee, Genre, Invoice, InvoiceLine, MediaType, Playlist, PlaylistTrack, Track, todos"
      ]
     },
     "execution_count": null,
     "metadata": {},
     "output_type": "execute_result"
    }
   ],
   "source": [
    "dt = db.t\n",
    "dt"
   ]
  },
  {
   "cell_type": "markdown",
   "metadata": {},
   "source": [
    "You can use this to grab a single table..."
   ]
  },
  {
   "cell_type": "code",
   "execution_count": null,
   "metadata": {},
   "outputs": [
    {
     "data": {
      "text/html": [
       "<table border=\"1\" class=\"dataframe\">\n",
       "  <thead>\n",
       "    <tr style=\"text-align: right;\">\n",
       "      <th>ArtistId</th>\n",
       "      <th>Name</th>\n",
       "    </tr>\n",
       "  </thead>\n",
       "  <tbody>\n",
       "    <tr>\n",
       "      <td>1</td>\n",
       "      <td>AC/DC</td>\n",
       "    </tr>\n",
       "    <tr>\n",
       "      <td>2</td>\n",
       "      <td>Accept</td>\n",
       "    </tr>\n",
       "    <tr>\n",
       "      <td>3</td>\n",
       "      <td>Aerosmith</td>\n",
       "    </tr>\n",
       "    <tr>\n",
       "      <td>...</td>\n",
       "      <td>...</td>\n",
       "    </tr>\n",
       "    <tr>\n",
       "      <td>274</td>\n",
       "      <td>Nash Ensemble</td>\n",
       "    </tr>\n",
       "    <tr>\n",
       "      <td>275</td>\n",
       "      <td>Philip Glass Ensemble</td>\n",
       "    </tr>\n",
       "  </tbody>\n",
       "</table><p>275 rows x  2 cols &nbsp;&nbsp;&nbsp;&nbsp;&nbsp;DuckDBPyRelation BASE_TABLE chinook.main.Artist </p>"
      ],
      "text/markdown": [
       "#### DuckDBPyRelation BASE TABLE chinook.main.Artist \n",
       "\n",
       " | ArtistId   | Name                  |\n",
       "|:-----------|:----------------------|\n",
       "| 1          | AC/DC                 |\n",
       "| 2          | Accept                |\n",
       "| 3          | Aerosmith             |\n",
       "| ...        | ...                   |\n",
       "| 274        | Nash Ensemble         |\n",
       "| 275        | Philip Glass Ensemble |\n",
       "\n",
       " 275 rows  x  2 cols "
      ],
      "text/plain": [
       "DuckDBPyRelation BASE TABLE chinook.main.Artist \n"
      ]
     },
     "execution_count": null,
     "metadata": {},
     "output_type": "execute_result"
    }
   ],
   "source": [
    "artist = dt.Artist\n",
    "artist"
   ]
  },
  {
   "cell_type": "code",
   "execution_count": null,
   "metadata": {},
   "outputs": [
    {
     "data": {
      "text/html": [
       "<table border=\"1\" class=\"dataframe\">\n",
       "  <thead>\n",
       "    <tr style=\"text-align: right;\">\n",
       "      <th>CustomerId</th>\n",
       "      <th>FirstName</th>\n",
       "      <th>LastName</th>\n",
       "      <th>Company</th>\n",
       "      <th>Address</th>\n",
       "      <th>City</th>\n",
       "      <th>State</th>\n",
       "      <th>Country</th>\n",
       "      <th>PostalCode</th>\n",
       "      <th>Phone</th>\n",
       "      <th>Fax</th>\n",
       "      <th>Email</th>\n",
       "      <th>SupportRepId</th>\n",
       "    </tr>\n",
       "  </thead>\n",
       "  <tbody>\n",
       "    <tr>\n",
       "      <td>1</td>\n",
       "      <td>Luís</td>\n",
       "      <td>Gonçalves</td>\n",
       "      <td>Embraer - Empresa Brasileira de Aeronáutica S.A.</td>\n",
       "      <td>Av. Brigadeiro Faria Lima, 2170</td>\n",
       "      <td>São José dos Campos</td>\n",
       "      <td>SP</td>\n",
       "      <td>Brazil</td>\n",
       "      <td>12227-000</td>\n",
       "      <td>+55 (12) 3923-5555</td>\n",
       "      <td>+55 (12) 3923-5566</td>\n",
       "      <td>luisg@embraer.com.br</td>\n",
       "      <td>3</td>\n",
       "    </tr>\n",
       "    <tr>\n",
       "      <td>2</td>\n",
       "      <td>Leonie</td>\n",
       "      <td>Köhler</td>\n",
       "      <td>None</td>\n",
       "      <td>Theodor-Heuss-Straße 34</td>\n",
       "      <td>Stuttgart</td>\n",
       "      <td>None</td>\n",
       "      <td>Germany</td>\n",
       "      <td>70174</td>\n",
       "      <td>+49 0711 2842222</td>\n",
       "      <td>None</td>\n",
       "      <td>leonekohler@surfeu.de</td>\n",
       "      <td>5</td>\n",
       "    </tr>\n",
       "    <tr>\n",
       "      <td>3</td>\n",
       "      <td>François</td>\n",
       "      <td>Tremblay</td>\n",
       "      <td>None</td>\n",
       "      <td>1498 rue Bélanger</td>\n",
       "      <td>Montréal</td>\n",
       "      <td>QC</td>\n",
       "      <td>Canada</td>\n",
       "      <td>H2G 1A7</td>\n",
       "      <td>+1 (514) 721-4711</td>\n",
       "      <td>None</td>\n",
       "      <td>ftremblay@gmail.com</td>\n",
       "      <td>3</td>\n",
       "    </tr>\n",
       "    <tr>\n",
       "      <td>...</td>\n",
       "      <td>...</td>\n",
       "      <td>...</td>\n",
       "      <td>...</td>\n",
       "      <td>...</td>\n",
       "      <td>...</td>\n",
       "      <td>...</td>\n",
       "      <td>...</td>\n",
       "      <td>...</td>\n",
       "      <td>...</td>\n",
       "      <td>...</td>\n",
       "      <td>...</td>\n",
       "      <td>...</td>\n",
       "    </tr>\n",
       "    <tr>\n",
       "      <td>58</td>\n",
       "      <td>Manoj</td>\n",
       "      <td>Pareek</td>\n",
       "      <td>None</td>\n",
       "      <td>12,Community Centre</td>\n",
       "      <td>Delhi</td>\n",
       "      <td>None</td>\n",
       "      <td>India</td>\n",
       "      <td>110017</td>\n",
       "      <td>+91 0124 39883988</td>\n",
       "      <td>None</td>\n",
       "      <td>manoj.pareek@rediff.com</td>\n",
       "      <td>3</td>\n",
       "    </tr>\n",
       "    <tr>\n",
       "      <td>59</td>\n",
       "      <td>Puja</td>\n",
       "      <td>Srivastava</td>\n",
       "      <td>None</td>\n",
       "      <td>3,Raj Bhavan Road</td>\n",
       "      <td>Bangalore</td>\n",
       "      <td>None</td>\n",
       "      <td>India</td>\n",
       "      <td>560001</td>\n",
       "      <td>+91 080 22289999</td>\n",
       "      <td>None</td>\n",
       "      <td>puja_srivastava@yahoo.in</td>\n",
       "      <td>3</td>\n",
       "    </tr>\n",
       "  </tbody>\n",
       "</table><p>59 rows x  13 cols &nbsp;&nbsp;&nbsp;&nbsp;&nbsp;DuckDBPyRelation BASE_TABLE chinook.main.Customer </p>"
      ],
      "text/markdown": [
       "#### DuckDBPyRelation BASE TABLE chinook.main.Customer \n",
       "\n",
       " | CustomerId   | FirstName   | LastName   | Company                                          | Address                         | City                | State   | Country   | PostalCode   | Phone              | Fax                | Email                    | SupportRepId   |\n",
       "|:-------------|:------------|:-----------|:-------------------------------------------------|:--------------------------------|:--------------------|:--------|:----------|:-------------|:-------------------|:-------------------|:-------------------------|:---------------|\n",
       "| 1            | Luís        | Gonçalves  | Embraer - Empresa Brasileira de Aeronáutica S.A. | Av. Brigadeiro Faria Lima, 2170 | São José dos Campos | SP      | Brazil    | 12227-000    | +55 (12) 3923-5555 | +55 (12) 3923-5566 | luisg@embraer.com.br     | 3              |\n",
       "| 2            | Leonie      | Köhler     |                                                  | Theodor-Heuss-Straße 34         | Stuttgart           |         | Germany   | 70174        | +49 0711 2842222   |                    | leonekohler@surfeu.de    | 5              |\n",
       "| 3            | François    | Tremblay   |                                                  | 1498 rue Bélanger               | Montréal            | QC      | Canada    | H2G 1A7      | +1 (514) 721-4711  |                    | ftremblay@gmail.com      | 3              |\n",
       "| ...          | ...         | ...        | ...                                              | ...                             | ...                 | ...     | ...       | ...          | ...                | ...                | ...                      | ...            |\n",
       "| 58           | Manoj       | Pareek     |                                                  | 12,Community Centre             | Delhi               |         | India     | 110017       | +91 0124 39883988  |                    | manoj.pareek@rediff.com  | 3              |\n",
       "| 59           | Puja        | Srivastava |                                                  | 3,Raj Bhavan Road               | Bangalore           |         | India     | 560001       | +91 080 22289999   |                    | puja_srivastava@yahoo.in | 3              |\n",
       "\n",
       " 59 rows  x  13 cols "
      ],
      "text/plain": [
       "DuckDBPyRelation BASE TABLE chinook.main.Customer \n"
      ]
     },
     "execution_count": null,
     "metadata": {},
     "output_type": "execute_result"
    }
   ],
   "source": [
    "customer = dt['Customer']\n",
    "customer"
   ]
  },
  {
   "cell_type": "markdown",
   "metadata": {},
   "source": [
    "... or multiple tables at once:"
   ]
  },
  {
   "cell_type": "code",
   "execution_count": null,
   "metadata": {},
   "outputs": [
    {
     "data": {
      "text/plain": [
       "[DuckDBPyRelation BASE TABLE chinook.main.Artist \n",
       " ,\n",
       " DuckDBPyRelation BASE TABLE chinook.main.Album \n",
       " ,\n",
       " DuckDBPyRelation BASE TABLE chinook.main.Genre \n",
       " ]"
      ]
     },
     "execution_count": null,
     "metadata": {},
     "output_type": "execute_result"
    }
   ],
   "source": [
    "dt['Artist', 'Album', 'Genre']"
   ]
  },
  {
   "cell_type": "markdown",
   "metadata": {},
   "source": [
    "It also provides auto-complete in Jupyter, IPython and nearly any other interactive Python environment:\n",
    "\n",
    "![Autocomplete in Jupyter](images/autocomplete.png){width=400}"
   ]
  },
  {
   "cell_type": "markdown",
   "metadata": {},
   "source": [
    "You can check if a table is in the database already:"
   ]
  },
  {
   "cell_type": "code",
   "execution_count": null,
   "metadata": {},
   "outputs": [
    {
     "data": {
      "text/plain": [
       "True"
      ]
     },
     "execution_count": null,
     "metadata": {},
     "output_type": "execute_result"
    }
   ],
   "source": [
    "'Artist' in dt"
   ]
  },
  {
   "cell_type": "markdown",
   "metadata": {},
   "source": [
    "Column work in a similar way to tables, using the `c` property:"
   ]
  },
  {
   "cell_type": "code",
   "execution_count": null,
   "metadata": {},
   "outputs": [
    {
     "data": {
      "text/plain": [
       "(chinook.main.Artist Columns: ArtistId, Name, ['ArtistId', 'Name'])"
      ]
     },
     "execution_count": null,
     "metadata": {},
     "output_type": "execute_result"
    }
   ],
   "source": [
    "ac = artist.c\n",
    "ac, artist.columns"
   ]
  },
  {
   "cell_type": "markdown",
   "metadata": {},
   "source": [
    "Auto-complete works for columns too:\n",
    "\n",
    "\n",
    "![Columns autocomplete in Jupyter](images/columns_complete.png){width=300}"
   ]
  },
  {
   "cell_type": "markdown",
   "metadata": {},
   "source": [
    "The tables and views of a database got some interesting new attributes...."
   ]
  },
  {
   "cell_type": "code",
   "execution_count": null,
   "metadata": {},
   "outputs": [
    {
     "data": {
      "text/plain": [
       "{'base': DuckDBPyConnection (chinook_main),\n",
       " 'catalog': 'chinook',\n",
       " 'schema': 'main',\n",
       " 'name': 'Artist',\n",
       " 'type': 'BASE TABLE',\n",
       " 'comment': None,\n",
       " 'shape': (275, 2)}"
      ]
     },
     "execution_count": null,
     "metadata": {},
     "output_type": "execute_result"
    }
   ],
   "source": [
    "artist.meta"
   ]
  },
  {
   "cell_type": "code",
   "execution_count": null,
   "metadata": {},
   "outputs": [
    {
     "data": {
      "text/plain": [
       "[{'name': 'ArtistId',\n",
       "  'type': 'INTEGER',\n",
       "  'nullable': False,\n",
       "  'default': None,\n",
       "  'pk': True},\n",
       " {'name': 'Name',\n",
       "  'type': 'VARCHAR',\n",
       "  'nullable': True,\n",
       "  'default': None,\n",
       "  'pk': False}]"
      ]
     },
     "execution_count": null,
     "metadata": {},
     "output_type": "execute_result"
    }
   ],
   "source": [
    "artist.model"
   ]
  },
  {
   "cell_type": "code",
   "execution_count": null,
   "metadata": {},
   "outputs": [
    {
     "data": {
      "text/plain": [
       "(fastduck.core.Artist, type)"
      ]
     },
     "execution_count": null,
     "metadata": {},
     "output_type": "execute_result"
    }
   ],
   "source": [
    "artist.cls, type(artist.cls)"
   ]
  },
  {
   "cell_type": "markdown",
   "metadata": {},
   "source": [
    "`duckdb` replacement scans keep working and are wonderful for usage in SQL statements:"
   ]
  },
  {
   "cell_type": "code",
   "execution_count": null,
   "metadata": {},
   "outputs": [
    {
     "data": {
      "text/html": [
       "<table border=\"1\" class=\"dataframe\">\n",
       "  <thead>\n",
       "    <tr style=\"text-align: right;\">\n",
       "      <th>ArtistId</th>\n",
       "      <th>Name</th>\n",
       "    </tr>\n",
       "  </thead>\n",
       "  <tbody>\n",
       "    <tr>\n",
       "      <td>1</td>\n",
       "      <td>AC/DC</td>\n",
       "    </tr>\n",
       "  </tbody>\n",
       "</table><p>1 rows x  2 cols &nbsp;&nbsp;&nbsp;&nbsp;&nbsp;DuckDBPyRelation   </p>"
      ],
      "text/markdown": [
       "#### DuckDBPyRelation   \n",
       "\n",
       " |   ArtistId | Name   |\n",
       "|-----------:|:-------|\n",
       "|          1 | AC/DC  |\n",
       "\n",
       " 1 rows  x  2 cols "
      ],
      "text/plain": [
       "DuckDBPyRelation   \n"
      ]
     },
     "execution_count": null,
     "metadata": {},
     "output_type": "execute_result"
    }
   ],
   "source": [
    "db.sql(\"select * from artist where artist.Name like 'AC/%'\")"
   ]
  },
  {
   "cell_type": "markdown",
   "metadata": {},
   "source": [
    "You can view the results of a query as records"
   ]
  },
  {
   "cell_type": "code",
   "execution_count": null,
   "metadata": {},
   "outputs": [
    {
     "data": {
      "text/plain": [
       "[{'ArtistId': 1, 'Name': 'AC/DC'}]"
      ]
     },
     "execution_count": null,
     "metadata": {},
     "output_type": "execute_result"
    }
   ],
   "source": [
    "db.sql(\"select * from artist where artist.Name like 'AC/%'\").to_recs()"
   ]
  },
  {
   "cell_type": "markdown",
   "metadata": {},
   "source": [
    "or as a list of lists"
   ]
  },
  {
   "cell_type": "code",
   "execution_count": null,
   "metadata": {},
   "outputs": [
    {
     "data": {
      "text/plain": [
       "[[1, 'AC/DC']]"
      ]
     },
     "execution_count": null,
     "metadata": {},
     "output_type": "execute_result"
    }
   ],
   "source": [
    "db.sql(\"select * from artist where artist.Name like 'AC/%'\").to_list()"
   ]
  },
  {
   "cell_type": "markdown",
   "metadata": {},
   "source": [
    "And you there is also an alias for `sql` with `to_recs` simply called `q`"
   ]
  },
  {
   "cell_type": "code",
   "execution_count": null,
   "metadata": {},
   "outputs": [
    {
     "data": {
      "text/plain": [
       "[{'ArtistId': 1, 'Name': 'AC/DC'}]"
      ]
     },
     "execution_count": null,
     "metadata": {},
     "output_type": "execute_result"
    }
   ],
   "source": [
    "db.q(\"select * from artist where artist.Name like 'AC/%'\")"
   ]
  },
  {
   "cell_type": "markdown",
   "metadata": {},
   "source": [
    "#### Dataclass support"
   ]
  },
  {
   "cell_type": "markdown",
   "metadata": {},
   "source": [
    "As we briefly saw, a  `dataclass` type with the names, types and defaults of the table is added to the Relation:"
   ]
  },
  {
   "cell_type": "code",
   "execution_count": null,
   "metadata": {},
   "outputs": [
    {
     "data": {
      "text/plain": [
       "[{'AlbumId': 1,\n",
       "  'Title': 'For Those About To Rock We Salute You',\n",
       "  'ArtistId': 1},\n",
       " {'AlbumId': 4, 'Title': 'Let There Be Rock', 'ArtistId': 1}]"
      ]
     },
     "execution_count": null,
     "metadata": {},
     "output_type": "execute_result"
    }
   ],
   "source": [
    "abm = db.t.Album\n",
    "art = db.t.Artist\n",
    "acca_sql = f\"\"\"\n",
    "select abm.* \n",
    "from abm join art using (ArtistID)\n",
    "where art.Name like 'AC/%'\n",
    "\"\"\"\n",
    "acca_dacca = db.q(acca_sql)\n",
    "acca_dacca"
   ]
  },
  {
   "cell_type": "code",
   "execution_count": null,
   "metadata": {},
   "outputs": [
    {
     "data": {
      "text/plain": [
       "Album(AlbumId=4, Title='Let There Be Rock', ArtistId=1)"
      ]
     },
     "execution_count": null,
     "metadata": {},
     "output_type": "execute_result"
    }
   ],
   "source": [
    "let_b_rock_obj = abm.cls(**acca_dacca[-1])\n",
    "let_b_rock_obj"
   ]
  },
  {
   "cell_type": "markdown",
   "metadata": {},
   "source": [
    "You can get the definition of the dataclass using fastcore's `dataclass_src` -- everything is treated as nullable, in order to handle auto-generated database values:"
   ]
  },
  {
   "cell_type": "code",
   "execution_count": null,
   "metadata": {},
   "outputs": [
    {
     "data": {
      "text/markdown": [
       "```python\n",
       "@dataclass\n",
       "class Album:\n",
       "    AlbumId: int32 = None\n",
       "    Title: str = None\n",
       "    ArtistId: int32 = None\n",
       "\n",
       "```"
      ],
      "text/plain": [
       "<IPython.core.display.Markdown object>"
      ]
     },
     "execution_count": null,
     "metadata": {},
     "output_type": "execute_result"
    }
   ],
   "source": [
    "from fastcore.xtras import hl_md, dataclass_src\n",
    "\n",
    "src = dataclass_src(db.t.Album.cls)\n",
    "hl_md(src, 'python')"
   ]
  }
 ],
 "metadata": {
  "kernelspec": {
   "display_name": "python3",
   "language": "python",
   "name": "python3"
  }
 },
 "nbformat": 4,
 "nbformat_minor": 4
}
