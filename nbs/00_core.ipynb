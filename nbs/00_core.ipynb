{
 "cells": [
  {
   "cell_type": "code",
   "execution_count": 1,
   "metadata": {},
   "outputs": [],
   "source": [
    "#| default_exp core"
   ]
  },
  {
   "cell_type": "code",
   "execution_count": 2,
   "metadata": {},
   "outputs": [],
   "source": [
    "from __future__ import annotations\n",
    "import duckdb\n",
    "from duckdb import DuckDBPyConnection\n",
    "from duckdb import DuckDBPyRelation\n",
    "from typing import List, Dict, Optional, Union, Any, Tuple, Set\n",
    "from fastcore.all import store_attr, patch, L\n",
    "import numpy as np\n",
    "import pandas as pd\n",
    "from dataclasses import field, make_dataclass\n",
    "\n",
    "from functools import wraps, partial"
   ]
  },
  {
   "cell_type": "code",
   "execution_count": 3,
   "metadata": {},
   "outputs": [
    {
     "data": {
      "text/plain": [
       "<duckdb.duckdb.DuckDBPyConnection at 0xffffb00a8230>"
      ]
     },
     "execution_count": 3,
     "metadata": {},
     "output_type": "execute_result"
    }
   ],
   "source": [
    "db = duckdb.connect('../data/chinook.duckdb')\n",
    "db"
   ]
  },
  {
   "cell_type": "code",
   "execution_count": 4,
   "metadata": {},
   "outputs": [],
   "source": [
    "#| export\n",
    "@patch(as_prop=True)\n",
    "def table_names(self: DuckDBPyConnection): \n",
    "    return [r[0] for r in db.sql(f\"SELECT table_name FROM duckdb_tables() WHERE schema_name = current_schema()\").fetchall()]\n",
    "@patch(as_prop=True)\n",
    "def view_names(self: DuckDBPyConnection): \n",
    "    return [r[0] for r in db.sql(f\"SELECT view_name FROM duckdb_views() WHERE schema_name = current_schema() and internal = False\").fetchall()]\n",
    "@patch(as_prop=True)\n",
    "def function_names(self: DuckDBPyConnection): \n",
    "    return [r[0] for r in db.sql(f\"SELECT function_name FROM duckdb_functions() WHERE schema_name = current_schema() and internal=False\").fetchall()]"
   ]
  },
  {
   "cell_type": "code",
   "execution_count": 5,
   "metadata": {},
   "outputs": [
    {
     "data": {
      "text/plain": [
       "(['Album',\n",
       "  'Artist',\n",
       "  'Customer',\n",
       "  'Employee',\n",
       "  'Genre',\n",
       "  'Invoice',\n",
       "  'InvoiceLine',\n",
       "  'MediaType',\n",
       "  'Playlist',\n",
       "  'PlaylistTrack',\n",
       "  'Track'],\n",
       " ['a_view', 'temp_view'],\n",
       " [])"
      ]
     },
     "execution_count": 5,
     "metadata": {},
     "output_type": "execute_result"
    }
   ],
   "source": [
    "db.table_names, db.view_names, db.function_names"
   ]
  },
  {
   "cell_type": "code",
   "execution_count": 6,
   "metadata": {},
   "outputs": [
    {
     "name": "stdout",
     "output_type": "stream",
     "text": [
      "┌─────────┬──────────────────────┬─────────┬───┬──────────────────────┬──────────────┬──────────┬───────────────┐\n",
      "│ TrackId │         Name         │ AlbumId │ … │       Composer       │ Milliseconds │  Bytes   │   UnitPrice   │\n",
      "│  int32  │       varchar        │  int32  │   │       varchar        │    int32     │  int32   │ decimal(10,2) │\n",
      "├─────────┼──────────────────────┼─────────┼───┼──────────────────────┼──────────────┼──────────┼───────────────┤\n",
      "│       1 │ For Those About To…  │       1 │ … │ Angus Young, Malco…  │       343719 │ 11170334 │          0.98 │\n",
      "│       2 │ Balls to the Wall    │       2 │ … │ NULL                 │       342562 │  5510424 │          0.98 │\n",
      "│       3 │ Fast As a Shark      │       3 │ … │ F. Baltes, S. Kauf…  │       230619 │  3990994 │          0.98 │\n",
      "│       4 │ Restless and Wild    │       3 │ … │ F. Baltes, R.A. Sm…  │       252051 │  4331779 │          0.98 │\n",
      "│       5 │ Princess of the Dawn │       3 │ … │ Deaffy & R.A. Smit…  │       375418 │  6290521 │          0.98 │\n",
      "│       6 │ Put The Finger On …  │       1 │ … │ Angus Young, Malco…  │       205662 │  6713451 │          0.98 │\n",
      "│       7 │ Let's Get It Up      │       1 │ … │ Angus Young, Malco…  │       233926 │  7636561 │          0.98 │\n",
      "│       8 │ Inject The Venom     │       1 │ … │ Angus Young, Malco…  │       210834 │  6852860 │          0.98 │\n",
      "│       9 │ Snowballed           │       1 │ … │ Angus Young, Malco…  │       203102 │  6599424 │          0.98 │\n",
      "│      10 │ Evil Walks           │       1 │ … │ Angus Young, Malco…  │       263497 │  8611245 │          0.98 │\n",
      "│       · │     ·                │       · │ · │      ·               │          ·   │     ·    │            ·  │\n",
      "│       · │     ·                │       · │ · │      ·               │          ·   │     ·    │            ·  │\n",
      "│       · │     ·                │       · │ · │      ·               │          ·   │     ·    │            ·  │\n",
      "│    3494 │ Symphony No. 2, Op…  │     338 │ … │ Carl Nielsen         │       286998 │  4834785 │          0.98 │\n",
      "│    3495 │ 24 Caprices, Op. 1…  │     339 │ … │ Niccolò Paganini     │       265541 │  4371533 │          0.98 │\n",
      "│    3496 │ Étude 1, In C Majo…  │     340 │ … │ NULL                 │        51780 │  2229617 │          0.98 │\n",
      "│    3497 │ Erlkonig, D.328      │     341 │ … │ NULL                 │       261849 │  4307907 │          0.98 │\n",
      "│    3498 │ Concerto for Violi…  │     342 │ … │ Pietro Antonio Loc…  │       493573 │ 16454937 │          0.98 │\n",
      "│    3499 │ Pini Di Roma (Pini…  │     343 │ … │ NULL                 │       286741 │  4718950 │          0.98 │\n",
      "│    3500 │ String Quartet No.…  │     344 │ … │ Franz Schubert       │       139200 │  2283131 │          0.98 │\n",
      "│    3501 │ L'orfeo, Act 3, Si…  │     345 │ … │ Claudio Monteverdi   │        66639 │  1189062 │          0.98 │\n",
      "│    3502 │ Quintet for Horn, …  │     346 │ … │ Wolfgang Amadeus M…  │       221331 │  3665114 │          0.98 │\n",
      "│    3503 │ Koyaanisqatsi        │     347 │ … │ Philip Glass         │       206005 │  3305164 │          0.98 │\n",
      "├─────────┴──────────────────────┴─────────┴───┴──────────────────────┴──────────────┴──────────┴───────────────┤\n",
      "│ 3503 rows (20 shown)                                                                      9 columns (7 shown) │\n",
      "└───────────────────────────────────────────────────────────────────────────────────────────────────────────────┘\n",
      "\n"
     ]
    }
   ],
   "source": [
    "album = db.sql(\"select * from Album\").set_alias('Album')\n",
    "a_view = db.sql(\"select * from a_view\")\n",
    "a_view.show()"
   ]
  },
  {
   "cell_type": "code",
   "execution_count": 7,
   "metadata": {},
   "outputs": [],
   "source": [
    "#| export\n",
    "\n",
    "@patch(as_prop=True) # alias for alias\n",
    "def name(self:DuckDBPyRelation): return self.alias\n",
    "\n",
    "@patch # use __getitem__ as select\n",
    "def __getitem__(self:DuckDBPyRelation, idxs) -> DuckDBPyRelation:\n",
    "    return self.select(*idxs) if isinstance(idxs, Union[List, Set, Tuple]) else self.select(idxs)\n",
    "@patch \n",
    "def to_recs(self:DuckDBPyRelation) -> List[Dict[str, Any]]:\n",
    "    return self.df().to_dict(orient='records')\n",
    "\n",
    "@patch \n",
    "def q(self:DuckDBPyConnection, *args, **kwargs) -> List[Dict[str, Any]]:\n",
    "    return self.sql(*args, **kwargs).to_recs()"
   ]
  },
  {
   "cell_type": "code",
   "execution_count": 8,
   "metadata": {},
   "outputs": [
    {
     "data": {
      "text/plain": [
       "[{'table_name': 'Album'},\n",
       " {'table_name': 'Artist'},\n",
       " {'table_name': 'Customer'},\n",
       " {'table_name': 'Employee'},\n",
       " {'table_name': 'Genre'},\n",
       " {'table_name': 'Invoice'},\n",
       " {'table_name': 'InvoiceLine'},\n",
       " {'table_name': 'MediaType'},\n",
       " {'table_name': 'Playlist'},\n",
       " {'table_name': 'PlaylistTrack'},\n",
       " {'table_name': 'Track'}]"
      ]
     },
     "execution_count": 8,
     "metadata": {},
     "output_type": "execute_result"
    }
   ],
   "source": [
    "db.q(f\"SELECT table_name FROM duckdb_tables() WHERE schema_name = current_schema()\")"
   ]
  },
  {
   "cell_type": "code",
   "execution_count": 9,
   "metadata": {},
   "outputs": [
    {
     "data": {
      "text/plain": [
       "['a_view', 'temp_view']"
      ]
     },
     "execution_count": 9,
     "metadata": {},
     "output_type": "execute_result"
    }
   ],
   "source": [
    "db.view_names"
   ]
  },
  {
   "cell_type": "code",
   "execution_count": 10,
   "metadata": {},
   "outputs": [],
   "source": [
    "#| export\n",
    "\n",
    "@patch # use __getitem__ as select\n",
    "def __getitem__(self:DuckDBPyRelation, idxs):\n",
    "    return self.select(*idxs) if isinstance(idxs, Union[List, Set, Tuple]) else self.select(idxs)"
   ]
  },
  {
   "cell_type": "code",
   "execution_count": 11,
   "metadata": {},
   "outputs": [
    {
     "data": {
      "text/plain": [
       "┌─────────┬─────────────────────────────────────────────────────────────────────┐\n",
       "│ AlbumId │                                Title                                │\n",
       "│  int32  │                               varchar                               │\n",
       "├─────────┼─────────────────────────────────────────────────────────────────────┤\n",
       "│       1 │ For Those About To Rock We Salute You                               │\n",
       "│       2 │ Balls to the Wall                                                   │\n",
       "│       3 │ Restless and Wild                                                   │\n",
       "│       4 │ Let There Be Rock                                                   │\n",
       "│       5 │ Big Ones                                                            │\n",
       "│       6 │ Jagged Little Pill                                                  │\n",
       "│       7 │ Facelift                                                            │\n",
       "│       8 │ Warner 25 Anos                                                      │\n",
       "│       9 │ Plays Metallica By Four Cellos                                      │\n",
       "│      10 │ Audioslave                                                          │\n",
       "│       · │     ·                                                               │\n",
       "│       · │     ·                                                               │\n",
       "│       · │     ·                                                               │\n",
       "│     338 │ Nielsen: The Six Symphonies                                         │\n",
       "│     339 │ Great Recordings of the Century: Paganini's 24 Caprices             │\n",
       "│     340 │ Liszt - 12 Études D'Execution Transcendante                         │\n",
       "│     341 │ Great Recordings of the Century - Shubert: Schwanengesang, 4 Lieder │\n",
       "│     342 │ Locatelli: Concertos for Violin, Strings and Continuo, Vol. 3       │\n",
       "│     343 │ Respighi:Pines of Rome                                              │\n",
       "│     344 │ Schubert: The Late String Quartets & String Quintet (3 CD's)        │\n",
       "│     345 │ Monteverdi: L'Orfeo                                                 │\n",
       "│     346 │ Mozart: Chamber Music                                               │\n",
       "│     347 │ Koyaanisqatsi (Soundtrack from the Motion Picture)                  │\n",
       "├─────────┴─────────────────────────────────────────────────────────────────────┤\n",
       "│ 347 rows (20 shown)                                                 2 columns │\n",
       "└───────────────────────────────────────────────────────────────────────────────┘"
      ]
     },
     "execution_count": 11,
     "metadata": {},
     "output_type": "execute_result"
    }
   ],
   "source": [
    "album = db.sql(\"select * from Album\")\n",
    "album['AlbumId', 'Title']"
   ]
  },
  {
   "cell_type": "code",
   "execution_count": 12,
   "metadata": {},
   "outputs": [
    {
     "data": {
      "text/plain": [
       "(['AlbumId', 'Title', 'ArtistId'],\n",
       " [INTEGER, VARCHAR, INTEGER],\n",
       " 'unnamed_relation_94551e7d8c2ca735')"
      ]
     },
     "execution_count": 12,
     "metadata": {},
     "output_type": "execute_result"
    }
   ],
   "source": [
    "album.columns, album.types, album.name"
   ]
  },
  {
   "cell_type": "code",
   "execution_count": 13,
   "metadata": {},
   "outputs": [
    {
     "data": {
      "text/plain": [
       "[(0, 'AlbumId', 'INTEGER', True, None, True),\n",
       " (1, 'Title', 'VARCHAR', True, None, False),\n",
       " (2, 'ArtistId', 'INTEGER', True, None, False)]"
      ]
     },
     "execution_count": 13,
     "metadata": {},
     "output_type": "execute_result"
    }
   ],
   "source": [
    "#column_name, column_type, notnull, dflt_value, pk\n",
    "db.sql(f\"PRAGMA table_info=album\").fetchall() "
   ]
  },
  {
   "cell_type": "code",
   "execution_count": 14,
   "metadata": {},
   "outputs": [],
   "source": [
    "#| export\n",
    "\n",
    "@patch\n",
    "def datamodel(self: DuckDBPyConnection, table_name:str) ->List[Dict]:\n",
    "    info =  self.sql(f\"PRAGMA table_info='{table_name}'\").fetchall()\n",
    "    return [{'name': r[1], 'type': r[2], 'nullable': not r[3], 'default': r[4], 'pk': r[5]} for r in info]"
   ]
  },
  {
   "cell_type": "code",
   "execution_count": 15,
   "metadata": {},
   "outputs": [],
   "source": [
    "#| export\n",
    "\n",
    "from dataclasses import field, make_dataclass\n",
    "def convertTypes(s:str)->type:\n",
    "    d = {\n",
    "        # Built-in types\n",
    "        'BOOLEAN': bool,\n",
    "        'BLOB': bytearray,  # For bytes, bytearray can be used in Python\n",
    "        'DOUBLE': float,\n",
    "        'BIGINT': int,\n",
    "        'VARCHAR': str,\n",
    "    \n",
    "        # NumPy DTypes\n",
    "        'FLOAT': np.float32,\n",
    "        'DOUBLE': np.float64,\n",
    "        'SMALLINT': np.int16,\n",
    "        'INTEGER': np.int32,\n",
    "        'BIGINT': np.int64,\n",
    "        'TINYINT': np.int8,\n",
    "        'USMALLINT': np.uint16,\n",
    "        'UINTEGER': np.uint32,\n",
    "        'UBIGINT': np.uint64,\n",
    "        'UTINYINT': np.uint8\n",
    "    }\n",
    "    if s in d: return d[s]\n",
    "    if s[:7]=='DECIMAL': return float\n",
    "    return None\n"
   ]
  },
  {
   "cell_type": "code",
   "execution_count": 16,
   "metadata": {},
   "outputs": [],
   "source": [
    "#| export\n",
    "\n",
    "@patch\n",
    "def _metadata(self: DuckDBPyConnection,name:str, type:str='table') -> Dict:\n",
    "    table = (self.table(name) if type == 'table' else self.view(name))\n",
    "    query = f\"select comment from duckdb_{type}s() \"\n",
    "    where = f\"where {type}_name = '{name}' and \"\n",
    "    where +=f\"schema_name = current_schema() and internal = False\"\n",
    "    meta = self.sql(query+where).to_recs()[0]\n",
    "    meta['row_count'] = table.shape[0]\n",
    "    meta['col_count'] = table.shape[1]  \n",
    "    return meta\n",
    "@patch\n",
    "def metadata(self: DuckDBPyConnection, name:str) -> Dict:\n",
    "    if name in self.table_names: return self._metadata(name, 'table')\n",
    "    else: return self._metadata(name, 'view')"
   ]
  },
  {
   "cell_type": "code",
   "execution_count": 17,
   "metadata": {},
   "outputs": [
    {
     "data": {
      "text/plain": [
       "{'comment': 'Album table', 'row_count': 347, 'col_count': 3}"
      ]
     },
     "execution_count": 17,
     "metadata": {},
     "output_type": "execute_result"
    }
   ],
   "source": [
    "#add comment to table information_schema in duckdb\n",
    "db.sql(\"COMMENT ON TABLE Album IS 'Album table'\")\n",
    "db.metadata('Album')"
   ]
  },
  {
   "cell_type": "code",
   "execution_count": 18,
   "metadata": {},
   "outputs": [
    {
     "data": {
      "text/plain": [
       "{'comment': 'Just a view', 'row_count': 3503, 'col_count': 9}"
      ]
     },
     "execution_count": 18,
     "metadata": {},
     "output_type": "execute_result"
    }
   ],
   "source": [
    "db.sql(\"COMMENT ON VIEW a_view IS 'Just a view'\")\n",
    "db.metadata('a_view')"
   ]
  },
  {
   "cell_type": "code",
   "execution_count": 19,
   "metadata": {},
   "outputs": [],
   "source": [
    "#| export\n",
    "\n",
    "@patch\n",
    "def dataclass(self: DuckDBPyConnection, table_name:str, pref='', suf='') -> type:\n",
    "   fields = self.datamodel(table_name)\n",
    "   fields = [(pref+f['name']+suf, convertTypes(f['type']) if not f['nullable'] else convertTypes(f['type'])|None , field(default=f['default'])) for f in fields]\n",
    "   return make_dataclass(table_name, fields)"
   ]
  },
  {
   "cell_type": "code",
   "execution_count": 20,
   "metadata": {},
   "outputs": [
    {
     "data": {
      "text/plain": [
       "__main__.a_view"
      ]
     },
     "execution_count": 20,
     "metadata": {},
     "output_type": "execute_result"
    }
   ],
   "source": [
    "db.dataclass('a_view')"
   ]
  },
  {
   "cell_type": "code",
   "execution_count": 21,
   "metadata": {},
   "outputs": [],
   "source": [
    "from fastcore.xtras import hl_md, dataclass_src"
   ]
  },
  {
   "cell_type": "code",
   "execution_count": 22,
   "metadata": {},
   "outputs": [
    {
     "data": {
      "text/markdown": [
       "```python\n",
       "@dataclass\n",
       "class Artist:\n",
       "    ArtistId: int32 = None\n",
       "    Name: str | None = None\n",
       "\n",
       "```"
      ],
      "text/plain": [
       "<IPython.core.display.Markdown object>"
      ]
     },
     "execution_count": 22,
     "metadata": {},
     "output_type": "execute_result"
    }
   ],
   "source": [
    "artist_dc = db.dataclass('Artist')\n",
    "src = dataclass_src(artist_dc)\n",
    "hl_md(src, 'python')"
   ]
  },
  {
   "cell_type": "code",
   "execution_count": 23,
   "metadata": {},
   "outputs": [
    {
     "data": {
      "text/plain": [
       "Artist(ArtistId=1, Name='AC/DC')"
      ]
     },
     "execution_count": 23,
     "metadata": {},
     "output_type": "execute_result"
    }
   ],
   "source": [
    "acdc = db.q(f\"select * from artist where artist.Name like 'AC/%'\")\n",
    "acdc_object = artist_dc(**acdc[0])\n",
    "acdc_object"
   ]
  },
  {
   "cell_type": "markdown",
   "metadata": {},
   "source": [
    "I you know the name of the tables and columns, duckdb Python API has a nice scan feature"
   ]
  },
  {
   "cell_type": "code",
   "execution_count": 24,
   "metadata": {},
   "outputs": [
    {
     "data": {
      "text/plain": [
       "┌────────────┐\n",
       "│  ArtistId  │\n",
       "│   int32    │\n",
       "├────────────┤\n",
       "│          1 │\n",
       "│          2 │\n",
       "│          2 │\n",
       "│          1 │\n",
       "│          3 │\n",
       "│          4 │\n",
       "│          5 │\n",
       "│          6 │\n",
       "│          7 │\n",
       "│          8 │\n",
       "│          · │\n",
       "│          · │\n",
       "│          · │\n",
       "│        267 │\n",
       "│        268 │\n",
       "│        269 │\n",
       "│        270 │\n",
       "│        271 │\n",
       "│        226 │\n",
       "│        272 │\n",
       "│        273 │\n",
       "│        274 │\n",
       "│        275 │\n",
       "├────────────┤\n",
       "│  347 rows  │\n",
       "│ (20 shown) │\n",
       "└────────────┘"
      ]
     },
     "execution_count": 24,
     "metadata": {},
     "output_type": "execute_result"
    }
   ],
   "source": [
    "a = db.table('Album') # you must know the name of the tables\n",
    "a.ArtistId # you must know the name of the column"
   ]
  },
  {
   "cell_type": "code",
   "execution_count": 25,
   "metadata": {},
   "outputs": [
    {
     "data": {
      "text/plain": [
       "┌─────────┬───────────────────────────────────────┬──────────┐\n",
       "│ AlbumId │                 Title                 │ ArtistId │\n",
       "│  int32  │                varchar                │  int32   │\n",
       "├─────────┼───────────────────────────────────────┼──────────┤\n",
       "│       1 │ For Those About To Rock We Salute You │        1 │\n",
       "│       4 │ Let There Be Rock                     │        1 │\n",
       "└─────────┴───────────────────────────────────────┴──────────┘"
      ]
     },
     "execution_count": 25,
     "metadata": {},
     "output_type": "execute_result"
    }
   ],
   "source": [
    "db.sql(\"select * from a where a.ArtistId = 1\")"
   ]
  },
  {
   "cell_type": "code",
   "execution_count": 26,
   "metadata": {},
   "outputs": [],
   "source": [
    "#| export\n",
    "\n",
    "def noop(*args, **kwargs): return None\n",
    "def identity(x): return x"
   ]
  },
  {
   "cell_type": "code",
   "execution_count": 27,
   "metadata": {},
   "outputs": [],
   "source": [
    "#| export\n",
    "\n",
    "class _Getter: \n",
    "    \"\"\" A Getter utility check https://github.com/AnswerDotAI/fastlite \"\"\"\n",
    "    def __init__(self, name:str='', type:str='', dir:List=[], get=noop): store_attr()    \n",
    "    def __dir__(self): return self.dir\n",
    "    def __str__(self): return \", \".join(dir(self))\n",
    "    def __repr__(self): return f\"{self.type}::{self.name}: {str(self)}\"\n",
    "    def __contains__(self, s:str): return s in dir(self)\n",
    "    def __getitem__(self, k): return self.get(k)\n",
    "    def __getattr__(self, k):\n",
    "        if k[0]!='_': return self.get(k)\n",
    "        else: raise AttributeError "
   ]
  },
  {
   "cell_type": "code",
   "execution_count": 28,
   "metadata": {},
   "outputs": [],
   "source": [
    "#| export\n",
    "def custom_dir(c, add): return dir(type(c)) + list(c.__dict__.keys()) + add\n",
    "\n",
    "class Database:\n",
    "    def _current(self: DuckDBPyConnection): return self.sql('select current_catalog, current_schema').fetchone()\n",
    "\n",
    "    def __init__(self, *args, **kwargs):\n",
    "        self.conn = duckdb.connect(*args, **kwargs) # original connection object is often called\n",
    "        self.catalog, self.schema = self.conn.sql('select current_catalog, current_schema').fetchone()\n",
    "        self.tables =  {}\n",
    "        self.views = {}\n",
    "        self.xtra = ['query', 'cursor', 'execute', 'fetchone', 'fetchall', 'sql', 'close', 'table_names', 'view_names', 'dataclass', 'metadata']\n",
    "\n",
    "    def __dir__(self:Database): return custom_dir(self, self.xtra)  \n",
    "    def __repr__(self): return f'{self.__class__.__name__} ({self.catalog}::{self.schema})'\n",
    "\n",
    "    def __getattr__(self:Database, k):\n",
    "        if k in self.xtra: return getattr(self.conn, k)\n",
    "        if not isinstance(k, str) and k[0]=='_': raise AttributeError\n",
    "        return self.table(k, include_views=True)        \n",
    "          \n",
    "    def __getitem__(self, k): return self.table(k)\n",
    "    \n",
    "    \n",
    "    def table(self, k):\n",
    "        if isinstance(k, Union[List, Set, Tuple]): return [self.table(ki) for ki in k]\n",
    "        if not isinstance(k,str): raise AttributeError\n",
    "        if self.conn.table(k): \n",
    "            tbl = Table(self.conn.table(k), self, k)\n",
    "            self.tables= {**self.tables, **{k: tbl}}\n",
    "            return tbl\n",
    "    \n",
    "    def view(self, k):\n",
    "        if isinstance(k, Union[List, Set, Tuple]): return [self.view(ki) for ki in k]\n",
    "        if not isinstance(k,str): raise AttributeError\n",
    "        if self.conn.view(k): \n",
    "            vw = View(rel=self.conn.view(k), db=self, name=k)\n",
    "            self.views= {**self.views, **{k: vw}}\n",
    "            return vw\n",
    "    \n",
    "        \n",
    "    @property # tables\n",
    "    def t(self:Database): return _Getter('Tables', 'Table', self.conn.table_names, self.table)\n",
    "    @property # views\n",
    "    def v(self:Database): return _Getter('Views', 'View', self.conn.view_names, self.view)\n",
    "    @property # functions\n",
    "    def fns(self:Database): raise NotImplementedError\n",
    "    # def fns(self:Database): return _Getter(self, f\"SELECT function_name FROM duckdb_functions() WHERE schema_name = '{self.schema}' and internal = False\")\n",
    "    @property # secrets\n",
    "    def shh(self:Database): raise NotImplementedError\n",
    "    # def shh(self:Database): return _Getter(self, f\"SELECT name FROM duckdb_secrets()\")\n",
    "\n",
    "    def q(self:Database, query:str): return self.conn.sql(query).to_recs()\n",
    "    "
   ]
  },
  {
   "cell_type": "code",
   "execution_count": 29,
   "metadata": {},
   "outputs": [],
   "source": [
    "#| export\n",
    "class Table:\n",
    "    def __init__(self, rel:duckdb.DuckDBPyRelation, db:Database, name:str):\n",
    "        store_attr()\n",
    "        self.type='Table'\n",
    "        self.cls = db.dataclass(name)\n",
    "        self.meta = db.metadata(name)\n",
    "        self.rel = self.rel.set_alias(name)    \n",
    "        self.c = _Getter('Columns', 'Column', rel.columns, rel.select)\n",
    "    def __dir__(self): return custom_dir(self, [s for s in dir(self.rel) if s[0]!= '_'])\n",
    "    def __getattr__(self, k): \n",
    "        if k[0]=='_': raise AttributeError\n",
    "        return getattr(self.rel, k)\n",
    "    def __getitem__(self, idx): return self.rel[idx]\n",
    "    def __str__(self): return f'\"{self.db.schema}\".\"{self.name}\"'\n",
    "    def __repr__(self): return f'<{self.__class__.__name__}  {self.name} {dir(self.c)}>'\n",
    "    def _repr_markdown_(self):\n",
    "        markdown = f\"**{self.__class__.__name__}: {self.name}** ({self.meta['row_count']} rows, {self.meta['col_count']} cols)\\n\"\n",
    "        if self.meta['comment']: markdown += f\"> {self.meta['comment']}\"\n",
    "        markdown = (self.rel.df()).head(10).to_markdown(index=False)\n",
    "        return markdown\n",
    "        \n",
    "class View(Table):\n",
    "    def __init__(self, rel:duckdb.DuckDBPyRelation, db:Database, name:str):\n",
    "        super().__init__(rel, db, name) \n",
    "        self.type = 'View'\n",
    "    def __getattr__(self, k): # must be overriden otherwise doesn't work\n",
    "        if k[0]=='_': raise AttributeError\n",
    "        return getattr(self.rel, k)"
   ]
  },
  {
   "cell_type": "code",
   "execution_count": 30,
   "metadata": {},
   "outputs": [],
   "source": [
    "db.close()"
   ]
  },
  {
   "cell_type": "code",
   "execution_count": 31,
   "metadata": {},
   "outputs": [
    {
     "data": {
      "text/plain": [
       "Database (chinook::main)"
      ]
     },
     "execution_count": 31,
     "metadata": {},
     "output_type": "execute_result"
    }
   ],
   "source": [
    "db = Database('../data/chinook.duckdb')\n",
    "db"
   ]
  },
  {
   "cell_type": "code",
   "execution_count": 32,
   "metadata": {},
   "outputs": [
    {
     "data": {
      "text/plain": [
       "['a_view', 'temp_view']"
      ]
     },
     "execution_count": 32,
     "metadata": {},
     "output_type": "execute_result"
    }
   ],
   "source": [
    "db.view_names"
   ]
  },
  {
   "cell_type": "code",
   "execution_count": 33,
   "metadata": {},
   "outputs": [
    {
     "data": {
      "text/markdown": [
       "|   TrackId | Name                                    |   AlbumId |   MediaTypeId |   GenreId | Composer                                                               |   Milliseconds |    Bytes |   UnitPrice |\n",
       "|----------:|:----------------------------------------|----------:|--------------:|----------:|:-----------------------------------------------------------------------|---------------:|---------:|------------:|\n",
       "|         1 | For Those About To Rock (We Salute You) |         1 |             1 |         1 | Angus Young, Malcolm Young, Brian Johnson                              |         343719 | 11170334 |        0.98 |\n",
       "|         2 | Balls to the Wall                       |         2 |             2 |         1 |                                                                        |         342562 |  5510424 |        0.98 |\n",
       "|         3 | Fast As a Shark                         |         3 |             2 |         1 | F. Baltes, S. Kaufman, U. Dirkscneider & W. Hoffman                    |         230619 |  3990994 |        0.98 |\n",
       "|         4 | Restless and Wild                       |         3 |             2 |         1 | F. Baltes, R.A. Smith-Diesel, S. Kaufman, U. Dirkscneider & W. Hoffman |         252051 |  4331779 |        0.98 |\n",
       "|         5 | Princess of the Dawn                    |         3 |             2 |         1 | Deaffy & R.A. Smith-Diesel                                             |         375418 |  6290521 |        0.98 |\n",
       "|         6 | Put The Finger On You                   |         1 |             1 |         1 | Angus Young, Malcolm Young, Brian Johnson                              |         205662 |  6713451 |        0.98 |\n",
       "|         7 | Let's Get It Up                         |         1 |             1 |         1 | Angus Young, Malcolm Young, Brian Johnson                              |         233926 |  7636561 |        0.98 |\n",
       "|         8 | Inject The Venom                        |         1 |             1 |         1 | Angus Young, Malcolm Young, Brian Johnson                              |         210834 |  6852860 |        0.98 |\n",
       "|         9 | Snowballed                              |         1 |             1 |         1 | Angus Young, Malcolm Young, Brian Johnson                              |         203102 |  6599424 |        0.98 |\n",
       "|        10 | Evil Walks                              |         1 |             1 |         1 | Angus Young, Malcolm Young, Brian Johnson                              |         263497 |  8611245 |        0.98 |"
      ],
      "text/plain": [
       "<View  a_view ['AlbumId', 'Bytes', 'Composer', 'GenreId', 'MediaTypeId', 'Milliseconds', 'Name', 'TrackId', 'UnitPrice']>"
      ]
     },
     "execution_count": 33,
     "metadata": {},
     "output_type": "execute_result"
    }
   ],
   "source": [
    "db.view('a_view')"
   ]
  },
  {
   "cell_type": "code",
   "execution_count": 34,
   "metadata": {},
   "outputs": [
    {
     "data": {
      "text/markdown": [
       "|   ArtistId | Name                 |\n",
       "|-----------:|:---------------------|\n",
       "|          1 | AC/DC                |\n",
       "|          2 | Accept               |\n",
       "|          3 | Aerosmith            |\n",
       "|          4 | Alanis Morissette    |\n",
       "|          5 | Alice In Chains      |\n",
       "|          6 | Antônio Carlos Jobim |\n",
       "|          7 | Apocalyptica         |\n",
       "|          8 | Audioslave           |\n",
       "|          9 | BackBeat             |\n",
       "|         10 | Billy Cobham         |"
      ],
      "text/plain": [
       "<Table  Artist ['ArtistId', 'Name']>"
      ]
     },
     "execution_count": 34,
     "metadata": {},
     "output_type": "execute_result"
    }
   ],
   "source": [
    "db.t.Artist"
   ]
  },
  {
   "cell_type": "code",
   "execution_count": 35,
   "metadata": {},
   "outputs": [
    {
     "data": {
      "text/markdown": [
       "|   AlbumId | Title                                 |   ArtistId |\n",
       "|----------:|:--------------------------------------|-----------:|\n",
       "|         1 | For Those About To Rock We Salute You |          1 |\n",
       "|         2 | Balls to the Wall                     |          2 |\n",
       "|         3 | Restless and Wild                     |          2 |\n",
       "|         4 | Let There Be Rock                     |          1 |\n",
       "|         5 | Big Ones                              |          3 |\n",
       "|         6 | Jagged Little Pill                    |          4 |\n",
       "|         7 | Facelift                              |          5 |\n",
       "|         8 | Warner 25 Anos                        |          6 |\n",
       "|         9 | Plays Metallica By Four Cellos        |          7 |\n",
       "|        10 | Audioslave                            |          8 |"
      ],
      "text/plain": [
       "<Table  Album ['AlbumId', 'ArtistId', 'Title']>"
      ]
     },
     "execution_count": 35,
     "metadata": {},
     "output_type": "execute_result"
    }
   ],
   "source": [
    "a = db.t.Album\n",
    "a"
   ]
  },
  {
   "cell_type": "code",
   "execution_count": 36,
   "metadata": {},
   "outputs": [
    {
     "data": {
      "text/plain": [
       "__main__.Table"
      ]
     },
     "execution_count": 36,
     "metadata": {},
     "output_type": "execute_result"
    }
   ],
   "source": [
    "a = db.table('a_view')\n",
    "type(a)"
   ]
  },
  {
   "cell_type": "code",
   "execution_count": 37,
   "metadata": {},
   "outputs": [
    {
     "data": {
      "text/markdown": [
       "|   TrackId | Name                                    |   AlbumId |   MediaTypeId |   GenreId | Composer                                                               |   Milliseconds |    Bytes |   UnitPrice |\n",
       "|----------:|:----------------------------------------|----------:|--------------:|----------:|:-----------------------------------------------------------------------|---------------:|---------:|------------:|\n",
       "|         1 | For Those About To Rock (We Salute You) |         1 |             1 |         1 | Angus Young, Malcolm Young, Brian Johnson                              |         343719 | 11170334 |        0.98 |\n",
       "|         2 | Balls to the Wall                       |         2 |             2 |         1 |                                                                        |         342562 |  5510424 |        0.98 |\n",
       "|         3 | Fast As a Shark                         |         3 |             2 |         1 | F. Baltes, S. Kaufman, U. Dirkscneider & W. Hoffman                    |         230619 |  3990994 |        0.98 |\n",
       "|         4 | Restless and Wild                       |         3 |             2 |         1 | F. Baltes, R.A. Smith-Diesel, S. Kaufman, U. Dirkscneider & W. Hoffman |         252051 |  4331779 |        0.98 |\n",
       "|         5 | Princess of the Dawn                    |         3 |             2 |         1 | Deaffy & R.A. Smith-Diesel                                             |         375418 |  6290521 |        0.98 |\n",
       "|         6 | Put The Finger On You                   |         1 |             1 |         1 | Angus Young, Malcolm Young, Brian Johnson                              |         205662 |  6713451 |        0.98 |\n",
       "|         7 | Let's Get It Up                         |         1 |             1 |         1 | Angus Young, Malcolm Young, Brian Johnson                              |         233926 |  7636561 |        0.98 |\n",
       "|         8 | Inject The Venom                        |         1 |             1 |         1 | Angus Young, Malcolm Young, Brian Johnson                              |         210834 |  6852860 |        0.98 |\n",
       "|         9 | Snowballed                              |         1 |             1 |         1 | Angus Young, Malcolm Young, Brian Johnson                              |         203102 |  6599424 |        0.98 |\n",
       "|        10 | Evil Walks                              |         1 |             1 |         1 | Angus Young, Malcolm Young, Brian Johnson                              |         263497 |  8611245 |        0.98 |"
      ],
      "text/plain": [
       "<Table  Track ['AlbumId', 'Bytes', 'Composer', 'GenreId', 'MediaTypeId', 'Milliseconds', 'Name', 'TrackId', 'UnitPrice']>"
      ]
     },
     "execution_count": 37,
     "metadata": {},
     "output_type": "execute_result"
    }
   ],
   "source": [
    "track = db.table('Track')\n",
    "track"
   ]
  },
  {
   "cell_type": "code",
   "execution_count": 38,
   "metadata": {},
   "outputs": [
    {
     "data": {
      "text/markdown": [
       "|   TrackId | Name                                    |   AlbumId |   MediaTypeId |   GenreId | Composer                                                               |   Milliseconds |    Bytes |   UnitPrice |\n",
       "|----------:|:----------------------------------------|----------:|--------------:|----------:|:-----------------------------------------------------------------------|---------------:|---------:|------------:|\n",
       "|         1 | For Those About To Rock (We Salute You) |         1 |             1 |         1 | Angus Young, Malcolm Young, Brian Johnson                              |         343719 | 11170334 |        0.98 |\n",
       "|         2 | Balls to the Wall                       |         2 |             2 |         1 |                                                                        |         342562 |  5510424 |        0.98 |\n",
       "|         3 | Fast As a Shark                         |         3 |             2 |         1 | F. Baltes, S. Kaufman, U. Dirkscneider & W. Hoffman                    |         230619 |  3990994 |        0.98 |\n",
       "|         4 | Restless and Wild                       |         3 |             2 |         1 | F. Baltes, R.A. Smith-Diesel, S. Kaufman, U. Dirkscneider & W. Hoffman |         252051 |  4331779 |        0.98 |\n",
       "|         5 | Princess of the Dawn                    |         3 |             2 |         1 | Deaffy & R.A. Smith-Diesel                                             |         375418 |  6290521 |        0.98 |\n",
       "|         6 | Put The Finger On You                   |         1 |             1 |         1 | Angus Young, Malcolm Young, Brian Johnson                              |         205662 |  6713451 |        0.98 |\n",
       "|         7 | Let's Get It Up                         |         1 |             1 |         1 | Angus Young, Malcolm Young, Brian Johnson                              |         233926 |  7636561 |        0.98 |\n",
       "|         8 | Inject The Venom                        |         1 |             1 |         1 | Angus Young, Malcolm Young, Brian Johnson                              |         210834 |  6852860 |        0.98 |\n",
       "|         9 | Snowballed                              |         1 |             1 |         1 | Angus Young, Malcolm Young, Brian Johnson                              |         203102 |  6599424 |        0.98 |\n",
       "|        10 | Evil Walks                              |         1 |             1 |         1 | Angus Young, Malcolm Young, Brian Johnson                              |         263497 |  8611245 |        0.98 |"
      ],
      "text/plain": [
       "<View  a_view ['AlbumId', 'Bytes', 'Composer', 'GenreId', 'MediaTypeId', 'Milliseconds', 'Name', 'TrackId', 'UnitPrice']>"
      ]
     },
     "execution_count": 38,
     "metadata": {},
     "output_type": "execute_result"
    }
   ],
   "source": [
    "db.view('a_view')"
   ]
  },
  {
   "cell_type": "code",
   "execution_count": 39,
   "metadata": {},
   "outputs": [
    {
     "data": {
      "text/markdown": [
       "|   PlaylistId | Name         |\n",
       "|-------------:|:-------------|\n",
       "|            1 | Music        |\n",
       "|            2 | Movies       |\n",
       "|            3 | TV Shows     |\n",
       "|            4 | Audiobooks   |\n",
       "|            5 | 90’s Music   |\n",
       "|            6 | Audiobooks   |\n",
       "|            7 | Movies       |\n",
       "|            8 | Music        |\n",
       "|            9 | Music Videos |\n",
       "|           10 | TV Shows     |"
      ],
      "text/plain": [
       "<Table  Playlist ['Name', 'PlaylistId']>"
      ]
     },
     "execution_count": 39,
     "metadata": {},
     "output_type": "execute_result"
    }
   ],
   "source": [
    "db.t.Playlist"
   ]
  },
  {
   "cell_type": "code",
   "execution_count": 40,
   "metadata": {},
   "outputs": [
    {
     "data": {
      "text/plain": [
       "┌──────────┬────────────────────────────────────────────────────────────────────────────────────┐\n",
       "│ ArtistId │                                        Name                                        │\n",
       "│  int32   │                                      varchar                                       │\n",
       "├──────────┼────────────────────────────────────────────────────────────────────────────────────┤\n",
       "│        1 │ AC/DC                                                                              │\n",
       "│        2 │ Accept                                                                             │\n",
       "│        3 │ Aerosmith                                                                          │\n",
       "│        4 │ Alanis Morissette                                                                  │\n",
       "│        5 │ Alice In Chains                                                                    │\n",
       "│        6 │ Antônio Carlos Jobim                                                               │\n",
       "│        7 │ Apocalyptica                                                                       │\n",
       "│        8 │ Audioslave                                                                         │\n",
       "│        9 │ BackBeat                                                                           │\n",
       "│       10 │ Billy Cobham                                                                       │\n",
       "│        · │      ·                                                                             │\n",
       "│        · │      ·                                                                             │\n",
       "│        · │      ·                                                                             │\n",
       "│      266 │ Martin Roscoe                                                                      │\n",
       "│      267 │ Göteborgs Symfoniker & Neeme Järvi                                                 │\n",
       "│      268 │ Itzhak Perlman                                                                     │\n",
       "│      269 │ Michele Campanella                                                                 │\n",
       "│      270 │ Gerald Moore                                                                       │\n",
       "│      271 │ Mela Tenenbaum, Pro Musica Prague & Richard Kapp                                   │\n",
       "│      272 │ Emerson String Quartet                                                             │\n",
       "│      273 │ C. Monteverdi, Nigel Rogers - Chiaroscuro; London Baroque; London Cornett & Sackbu │\n",
       "│      274 │ Nash Ensemble                                                                      │\n",
       "│      275 │ Philip Glass Ensemble                                                              │\n",
       "├──────────┴────────────────────────────────────────────────────────────────────────────────────┤\n",
       "│ 275 rows (20 shown)                                                                 2 columns │\n",
       "└───────────────────────────────────────────────────────────────────────────────────────────────┘"
      ]
     },
     "execution_count": 40,
     "metadata": {},
     "output_type": "execute_result"
    }
   ],
   "source": [
    "artist = db.t.Artist\n",
    "db.sql(f\"select * from artist\")"
   ]
  },
  {
   "cell_type": "code",
   "execution_count": 41,
   "metadata": {},
   "outputs": [
    {
     "data": {
      "text/plain": [
       "┌──────────┬────────────────────────────────────────────────────────────────────────────────────┐\n",
       "│ ArtistId │                                        Name                                        │\n",
       "│  int32   │                                      varchar                                       │\n",
       "├──────────┼────────────────────────────────────────────────────────────────────────────────────┤\n",
       "│        1 │ AC/DC                                                                              │\n",
       "│        2 │ Accept                                                                             │\n",
       "│        3 │ Aerosmith                                                                          │\n",
       "│        4 │ Alanis Morissette                                                                  │\n",
       "│        5 │ Alice In Chains                                                                    │\n",
       "│        6 │ Antônio Carlos Jobim                                                               │\n",
       "│        7 │ Apocalyptica                                                                       │\n",
       "│        8 │ Audioslave                                                                         │\n",
       "│        9 │ BackBeat                                                                           │\n",
       "│       10 │ Billy Cobham                                                                       │\n",
       "│        · │      ·                                                                             │\n",
       "│        · │      ·                                                                             │\n",
       "│        · │      ·                                                                             │\n",
       "│      266 │ Martin Roscoe                                                                      │\n",
       "│      267 │ Göteborgs Symfoniker & Neeme Järvi                                                 │\n",
       "│      268 │ Itzhak Perlman                                                                     │\n",
       "│      269 │ Michele Campanella                                                                 │\n",
       "│      270 │ Gerald Moore                                                                       │\n",
       "│      271 │ Mela Tenenbaum, Pro Musica Prague & Richard Kapp                                   │\n",
       "│      272 │ Emerson String Quartet                                                             │\n",
       "│      273 │ C. Monteverdi, Nigel Rogers - Chiaroscuro; London Baroque; London Cornett & Sackbu │\n",
       "│      274 │ Nash Ensemble                                                                      │\n",
       "│      275 │ Philip Glass Ensemble                                                              │\n",
       "├──────────┴────────────────────────────────────────────────────────────────────────────────────┤\n",
       "│ 275 rows (20 shown)                                                                 2 columns │\n",
       "└───────────────────────────────────────────────────────────────────────────────────────────────┘"
      ]
     },
     "execution_count": 41,
     "metadata": {},
     "output_type": "execute_result"
    }
   ],
   "source": [
    "db.sql(f\"select * from {artist}\")"
   ]
  },
  {
   "cell_type": "code",
   "execution_count": 42,
   "metadata": {},
   "outputs": [
    {
     "data": {
      "text/markdown": [
       "|   ArtistId | Name                 |\n",
       "|-----------:|:---------------------|\n",
       "|          1 | AC/DC                |\n",
       "|          2 | Accept               |\n",
       "|          3 | Aerosmith            |\n",
       "|          4 | Alanis Morissette    |\n",
       "|          5 | Alice In Chains      |\n",
       "|          6 | Antônio Carlos Jobim |\n",
       "|          7 | Apocalyptica         |\n",
       "|          8 | Audioslave           |\n",
       "|          9 | BackBeat             |\n",
       "|         10 | Billy Cobham         |"
      ],
      "text/plain": [
       "<Table  Artist ['ArtistId', 'Name']>"
      ]
     },
     "execution_count": 42,
     "metadata": {},
     "output_type": "execute_result"
    }
   ],
   "source": [
    "a = db.t.Artist\n",
    "a"
   ]
  },
  {
   "cell_type": "code",
   "execution_count": 43,
   "metadata": {},
   "outputs": [],
   "source": [
    "# db.sql(f\"select * from a\")"
   ]
  },
  {
   "cell_type": "markdown",
   "metadata": {},
   "source": [
    "#### Export"
   ]
  },
  {
   "cell_type": "code",
   "execution_count": 44,
   "metadata": {},
   "outputs": [],
   "source": [
    "#| hide\n",
    "import nbdev; nbdev.nbdev_export()"
   ]
  }
 ],
 "metadata": {
  "kernelspec": {
   "display_name": "python3",
   "language": "python",
   "name": "python3"
  },
  "language_info": {
   "codemirror_mode": {
    "name": "ipython",
    "version": 3
   },
   "file_extension": ".py",
   "mimetype": "text/x-python",
   "name": "python",
   "nbconvert_exporter": "python",
   "pygments_lexer": "ipython3",
   "version": "3.12.2"
  }
 },
 "nbformat": 4,
 "nbformat_minor": 4
}
