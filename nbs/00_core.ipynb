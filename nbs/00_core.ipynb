{
 "cells": [
  {
   "cell_type": "code",
   "execution_count": null,
   "metadata": {},
   "outputs": [],
   "source": [
    "#| default_exp core"
   ]
  },
  {
   "cell_type": "code",
   "execution_count": null,
   "metadata": {},
   "outputs": [],
   "source": [
    "#| hide\n",
    "#| export\n",
    "from __future__ import annotations\n",
    "import duckdb\n",
    "from duckdb import DuckDBPyConnection, DuckDBPyRelation\n",
    "from typing import List, Dict, Optional, Union, Any, Tuple, Set, Literal\n",
    "from fastcore.all import store_attr, patch, L\n",
    "import numpy as np\n",
    "import pandas as pd\n",
    "from dataclasses import field, make_dataclass\n",
    "from fastcore.xtras import hl_md, dataclass_src\n",
    "from functools import wraps, partial\n",
    "from pathlib import Path\n"
   ]
  },
  {
   "cell_type": "markdown",
   "metadata": {},
   "source": [
    "# Source"
   ]
  },
  {
   "cell_type": "markdown",
   "metadata": {},
   "source": [
    ">  Wrapping DuckDB Python API"
   ]
  },
  {
   "cell_type": "markdown",
   "metadata": {},
   "source": [
    "When you `import duckdb`, there are two main concepts that you have to handle:\n",
    "\n",
    "\n",
    "A *DuckDBPyConnection* represents a connection to a DuckDB database in a file or memory"
   ]
  },
  {
   "cell_type": "markdown",
   "metadata": {},
   "source": [
    "DuckDB API has no concept of a Database, only of a connection that may envolve different attached databases (or catalogs) and schemas.\n",
    "\n",
    "A Catalog is just a holder for schemas, and schemas hold catalog entries, like tables, views, functions, types, etc..\n",
    "\n",
    "We will change this behaviour in a bit..."
   ]
  },
  {
   "cell_type": "markdown",
   "metadata": {},
   "source": []
  },
  {
   "cell_type": "markdown",
   "metadata": {},
   "source": [
    "A DuckDBPyRelation represents a query. It is a table-like object that will be lazy executed and can be queried further. \n",
    "\n",
    "Once it's executed then yes, it contains the result set.\n",
    "\n",
    "But when further projections are made on it, that result set is not used, the projections are just done on top of the original query as a subquery\n",
    "\n",
    "`duckdb.table('tbl').sql(\"select a\")`\n",
    "\n",
    "\n",
    "Really becomes, in essence:\n",
    "`select a from (select * from tbl)`\n"
   ]
  },
  {
   "cell_type": "code",
   "execution_count": null,
   "metadata": {},
   "outputs": [
    {
     "data": {
      "text/plain": [
       "┌───────────────┬──────────────┬─────────────┬────────────┬───┬─────────────┬──────────────────────┬─────────┐\n",
       "│ database_name │ database_oid │ schema_name │ schema_oid │ … │ index_count │ check_constraint_c…  │   sql   │\n",
       "│    varchar    │    int64     │   varchar   │   int64    │   │    int64    │        int64         │ varchar │\n",
       "├───────────────┴──────────────┴─────────────┴────────────┴───┴─────────────┴──────────────────────┴─────────┤\n",
       "│                                                   0 rows                                                   │\n",
       "└────────────────────────────────────────────────────────────────────────────────────────────────────────────┘"
      ]
     },
     "execution_count": null,
     "metadata": {},
     "output_type": "execute_result"
    }
   ],
   "source": [
    "db = duckdb.connect()\n",
    "db.sql(f\"FROM duckdb_tables()\")"
   ]
  },
  {
   "cell_type": "code",
   "execution_count": null,
   "metadata": {},
   "outputs": [
    {
     "data": {
      "text/plain": [
       "duckdb.duckdb.DuckDBPyRelation"
      ]
     },
     "execution_count": null,
     "metadata": {},
     "output_type": "execute_result"
    }
   ],
   "source": [
    "type(db.sql(f\"SELECT table_name FROM duckdb_tables()\"))"
   ]
  },
  {
   "cell_type": "code",
   "execution_count": null,
   "metadata": {},
   "outputs": [],
   "source": [
    "db.close()"
   ]
  },
  {
   "cell_type": "markdown",
   "metadata": {},
   "source": [
    "## Improving Connection"
   ]
  },
  {
   "cell_type": "markdown",
   "metadata": {},
   "source": [
    "We want the developer to understand the connection as a database.\n",
    "\n",
    "```python\n",
    "\n",
    "import duckdb\n",
    "\n",
    "conn = duckdb.connect()\n",
    "\n",
    "```\n",
    "\n",
    "becomes\n",
    "\n",
    "\n",
    "```python\n",
    "\n",
    "from fastduck import database\n",
    "db = database()\n",
    "\n",
    "```\n",
    "By acessing the same Python API using `fastduck`, the developer shall get some niceties.\n"
   ]
  },
  {
   "cell_type": "code",
   "execution_count": null,
   "metadata": {},
   "outputs": [],
   "source": [
    "#| export\n",
    "@wraps(duckdb.connect)\n",
    "def database(*args, **kwargs):\n",
    "    db = duckdb.connect(*args, **kwargs)\n",
    "    return db"
   ]
  },
  {
   "cell_type": "markdown",
   "metadata": {},
   "source": [
    "\n",
    "Let's start by simplifying the access to some information on the current catalog and schema in the connection."
   ]
  },
  {
   "cell_type": "code",
   "execution_count": null,
   "metadata": {},
   "outputs": [],
   "source": [
    "db = database('../data/chinook.duckdb')"
   ]
  },
  {
   "cell_type": "code",
   "execution_count": null,
   "metadata": {},
   "outputs": [],
   "source": [
    "#| export\n",
    "def _current(self: DuckDBPyConnection): return self.sql('select current_catalog, current_schema').fetchone()\n",
    "@patch(as_prop=True)\n",
    "def catalog(self: DuckDBPyConnection): return _current(self)[0]\n",
    "\n",
    "@patch(as_prop=True)\n",
    "def schema(self: DuckDBPyConnection): return _current(self)[1]\n",
    "\n",
    "@patch(as_prop=True) # just the name part in the alias\n",
    "def name(self:DuckDBPyRelation): return self.alias.split('.')[-1]\n",
    "\n",
    "@patch\n",
    "def __getitem__(self:DuckDBPyRelation, idxs) -> DuckDBPyRelation: # selecting by passing a list of column names\n",
    "    return self.select(*idxs) if isinstance(idxs, Union[List, Set, Tuple]) else self.select(idxs)\n",
    "@patch \n",
    "def to_recs(self:DuckDBPyRelation) -> List[Dict[str, Any]]:\n",
    "    '''The relation as a list of records'''\n",
    "    return self.df().to_dict(orient='records')\n",
    "@patch \n",
    "def to_list(self:DuckDBPyRelation) -> List[List]:\n",
    "    '''The relation as a list'''\n",
    "    return [list(r.values()) if len(r.values())>1 else list(r.values())[0] for r in self.to_recs() ]\n",
    "@patch \n",
    "def q(self:DuckDBPyConnection, *args, **kwargs) -> List[Dict[str, Any]]:\n",
    "    '''Run a query and return the result as a list of records'''\n",
    "    return self.sql(*args, **kwargs).to_recs()\n",
    "\n"
   ]
  },
  {
   "cell_type": "code",
   "execution_count": null,
   "metadata": {},
   "outputs": [
    {
     "data": {
      "text/plain": [
       "┌─────────┬───────────────────────────────────────┐\n",
       "│ AlbumId │                 Title                 │\n",
       "│  int32  │                varchar                │\n",
       "├─────────┼───────────────────────────────────────┤\n",
       "│       1 │ For Those About To Rock We Salute You │\n",
       "│       2 │ Balls to the Wall                     │\n",
       "│       3 │ Restless and Wild                     │\n",
       "│       4 │ Let There Be Rock                     │\n",
       "│       5 │ Big Ones                              │\n",
       "└─────────┴───────────────────────────────────────┘"
      ]
     },
     "execution_count": null,
     "metadata": {},
     "output_type": "execute_result"
    }
   ],
   "source": [
    "album = db.sql(\"select * from Album\")\n",
    "album['AlbumId', 'Title'].limit(5)"
   ]
  },
  {
   "cell_type": "code",
   "execution_count": null,
   "metadata": {},
   "outputs": [
    {
     "data": {
      "text/plain": [
       "[{'AlbumId': 1, 'Title': 'For Those About To Rock We Salute You'},\n",
       " {'AlbumId': 2, 'Title': 'Balls to the Wall'}]"
      ]
     },
     "execution_count": null,
     "metadata": {},
     "output_type": "execute_result"
    }
   ],
   "source": [
    "db.table('Album')['AlbumId', 'Title'].limit(2).to_recs()"
   ]
  },
  {
   "cell_type": "markdown",
   "metadata": {},
   "source": [
    "We also need a way to know the tables in the database.\n"
   ]
  },
  {
   "cell_type": "code",
   "execution_count": null,
   "metadata": {},
   "outputs": [],
   "source": [
    "#| export\n",
    "\n",
    "@patch(as_prop=True)\n",
    "def tables(self: DuckDBPyConnection) -> DuckDBPyRelation:\n",
    "    '''Returns the tables in the database'''\n",
    "    return self.sql(f\"\"\"\n",
    "        select distinct database_name as catalog, schema_name as schema, table_name as name,\n",
    "        'BASE TABLE' as type, comment from duckdb_tables() union all \n",
    "        select distinct database_name as catalog, schema_name as schema, view_name as name, \n",
    "        'VIEW' as type, comment from duckdb_views() where internal=False order by catalog, type, name\"\"\")\n",
    "    \n",
    "@patch(as_prop=True)\n",
    "def views(self: DuckDBPyConnection) -> DuckDBPyRelation:\n",
    "    '''Returns the views in current schema'''\n",
    "    return self.tables.filter(f\"type =='VIEW' and catalog='{self.catalog}' and schema = '{self.schema}'\")\n",
    "@patch(as_prop=True)\n",
    "def base_tables(self: DuckDBPyConnection) -> DuckDBPyRelation:\n",
    "    '''Returns the base tables in current schema'''\n",
    "    return self.tables.filter(f\"type =='BASE TABLE' and catalog='{self.catalog}' and schema = '{self.schema}'\")\n",
    "\n",
    "@patch(as_prop=True)\n",
    "def schemas(self: DuckDBPyConnection) -> DuckDBPyRelation:\n",
    "    '''Returns the schemas in the database'''\n",
    "    return self.tables.project(f\"catalog || '_' || schema as catalog_schema\").distinct()\n"
   ]
  },
  {
   "cell_type": "code",
   "execution_count": null,
   "metadata": {},
   "outputs": [
    {
     "data": {
      "text/plain": [
       "┌────────────────┐\n",
       "│ catalog_schema │\n",
       "│    varchar     │\n",
       "├────────────────┤\n",
       "│ chinook_main   │\n",
       "└────────────────┘"
      ]
     },
     "execution_count": null,
     "metadata": {},
     "output_type": "execute_result"
    }
   ],
   "source": [
    "db.schemas"
   ]
  },
  {
   "cell_type": "code",
   "execution_count": null,
   "metadata": {},
   "outputs": [
    {
     "data": {
      "text/plain": [
       "┌─────────┬─────────┬───────────┬─────────┬─────────────┐\n",
       "│ catalog │ schema  │   name    │  type   │   comment   │\n",
       "│ varchar │ varchar │  varchar  │ varchar │   varchar   │\n",
       "├─────────┼─────────┼───────────┼─────────┼─────────────┤\n",
       "│ chinook │ main    │ a_view    │ VIEW    │ Just a view │\n",
       "│ chinook │ main    │ temp_view │ VIEW    │ NULL        │\n",
       "└─────────┴─────────┴───────────┴─────────┴─────────────┘"
      ]
     },
     "execution_count": null,
     "metadata": {},
     "output_type": "execute_result"
    }
   ],
   "source": [
    "db.views.limit(3)"
   ]
  },
  {
   "cell_type": "markdown",
   "metadata": {},
   "source": [
    "The functions bellow add some utilities that are useful for working with tables and views in a database."
   ]
  },
  {
   "cell_type": "code",
   "execution_count": null,
   "metadata": {},
   "outputs": [],
   "source": [
    "#| export\n",
    "@patch\n",
    "def datamodel(self: DuckDBPyConnection, table_name:str) ->List[Dict]:\n",
    "    ''' Returns the data model of a table or view. \n",
    "    The columns names, types, nullable status, default value and\n",
    "    primary key status.'''\n",
    "    \n",
    "    return [{'name': r[1], 'type': r[2], 'nullable': not r[3], 'default': r[4], 'pk': r[5]} \n",
    "            for r in self.sql(f\"PRAGMA table_info='{table_name}'\").fetchall()]"
   ]
  },
  {
   "cell_type": "code",
   "execution_count": null,
   "metadata": {},
   "outputs": [
    {
     "data": {
      "text/plain": [
       "[{'name': 'ArtistId',\n",
       "  'type': 'INTEGER',\n",
       "  'nullable': False,\n",
       "  'default': None,\n",
       "  'pk': True},\n",
       " {'name': 'Name',\n",
       "  'type': 'VARCHAR',\n",
       "  'nullable': True,\n",
       "  'default': None,\n",
       "  'pk': False}]"
      ]
     },
     "execution_count": null,
     "metadata": {},
     "output_type": "execute_result"
    }
   ],
   "source": [
    "db.datamodel('Artist')\n"
   ]
  },
  {
   "cell_type": "code",
   "execution_count": null,
   "metadata": {},
   "outputs": [],
   "source": [
    "#| export\n",
    "def convertTypes(s:str)->type:\n",
    "    ''' Convert DuckDB types to Python and Numpy types'''\n",
    "    d = {\n",
    "        # Built-in types\n",
    "        'BOOLEAN': bool,\n",
    "        'BLOB': bytearray,  # For bytes, bytearray can be used in Python\n",
    "        'DOUBLE': float,\n",
    "        'BIGINT': int,\n",
    "        'VARCHAR': str,\n",
    "        'VARCHAR[]': str,\n",
    "    \n",
    "        # NumPy DTypes\n",
    "        'FLOAT': np.float32,\n",
    "        'DOUBLE': float,\n",
    "        'SMALLINT': np.int16,\n",
    "        'INTEGER': np.int32,\n",
    "        'TINYINT': np.int8,\n",
    "        'USMALLINT': np.uint16,\n",
    "        'UINTEGER': np.uint32,\n",
    "        'UBIGINT': np.uint64,\n",
    "        'UTINYINT': np.uint8,\n",
    "        'TIMESTAMP': np.timedelta64\n",
    "    }\n",
    "    if s in d: return d[s]\n",
    "    if s[:7]=='DECIMAL': return float\n",
    "    raise ValueError(f'Unknown type {s}')\n",
    "\n",
    "\n",
    "import re, keyword\n",
    "def clean(s):\n",
    "    s = re.sub(r'\\W|^(?=\\d)', '_', s)\n",
    "    return s + '_' if keyword.iskeyword(s) else s\n",
    "\n",
    "@patch\n",
    "def dataclass(self: DuckDBPyConnection, \n",
    "              table_name:str, # table or view name\n",
    "              pref='', # prefix to add to the field names\n",
    "              suf='', # suffix to add to the field names\n",
    "              cls_name:str = None # defaults to table_name\n",
    "              ) -> type:\n",
    "    '''Creates a `dataclass` type from a table or view in the database.'''\n",
    "    cls_name = cls_name or table_name\n",
    "    fields = self.datamodel(table_name)\n",
    "    fields = [(clean(pref+f['name']+suf), convertTypes(f['type']) if not f['nullable'] else convertTypes(f['type'])|None , field(default=f['default'])) for f in fields]\n",
    "    return make_dataclass(table_name, fields)"
   ]
  },
  {
   "cell_type": "code",
   "execution_count": null,
   "metadata": {},
   "outputs": [
    {
     "data": {
      "text/markdown": [
       "```python\n",
       "@dataclass\n",
       "class Artist:\n",
       "    ArtistId: int32 = None\n",
       "    Name: str | None = None\n",
       "\n",
       "```"
      ],
      "text/plain": [
       "<IPython.core.display.Markdown object>"
      ]
     },
     "execution_count": null,
     "metadata": {},
     "output_type": "execute_result"
    }
   ],
   "source": [
    "artist_dc = db.dataclass('Artist')\n",
    "src = dataclass_src(artist_dc)\n",
    "hl_md(src, 'python') # fix error in nbdev_prepare"
   ]
  },
  {
   "cell_type": "code",
   "execution_count": null,
   "metadata": {},
   "outputs": [
    {
     "data": {
      "text/plain": [
       "[{'ArtistId': 1, 'Name': 'AC/DC'}]"
      ]
     },
     "execution_count": null,
     "metadata": {},
     "output_type": "execute_result"
    }
   ],
   "source": [
    "acdc = db.sql(f\"select * from artist where artist.Name like 'AC/%'\").df().to_dict(orient='records')\n",
    "acdc"
   ]
  },
  {
   "cell_type": "code",
   "execution_count": null,
   "metadata": {},
   "outputs": [
    {
     "data": {
      "text/plain": [
       "Artist(ArtistId=1, Name='AC/DC')"
      ]
     },
     "execution_count": null,
     "metadata": {},
     "output_type": "execute_result"
    }
   ],
   "source": [
    "acdc_object = artist_dc(**acdc[0])\n",
    "acdc_object"
   ]
  },
  {
   "cell_type": "markdown",
   "metadata": {},
   "source": [
    "## Relation utilities"
   ]
  },
  {
   "cell_type": "markdown",
   "metadata": {},
   "source": [
    "Once we know that a certain `DuckDBPyRelation` is a table (or view), we can also make it keep some valuable props."
   ]
  },
  {
   "cell_type": "code",
   "execution_count": null,
   "metadata": {},
   "outputs": [],
   "source": [
    "#| export\n",
    "_saved = {}\n",
    "\n",
    "def _set_attr(obj, k, v): #hash to avoid collisions\n",
    "    _saved[str(hash(obj)) + '_' + k] = v\n",
    "\n",
    "def _get_attr(obj, key):\n",
    "    k = str(hash(obj)) + '_' + key\n",
    "    return _saved[k] if k in _saved else None\n",
    "\n",
    "@patch\n",
    "def _set(self: DuckDBPyRelation, k, v):\n",
    "    _set_attr(self, k, v)\n",
    "\n",
    "@patch\n",
    "def _get(self: DuckDBPyRelation, key):\n",
    "    return _get_attr(self, key)\n",
    "\n",
    "@patch\n",
    "def _set(self: DuckDBPyConnection, k, v):\n",
    "    _set_attr(self, k, v)\n",
    "\n",
    "@patch\n",
    "def _get(self: DuckDBPyConnection, key):\n",
    "    return _get_attr(self, key)\n",
    "\n",
    "\n",
    "def custom_dir(c, add): return sorted(dir(type(c)) + list(c.__dict__.keys()) if hasattr(c, '__dict__') else [] + add)\n",
    "\n",
    "def create_patch_property(name):\n",
    "    @patch(as_prop=True)\n",
    "    def prop(self: DuckDBPyRelation):\n",
    "        return self._get(name)\n",
    "    return prop\n",
    "\n",
    "props = ['cls', 'rel', 'model', 'meta']\n",
    "for p in props: setattr(DuckDBPyRelation, p, create_patch_property(p))\n",
    "\n",
    "@patch\n",
    "def __dir__(self:DuckDBPyRelation) -> List[str]: return custom_dir(DuckDBPyRelation, props)\n",
    "    \n",
    "def create_prop(c, name, f): setattr(c, name, property(f))\n",
    "@patch(as_prop=True)\n",
    "def cls(self:DuckDBPyRelation): return self._get('cls')\n",
    "\n",
    "@patch(as_prop=True)\n",
    "def model(self:DuckDBPyRelation): return self._get('model')\n",
    "\n",
    "@patch(as_prop=True)\n",
    "def meta(self:DuckDBPyRelation): return self._get('meta')\n",
    "\n",
    "@patch(as_prop=True)\n",
    "def rel(self:DuckDBPyRelation): return self._get('rel')\n",
    "\n",
    "\n",
    "@patch\n",
    "def table(self:DuckDBPyConnection, name:str, schema:str= None, catalog:str=None) -> DuckDBPyRelation:\n",
    "    if isinstance(name, Union[List, Set, Tuple]): return [self.table(n) for n in name]\n",
    "    if not isinstance(name,str): raise AttributeError\n",
    "    r = self.tables.filter(f\"name == '{name}' and schema == '{schema or self.schema}' and catalog =='{catalog or self.catalog}'\")\n",
    "    catalog, schema, name, type, comment = r.fetchone()\n",
    "    tbl = self.sql(f\"from {catalog}.{schema}.{name}\")\n",
    "    tbl = tbl.set_alias(f\"{catalog}.{schema}.{name}\")\n",
    "    tbl._set('cls', self.dataclass(name))\n",
    "    tbl._set('model', self.datamodel(name))\n",
    "    meta = {'base': self, 'catalog': catalog, 'schema': schema, 'name': name, 'type': type, 'comment': comment, 'shape': tbl.shape}\n",
    "    tbl._set('meta', meta)\n",
    "    tbl._set('rel', tbl)\n",
    "    return tbl\n",
    "\n"
   ]
  },
  {
   "cell_type": "code",
   "execution_count": null,
   "metadata": {},
   "outputs": [],
   "source": [
    "#| export\n",
    "@patch\n",
    "def _select(self:DuckDBPyRelation, k) -> DuckDBPyRelation:\n",
    "    return self.select(k) if isinstance(k, str) else self.select(*k)\n",
    "\n",
    "@patch(as_prop=True)\n",
    "def c(self:DuckDBPyRelation): \n",
    "    '''Column autocomplete'''\n",
    "    return _Getter(self, 'column', self.columns, self._select)"
   ]
  },
  {
   "cell_type": "code",
   "execution_count": null,
   "metadata": {},
   "outputs": [
    {
     "data": {
      "text/plain": [
       "<duckdb.duckdb.DuckDBPyConnection>"
      ]
     },
     "execution_count": null,
     "metadata": {},
     "output_type": "execute_result"
    }
   ],
   "source": [
    "db"
   ]
  },
  {
   "cell_type": "markdown",
   "metadata": {},
   "source": [
    "### Autocomplete\n",
    "\n",
    "We want an easy access to table information.\n",
    "\n",
    "like db`.tables` should work similar to the `.table` cli command."
   ]
  },
  {
   "cell_type": "code",
   "execution_count": null,
   "metadata": {},
   "outputs": [],
   "source": [
    "#| export\n",
    "def noop(*args, **kwargs): return None\n",
    "def identity(x): return x\n",
    "\n",
    "\n",
    "class _Getter: \n",
    "    \"\"\" A Getter utility check https://github.com/AnswerDotAI/fastlite \"\"\"\n",
    "    def __init__(self, db:DuckDBPyConnection, type:str='', dir:List=[], get=noop): store_attr()    \n",
    "    def __dir__(self): return self.dir\n",
    "    def __str__(self): return \", \".join(dir(self))\n",
    "    def __repr__(self): return f\"{str(self.db).split(' ')[-1]} {self.type.title()}s: {str(self)}\"\n",
    "    def __contains__(self, s:str): return s in dir(self)\n",
    "    def __getitem__(self, k): return self.get(k)\n",
    "    def __getattr__(self, k):\n",
    "        if k[0]!='_': return self.get(k)\n",
    "        else: raise AttributeError \n",
    "\n",
    "@patch\n",
    "def use(self:DuckDBPyConnection, catalog_schema:str=None, catalog:str=None, schema=None) -> None:\n",
    "    if not catalog_schema and not catalog and not schema: return self\n",
    "    catalog, schema = catalog_schema.split('_') if catalog_schema else (catalog, schema)\n",
    "    catalog = catalog or self.catalog\n",
    "    schema = schema or self.schema\n",
    "    self.sql(f\"use {catalog}.{schema}\")\n",
    "\n",
    "@patch\n",
    "def get_schema(self: DuckDBPyConnection, catalog_schema: str):\n",
    "    self.use(catalog_schema)\n",
    "    self._set(catalog_schema, self)\n",
    "    return self\n",
    "\n",
    "@patch(as_prop=True) # tables\n",
    "def s(self:DuckDBPyConnection): \n",
    "    '''Autocomplete functonality for schemas'''\n",
    "    return _Getter(self, 'schema', self.tables.project(f\"catalog || '_' || schema\").distinct().to_list(), self.get_schema)\n",
    "@patch(as_prop=True) # tables\n",
    "def t(self:DuckDBPyConnection): \n",
    "    '''Autocomplete functonality for tables'''\n",
    "    return _Getter(self,'table', self.base_tables.select('name').to_list(), self.table)\n",
    "@patch(as_prop=True) # views\n",
    "def v(self:DuckDBPyConnection): \n",
    "    '''Autocomplete functonality for views'''\n",
    "    return _Getter(self, 'view', self.views.select('name').to_list(), self.table)\n",
    "@patch(as_prop=True) # functions\n",
    "def fns(self:DuckDBPyConnection): raise NotImplementedError\n",
    "# def fns(self:DuckDBPyConnection): return _Getter(self, f\"SELECT function_name FROM duckdb_functions() WHERE schema_name = '{self.schema}' and internal = False\")\n",
    "\n",
    "@patch(as_prop=True) # secrets\n",
    "def shh(self:DuckDBPyConnection): raise NotImplementedError\n",
    "# def shh(self:DuckDBPyConnection): return _Getter(self, f\"SELECT name FROM duckdb_secrets()\")\n",
    "\n",
    "@patch\n",
    "def __repr__(self:DuckDBPyConnection): return f'{self.__class__.__name__} ({self.catalog}_{self.schema})'\n"
   ]
  },
  {
   "cell_type": "markdown",
   "metadata": {},
   "source": [
    "::: \n",
    " \n",
    "![Autocomplete in Jupyter](images/autocomplete.png){.lightbox}\n",
    "\n",
    ":::"
   ]
  },
  {
   "cell_type": "code",
   "execution_count": null,
   "metadata": {},
   "outputs": [
    {
     "data": {
      "text/plain": [
       "┌─────────┬───────────────────────────────────────┐\n",
       "│ AlbumId │                 Title                 │\n",
       "│  int32  │                varchar                │\n",
       "├─────────┼───────────────────────────────────────┤\n",
       "│       1 │ For Those About To Rock We Salute You │\n",
       "│       2 │ Balls to the Wall                     │\n",
       "│       3 │ Restless and Wild                     │\n",
       "│       4 │ Let There Be Rock                     │\n",
       "└─────────┴───────────────────────────────────────┘"
      ]
     },
     "execution_count": null,
     "metadata": {},
     "output_type": "execute_result"
    }
   ],
   "source": [
    "\n",
    "a = db.t.Album.c['AlbumId', 'Title'].limit(4)\n",
    "a"
   ]
  },
  {
   "cell_type": "markdown",
   "metadata": {},
   "source": [
    "Let's also improve the representation of `Relations`."
   ]
  },
  {
   "cell_type": "code",
   "execution_count": null,
   "metadata": {},
   "outputs": [
    {
     "data": {
      "text/plain": [
       "┌─────────┬─────────────────────────────────────────────────────────────────────┬──────────┐\n",
       "│ AlbumId │                                Title                                │ ArtistId │\n",
       "│  int32  │                               varchar                               │  int32   │\n",
       "├─────────┼─────────────────────────────────────────────────────────────────────┼──────────┤\n",
       "│       1 │ For Those About To Rock We Salute You                               │        1 │\n",
       "│       2 │ Balls to the Wall                                                   │        2 │\n",
       "│       3 │ Restless and Wild                                                   │        2 │\n",
       "│       4 │ Let There Be Rock                                                   │        1 │\n",
       "│       5 │ Big Ones                                                            │        3 │\n",
       "│       6 │ Jagged Little Pill                                                  │        4 │\n",
       "│       7 │ Facelift                                                            │        5 │\n",
       "│       8 │ Warner 25 Anos                                                      │        6 │\n",
       "│       9 │ Plays Metallica By Four Cellos                                      │        7 │\n",
       "│      10 │ Audioslave                                                          │        8 │\n",
       "│       · │     ·                                                               │        · │\n",
       "│       · │     ·                                                               │        · │\n",
       "│       · │     ·                                                               │        · │\n",
       "│     338 │ Nielsen: The Six Symphonies                                         │      267 │\n",
       "│     339 │ Great Recordings of the Century: Paganini's 24 Caprices             │      268 │\n",
       "│     340 │ Liszt - 12 Études D'Execution Transcendante                         │      269 │\n",
       "│     341 │ Great Recordings of the Century - Shubert: Schwanengesang, 4 Lieder │      270 │\n",
       "│     342 │ Locatelli: Concertos for Violin, Strings and Continuo, Vol. 3       │      271 │\n",
       "│     343 │ Respighi:Pines of Rome                                              │      226 │\n",
       "│     344 │ Schubert: The Late String Quartets & String Quintet (3 CD's)        │      272 │\n",
       "│     345 │ Monteverdi: L'Orfeo                                                 │      273 │\n",
       "│     346 │ Mozart: Chamber Music                                               │      274 │\n",
       "│     347 │ Koyaanisqatsi (Soundtrack from the Motion Picture)                  │      275 │\n",
       "├─────────┴─────────────────────────────────────────────────────────────────────┴──────────┤\n",
       "│ 347 rows (20 shown)                                                            3 columns │\n",
       "└──────────────────────────────────────────────────────────────────────────────────────────┘"
      ]
     },
     "execution_count": null,
     "metadata": {},
     "output_type": "execute_result"
    }
   ],
   "source": [
    "db.s.chinook_main.t.Album"
   ]
  },
  {
   "cell_type": "code",
   "execution_count": null,
   "metadata": {},
   "outputs": [
    {
     "name": "stdout",
     "output_type": "stream",
     "text": [
      "Object `DuckDBPyRelation._repr_markdown_` not found.\n"
     ]
    }
   ],
   "source": [
    "DuckDBPyRelation._repr_markdown_??"
   ]
  },
  {
   "cell_type": "code",
   "execution_count": null,
   "metadata": {},
   "outputs": [
    {
     "name": "stdout",
     "output_type": "stream",
     "text": [
      "|   AlbumId | Title                                 |\n",
      "|----------:|:--------------------------------------|\n",
      "|         1 | For Those About To Rock We Salute You |\n",
      "|         2 | Balls to the Wall                     |\n",
      "|         3 | Restless and Wild                     |\n",
      "|         4 | Let There Be Rock                     |\n"
     ]
    }
   ],
   "source": [
    "print(a.df().to_markdown(index=False))"
   ]
  },
  {
   "cell_type": "code",
   "execution_count": null,
   "metadata": {},
   "outputs": [],
   "source": [
    "#| export\n",
    "@patch\n",
    "def __str__(self:DuckDBPyRelation): return f'{self.alias}'\n",
    "\n",
    "@patch\n",
    "def __repr__(self:DuckDBPyRelation): \n",
    "    return f\"{self.__class__.__name__} {self.meta['type'] if self.meta else ''} {self.alias if self.alias[:7]!='unnamed' else ''} \\n\\n\"\n",
    "@patch\n",
    "def _repr_markdown_(self: DuckDBPyRelation): \n",
    "    markdown =  f\"#### {self.__repr__()} \"\n",
    "    if self.meta and self.meta['comment']: markdown += f\"> {self.meta['comment']}\\n\\n\"\n",
    "    df = self.df()\n",
    "    if self.shape[0] > 5: \n",
    "        head = df.head(3)\n",
    "        tail = df.tail(2)\n",
    "        ellipsis = pd.DataFrame([[\"...\"] * df.shape[1]], columns=df.columns)\n",
    "        df = pd.concat([head, ellipsis, tail])\n",
    "    markdown += df.to_markdown(index=False, tablefmt=\"pipe\")\n",
    "    markdown += f\"\\n\\n {self.shape[0]} rows  x  {self.shape[1]} cols \"\n",
    "    return markdown\n",
    "\n",
    "@patch\n",
    "def _repr_html_(self: DuckDBPyRelation):\n",
    "   \n",
    "    df = self.df()\n",
    "    if self.shape[0] > 5: \n",
    "        head = df.head(3)\n",
    "        tail = df.tail(2)\n",
    "        ellipsis = pd.DataFrame([[\"...\"] * df.shape[1]], columns=df.columns)\n",
    "        df = pd.concat([head, ellipsis, tail])\n",
    "    h = df.to_html(index=False)\n",
    "    h += f\"<p>{self.shape[0]} rows x  {self.shape[1]} cols &nbsp;&nbsp;&nbsp;&nbsp;&nbsp;{self.__class__.__name__} {self.meta['type'].replace(' ', '_') if self.meta else ''} {self.alias if self.alias[:7]!='unnamed' else ''} </p>\"\n",
    "    h += f\"<p><i>{self.meta['comment']}</i></p>\\n\\n\" if self.meta and self.meta['comment'] else ''\n",
    "    return h\n",
    "\n",
    "\n"
   ]
  },
  {
   "cell_type": "code",
   "execution_count": null,
   "metadata": {},
   "outputs": [
    {
     "name": "stdout",
     "output_type": "stream",
     "text": [
      "┌─────────┬─────────┬───────────────┬────────────┬─────────────┐\n",
      "│ catalog │ schema  │     name      │    type    │   comment   │\n",
      "│ varchar │ varchar │    varchar    │  varchar   │   varchar   │\n",
      "├─────────┼─────────┼───────────────┼────────────┼─────────────┤\n",
      "│ chinook │ main    │ Album         │ BASE TABLE │ Album table │\n",
      "│ chinook │ main    │ Artist        │ BASE TABLE │ NULL        │\n",
      "│ chinook │ main    │ Customer      │ BASE TABLE │ NULL        │\n",
      "│ chinook │ main    │ Employee      │ BASE TABLE │ NULL        │\n",
      "│ chinook │ main    │ Genre         │ BASE TABLE │ NULL        │\n",
      "│ chinook │ main    │ Invoice       │ BASE TABLE │ NULL        │\n",
      "│ chinook │ main    │ InvoiceLine   │ BASE TABLE │ NULL        │\n",
      "│ chinook │ main    │ MediaType     │ BASE TABLE │ NULL        │\n",
      "│ chinook │ main    │ Playlist      │ BASE TABLE │ NULL        │\n",
      "│ chinook │ main    │ PlaylistTrack │ BASE TABLE │ NULL        │\n",
      "│ chinook │ main    │ Track         │ BASE TABLE │ NULL        │\n",
      "│ chinook │ main    │ a_view        │ VIEW       │ Just a view │\n",
      "│ chinook │ main    │ temp_view     │ VIEW       │ NULL        │\n",
      "├─────────┴─────────┴───────────────┴────────────┴─────────────┤\n",
      "│ 13 rows                                            5 columns │\n",
      "└──────────────────────────────────────────────────────────────┘\n",
      "\n"
     ]
    }
   ],
   "source": [
    "db.tables.show()"
   ]
  },
  {
   "cell_type": "code",
   "execution_count": null,
   "metadata": {},
   "outputs": [
    {
     "data": {
      "text/html": [
       "<table border=\"1\" class=\"dataframe\">\n",
       "  <thead>\n",
       "    <tr style=\"text-align: right;\">\n",
       "      <th>TrackId</th>\n",
       "      <th>Name</th>\n",
       "      <th>AlbumId</th>\n",
       "      <th>MediaTypeId</th>\n",
       "      <th>GenreId</th>\n",
       "      <th>Composer</th>\n",
       "      <th>Milliseconds</th>\n",
       "      <th>Bytes</th>\n",
       "      <th>UnitPrice</th>\n",
       "    </tr>\n",
       "  </thead>\n",
       "  <tbody>\n",
       "    <tr>\n",
       "      <td>1</td>\n",
       "      <td>For Those About To Rock (We Salute You)</td>\n",
       "      <td>1</td>\n",
       "      <td>1</td>\n",
       "      <td>1</td>\n",
       "      <td>Angus Young, Malcolm Young, Brian Johnson</td>\n",
       "      <td>343719</td>\n",
       "      <td>11170334</td>\n",
       "      <td>0.98</td>\n",
       "    </tr>\n",
       "    <tr>\n",
       "      <td>2</td>\n",
       "      <td>Balls to the Wall</td>\n",
       "      <td>2</td>\n",
       "      <td>2</td>\n",
       "      <td>1</td>\n",
       "      <td>None</td>\n",
       "      <td>342562</td>\n",
       "      <td>5510424</td>\n",
       "      <td>0.98</td>\n",
       "    </tr>\n",
       "    <tr>\n",
       "      <td>3</td>\n",
       "      <td>Fast As a Shark</td>\n",
       "      <td>3</td>\n",
       "      <td>2</td>\n",
       "      <td>1</td>\n",
       "      <td>F. Baltes, S. Kaufman, U. Dirkscneider &amp; W. Hoffman</td>\n",
       "      <td>230619</td>\n",
       "      <td>3990994</td>\n",
       "      <td>0.98</td>\n",
       "    </tr>\n",
       "    <tr>\n",
       "      <td>...</td>\n",
       "      <td>...</td>\n",
       "      <td>...</td>\n",
       "      <td>...</td>\n",
       "      <td>...</td>\n",
       "      <td>...</td>\n",
       "      <td>...</td>\n",
       "      <td>...</td>\n",
       "      <td>...</td>\n",
       "    </tr>\n",
       "    <tr>\n",
       "      <td>3502</td>\n",
       "      <td>Quintet for Horn, Violin, 2 Violas, and Cello in E Flat Major, K. 407/386c: III. Allegro</td>\n",
       "      <td>346</td>\n",
       "      <td>2</td>\n",
       "      <td>24</td>\n",
       "      <td>Wolfgang Amadeus Mozart</td>\n",
       "      <td>221331</td>\n",
       "      <td>3665114</td>\n",
       "      <td>0.98</td>\n",
       "    </tr>\n",
       "    <tr>\n",
       "      <td>3503</td>\n",
       "      <td>Koyaanisqatsi</td>\n",
       "      <td>347</td>\n",
       "      <td>2</td>\n",
       "      <td>10</td>\n",
       "      <td>Philip Glass</td>\n",
       "      <td>206005</td>\n",
       "      <td>3305164</td>\n",
       "      <td>0.98</td>\n",
       "    </tr>\n",
       "  </tbody>\n",
       "</table><p>3503 rows x  9 cols &nbsp;&nbsp;&nbsp;&nbsp;&nbsp;DuckDBPyRelation VIEW chinook.main.a_view </p><p><i>Just a view</i></p>\n",
       "\n"
      ],
      "text/markdown": [
       "#### DuckDBPyRelation VIEW chinook.main.a_view \n",
       "\n",
       " > Just a view\n",
       "\n",
       "| TrackId   | Name                                                                                     | AlbumId   | MediaTypeId   | GenreId   | Composer                                            | Milliseconds   | Bytes    | UnitPrice   |\n",
       "|:----------|:-----------------------------------------------------------------------------------------|:----------|:--------------|:----------|:----------------------------------------------------|:---------------|:---------|:------------|\n",
       "| 1         | For Those About To Rock (We Salute You)                                                  | 1         | 1             | 1         | Angus Young, Malcolm Young, Brian Johnson           | 343719         | 11170334 | 0.98        |\n",
       "| 2         | Balls to the Wall                                                                        | 2         | 2             | 1         |                                                     | 342562         | 5510424  | 0.98        |\n",
       "| 3         | Fast As a Shark                                                                          | 3         | 2             | 1         | F. Baltes, S. Kaufman, U. Dirkscneider & W. Hoffman | 230619         | 3990994  | 0.98        |\n",
       "| ...       | ...                                                                                      | ...       | ...           | ...       | ...                                                 | ...            | ...      | ...         |\n",
       "| 3502      | Quintet for Horn, Violin, 2 Violas, and Cello in E Flat Major, K. 407/386c: III. Allegro | 346       | 2             | 24        | Wolfgang Amadeus Mozart                             | 221331         | 3665114  | 0.98        |\n",
       "| 3503      | Koyaanisqatsi                                                                            | 347       | 2             | 10        | Philip Glass                                        | 206005         | 3305164  | 0.98        |\n",
       "\n",
       " 3503 rows  x  9 cols "
      ],
      "text/plain": [
       "DuckDBPyRelation VIEW chinook.main.a_view \n"
      ]
     },
     "execution_count": null,
     "metadata": {},
     "output_type": "execute_result"
    }
   ],
   "source": [
    "db.v.a_view"
   ]
  },
  {
   "cell_type": "code",
   "execution_count": null,
   "metadata": {},
   "outputs": [
    {
     "data": {
      "text/html": [
       "<table border=\"1\" class=\"dataframe\">\n",
       "  <thead>\n",
       "    <tr style=\"text-align: right;\">\n",
       "      <th>AlbumId</th>\n",
       "      <th>Title</th>\n",
       "      <th>ArtistId</th>\n",
       "    </tr>\n",
       "  </thead>\n",
       "  <tbody>\n",
       "    <tr>\n",
       "      <td>1</td>\n",
       "      <td>For Those About To Rock We Salute You</td>\n",
       "      <td>1</td>\n",
       "    </tr>\n",
       "    <tr>\n",
       "      <td>2</td>\n",
       "      <td>Balls to the Wall</td>\n",
       "      <td>2</td>\n",
       "    </tr>\n",
       "    <tr>\n",
       "      <td>3</td>\n",
       "      <td>Restless and Wild</td>\n",
       "      <td>2</td>\n",
       "    </tr>\n",
       "    <tr>\n",
       "      <td>...</td>\n",
       "      <td>...</td>\n",
       "      <td>...</td>\n",
       "    </tr>\n",
       "    <tr>\n",
       "      <td>346</td>\n",
       "      <td>Mozart: Chamber Music</td>\n",
       "      <td>274</td>\n",
       "    </tr>\n",
       "    <tr>\n",
       "      <td>347</td>\n",
       "      <td>Koyaanisqatsi (Soundtrack from the Motion Picture)</td>\n",
       "      <td>275</td>\n",
       "    </tr>\n",
       "  </tbody>\n",
       "</table><p>347 rows x  3 cols &nbsp;&nbsp;&nbsp;&nbsp;&nbsp;DuckDBPyRelation   </p>"
      ],
      "text/markdown": [
       "#### DuckDBPyRelation   \n",
       "\n",
       " | AlbumId   | Title                                              | ArtistId   |\n",
       "|:----------|:---------------------------------------------------|:-----------|\n",
       "| 1         | For Those About To Rock We Salute You              | 1          |\n",
       "| 2         | Balls to the Wall                                  | 2          |\n",
       "| 3         | Restless and Wild                                  | 2          |\n",
       "| ...       | ...                                                | ...        |\n",
       "| 346       | Mozart: Chamber Music                              | 274        |\n",
       "| 347       | Koyaanisqatsi (Soundtrack from the Motion Picture) | 275        |\n",
       "\n",
       " 347 rows  x  3 cols "
      ],
      "text/plain": [
       "DuckDBPyRelation   \n"
      ]
     },
     "execution_count": null,
     "metadata": {},
     "output_type": "execute_result"
    }
   ],
   "source": [
    "db.sql('select * from Album')"
   ]
  },
  {
   "cell_type": "code",
   "execution_count": null,
   "metadata": {},
   "outputs": [
    {
     "data": {
      "text/html": [
       "<table border=\"1\" class=\"dataframe\">\n",
       "  <thead>\n",
       "    <tr style=\"text-align: right;\">\n",
       "      <th>GenreId</th>\n",
       "      <th>Name</th>\n",
       "    </tr>\n",
       "  </thead>\n",
       "  <tbody>\n",
       "    <tr>\n",
       "      <td>1</td>\n",
       "      <td>Rock</td>\n",
       "    </tr>\n",
       "    <tr>\n",
       "      <td>2</td>\n",
       "      <td>Jazz</td>\n",
       "    </tr>\n",
       "    <tr>\n",
       "      <td>3</td>\n",
       "      <td>Metal</td>\n",
       "    </tr>\n",
       "    <tr>\n",
       "      <td>...</td>\n",
       "      <td>...</td>\n",
       "    </tr>\n",
       "    <tr>\n",
       "      <td>24</td>\n",
       "      <td>Classical</td>\n",
       "    </tr>\n",
       "    <tr>\n",
       "      <td>25</td>\n",
       "      <td>Opera</td>\n",
       "    </tr>\n",
       "  </tbody>\n",
       "</table><p>25 rows x  2 cols &nbsp;&nbsp;&nbsp;&nbsp;&nbsp;DuckDBPyRelation BASE_TABLE chinook.main.Genre </p>"
      ],
      "text/markdown": [
       "#### DuckDBPyRelation BASE TABLE chinook.main.Genre \n",
       "\n",
       " | GenreId   | Name      |\n",
       "|:----------|:----------|\n",
       "| 1         | Rock      |\n",
       "| 2         | Jazz      |\n",
       "| 3         | Metal     |\n",
       "| ...       | ...       |\n",
       "| 24        | Classical |\n",
       "| 25        | Opera     |\n",
       "\n",
       " 25 rows  x  2 cols "
      ],
      "text/plain": [
       "DuckDBPyRelation BASE TABLE chinook.main.Genre \n"
      ]
     },
     "execution_count": null,
     "metadata": {},
     "output_type": "execute_result"
    }
   ],
   "source": [
    "db.t.Genre"
   ]
  },
  {
   "cell_type": "code",
   "execution_count": null,
   "metadata": {},
   "outputs": [
    {
     "data": {
      "text/html": [
       "<table border=\"1\" class=\"dataframe\">\n",
       "  <thead>\n",
       "    <tr style=\"text-align: right;\">\n",
       "      <th>AlbumId</th>\n",
       "      <th>Title</th>\n",
       "    </tr>\n",
       "  </thead>\n",
       "  <tbody>\n",
       "    <tr>\n",
       "      <td>1</td>\n",
       "      <td>For Those About To Rock We Salute You</td>\n",
       "    </tr>\n",
       "    <tr>\n",
       "      <td>2</td>\n",
       "      <td>Balls to the Wall</td>\n",
       "    </tr>\n",
       "    <tr>\n",
       "      <td>3</td>\n",
       "      <td>Restless and Wild</td>\n",
       "    </tr>\n",
       "    <tr>\n",
       "      <td>4</td>\n",
       "      <td>Let There Be Rock</td>\n",
       "    </tr>\n",
       "  </tbody>\n",
       "</table><p>4 rows x  2 cols &nbsp;&nbsp;&nbsp;&nbsp;&nbsp;DuckDBPyRelation  chinook.main.Album </p>"
      ],
      "text/markdown": [
       "#### DuckDBPyRelation  chinook.main.Album \n",
       "\n",
       " |   AlbumId | Title                                 |\n",
       "|----------:|:--------------------------------------|\n",
       "|         1 | For Those About To Rock We Salute You |\n",
       "|         2 | Balls to the Wall                     |\n",
       "|         3 | Restless and Wild                     |\n",
       "|         4 | Let There Be Rock                     |\n",
       "\n",
       " 4 rows  x  2 cols "
      ],
      "text/plain": [
       "DuckDBPyRelation  chinook.main.Album \n"
      ]
     },
     "execution_count": null,
     "metadata": {},
     "output_type": "execute_result"
    }
   ],
   "source": [
    "a"
   ]
  },
  {
   "cell_type": "markdown",
   "metadata": {},
   "source": [
    "#### Replacement Scans"
   ]
  },
  {
   "cell_type": "markdown",
   "metadata": {},
   "source": [
    "You may be asking yourself why I am patching `DuckDBPyRelation` and `DuckDBPyConnection` instead of subclassing them.\n",
    "The problem is that these classes do not allow subclassing.  They do not implement `__init__`.\n",
    "\n",
    "We could have create our own classes like `Database` and `Table` and just wrap DuckDBPy objects. But then we would loose a very nice feature of the PyRelation objects.....\n",
    "\n",
    "\n",
    "*replacement scans*.\n"
   ]
  },
  {
   "cell_type": "code",
   "execution_count": null,
   "metadata": {},
   "outputs": [],
   "source": [
    "a = db.t.Album"
   ]
  },
  {
   "cell_type": "code",
   "execution_count": null,
   "metadata": {},
   "outputs": [
    {
     "data": {
      "text/html": [
       "<table border=\"1\" class=\"dataframe\">\n",
       "  <thead>\n",
       "    <tr style=\"text-align: right;\">\n",
       "      <th>AlbumId</th>\n",
       "      <th>Title</th>\n",
       "      <th>ArtistId</th>\n",
       "    </tr>\n",
       "  </thead>\n",
       "  <tbody>\n",
       "    <tr>\n",
       "      <td>1</td>\n",
       "      <td>For Those About To Rock We Salute You</td>\n",
       "      <td>1</td>\n",
       "    </tr>\n",
       "    <tr>\n",
       "      <td>2</td>\n",
       "      <td>Balls to the Wall</td>\n",
       "      <td>2</td>\n",
       "    </tr>\n",
       "    <tr>\n",
       "      <td>3</td>\n",
       "      <td>Restless and Wild</td>\n",
       "      <td>2</td>\n",
       "    </tr>\n",
       "    <tr>\n",
       "      <td>...</td>\n",
       "      <td>...</td>\n",
       "      <td>...</td>\n",
       "    </tr>\n",
       "    <tr>\n",
       "      <td>346</td>\n",
       "      <td>Mozart: Chamber Music</td>\n",
       "      <td>274</td>\n",
       "    </tr>\n",
       "    <tr>\n",
       "      <td>347</td>\n",
       "      <td>Koyaanisqatsi (Soundtrack from the Motion Picture)</td>\n",
       "      <td>275</td>\n",
       "    </tr>\n",
       "  </tbody>\n",
       "</table><p>347 rows x  3 cols &nbsp;&nbsp;&nbsp;&nbsp;&nbsp;DuckDBPyRelation   </p>"
      ],
      "text/markdown": [
       "#### DuckDBPyRelation   \n",
       "\n",
       " | AlbumId   | Title                                              | ArtistId   |\n",
       "|:----------|:---------------------------------------------------|:-----------|\n",
       "| 1         | For Those About To Rock We Salute You              | 1          |\n",
       "| 2         | Balls to the Wall                                  | 2          |\n",
       "| 3         | Restless and Wild                                  | 2          |\n",
       "| ...       | ...                                                | ...        |\n",
       "| 346       | Mozart: Chamber Music                              | 274        |\n",
       "| 347       | Koyaanisqatsi (Soundtrack from the Motion Picture) | 275        |\n",
       "\n",
       " 347 rows  x  3 cols "
      ],
      "text/plain": [
       "DuckDBPyRelation   \n"
      ]
     },
     "execution_count": null,
     "metadata": {},
     "output_type": "execute_result"
    }
   ],
   "source": [
    "db.sql(\"select * from a\")"
   ]
  },
  {
   "cell_type": "markdown",
   "metadata": {},
   "source": [
    "I did not had to use a f-string and pass the variable.  DuckDBPy objects (as well as Pandas and Polars Dataframes, Arrow tables, and Datasets) are replaced in the query automagically."
   ]
  },
  {
   "cell_type": "code",
   "execution_count": null,
   "metadata": {},
   "outputs": [
    {
     "data": {
      "text/html": [
       "<table border=\"1\" class=\"dataframe\">\n",
       "  <thead>\n",
       "    <tr style=\"text-align: right;\">\n",
       "      <th>AlbumId</th>\n",
       "      <th>Title</th>\n",
       "      <th>ArtistId</th>\n",
       "    </tr>\n",
       "  </thead>\n",
       "  <tbody>\n",
       "    <tr>\n",
       "      <td>1</td>\n",
       "      <td>For Those About To Rock We Salute You</td>\n",
       "      <td>1</td>\n",
       "    </tr>\n",
       "    <tr>\n",
       "      <td>2</td>\n",
       "      <td>Balls to the Wall</td>\n",
       "      <td>2</td>\n",
       "    </tr>\n",
       "    <tr>\n",
       "      <td>3</td>\n",
       "      <td>Restless and Wild</td>\n",
       "      <td>2</td>\n",
       "    </tr>\n",
       "    <tr>\n",
       "      <td>...</td>\n",
       "      <td>...</td>\n",
       "      <td>...</td>\n",
       "    </tr>\n",
       "    <tr>\n",
       "      <td>346</td>\n",
       "      <td>Mozart: Chamber Music</td>\n",
       "      <td>274</td>\n",
       "    </tr>\n",
       "    <tr>\n",
       "      <td>347</td>\n",
       "      <td>Koyaanisqatsi (Soundtrack from the Motion Picture)</td>\n",
       "      <td>275</td>\n",
       "    </tr>\n",
       "  </tbody>\n",
       "</table><p>347 rows x  3 cols &nbsp;&nbsp;&nbsp;&nbsp;&nbsp;DuckDBPyRelation   </p>"
      ],
      "text/markdown": [
       "#### DuckDBPyRelation   \n",
       "\n",
       " | AlbumId   | Title                                              | ArtistId   |\n",
       "|:----------|:---------------------------------------------------|:-----------|\n",
       "| 1         | For Those About To Rock We Salute You              | 1          |\n",
       "| 2         | Balls to the Wall                                  | 2          |\n",
       "| 3         | Restless and Wild                                  | 2          |\n",
       "| ...       | ...                                                | ...        |\n",
       "| 346       | Mozart: Chamber Music                              | 274        |\n",
       "| 347       | Koyaanisqatsi (Soundtrack from the Motion Picture) | 275        |\n",
       "\n",
       " 347 rows  x  3 cols "
      ],
      "text/plain": [
       "DuckDBPyRelation   \n"
      ]
     },
     "execution_count": null,
     "metadata": {},
     "output_type": "execute_result"
    }
   ],
   "source": [
    "db.sql(f\"select * from {a}\")"
   ]
  },
  {
   "cell_type": "code",
   "execution_count": null,
   "metadata": {},
   "outputs": [
    {
     "data": {
      "text/plain": [
       "'chinook.main.Album'"
      ]
     },
     "execution_count": null,
     "metadata": {},
     "output_type": "execute_result"
    }
   ],
   "source": [
    "str(a)"
   ]
  },
  {
   "cell_type": "code",
   "execution_count": null,
   "metadata": {},
   "outputs": [
    {
     "data": {
      "text/html": [
       "<table border=\"1\" class=\"dataframe\">\n",
       "  <thead>\n",
       "    <tr style=\"text-align: right;\">\n",
       "      <th>catalog</th>\n",
       "      <th>schema</th>\n",
       "      <th>name</th>\n",
       "      <th>type</th>\n",
       "      <th>comment</th>\n",
       "    </tr>\n",
       "  </thead>\n",
       "  <tbody>\n",
       "    <tr>\n",
       "      <td>chinook</td>\n",
       "      <td>main</td>\n",
       "      <td>Album</td>\n",
       "      <td>BASE TABLE</td>\n",
       "      <td>Album table</td>\n",
       "    </tr>\n",
       "    <tr>\n",
       "      <td>chinook</td>\n",
       "      <td>main</td>\n",
       "      <td>Artist</td>\n",
       "      <td>BASE TABLE</td>\n",
       "      <td>None</td>\n",
       "    </tr>\n",
       "    <tr>\n",
       "      <td>chinook</td>\n",
       "      <td>main</td>\n",
       "      <td>Customer</td>\n",
       "      <td>BASE TABLE</td>\n",
       "      <td>None</td>\n",
       "    </tr>\n",
       "    <tr>\n",
       "      <td>...</td>\n",
       "      <td>...</td>\n",
       "      <td>...</td>\n",
       "      <td>...</td>\n",
       "      <td>...</td>\n",
       "    </tr>\n",
       "    <tr>\n",
       "      <td>chinook</td>\n",
       "      <td>main</td>\n",
       "      <td>a_view</td>\n",
       "      <td>VIEW</td>\n",
       "      <td>Just a view</td>\n",
       "    </tr>\n",
       "    <tr>\n",
       "      <td>chinook</td>\n",
       "      <td>main</td>\n",
       "      <td>temp_view</td>\n",
       "      <td>VIEW</td>\n",
       "      <td>None</td>\n",
       "    </tr>\n",
       "  </tbody>\n",
       "</table><p>13 rows x  5 cols &nbsp;&nbsp;&nbsp;&nbsp;&nbsp;DuckDBPyRelation   </p>"
      ],
      "text/markdown": [
       "#### DuckDBPyRelation   \n",
       "\n",
       " | catalog   | schema   | name      | type       | comment     |\n",
       "|:----------|:---------|:----------|:-----------|:------------|\n",
       "| chinook   | main     | Album     | BASE TABLE | Album table |\n",
       "| chinook   | main     | Artist    | BASE TABLE |             |\n",
       "| chinook   | main     | Customer  | BASE TABLE |             |\n",
       "| ...       | ...      | ...       | ...        | ...         |\n",
       "| chinook   | main     | a_view    | VIEW       | Just a view |\n",
       "| chinook   | main     | temp_view | VIEW       |             |\n",
       "\n",
       " 13 rows  x  5 cols "
      ],
      "text/plain": [
       "DuckDBPyRelation   \n"
      ]
     },
     "execution_count": null,
     "metadata": {},
     "output_type": "execute_result"
    }
   ],
   "source": [
    "db.tables"
   ]
  },
  {
   "cell_type": "markdown",
   "metadata": {},
   "source": [
    "## Database management"
   ]
  },
  {
   "cell_type": "markdown",
   "metadata": {},
   "source": [
    "#### Attach, Detach and Use"
   ]
  },
  {
   "cell_type": "code",
   "execution_count": null,
   "metadata": {},
   "outputs": [],
   "source": [
    "#| export\n",
    "\n",
    "class RemoteSqliteError(Exception): pass\n",
    "class InvalidPathError(Exception): pass\n",
    "\n",
    "@patch\n",
    "def attach(self: DuckDBPyConnection, path, read_only:bool = False, type:Literal['duckdb' | 'sqlite']='duckdb', catalog_name:str=None) -> None:\n",
    "    type = 'sqlite' if Path(path).suffix =='.sqlite' else type\n",
    "    if path.startswith(('s3://', 'gcp://', 'https://')):\n",
    "        self.install_extension('httpfs')\n",
    "        self.load_extension('httpfs')\n",
    "        read_only = True\n",
    "        if type =='sqlite': raise RemoteSqliteError('Cannot attach to a remote sqlite database.')\n",
    "    elif not Path(path).exists(): raise InvalidPathError(f\"Couldn't find {path}\")\n",
    "    self.install_extension('sqlite')\n",
    "    self.load_extension('sqlite')\n",
    "    o = \"(TYPE sqlite, \" if type=='sqlite' else \"(\"\n",
    "    o += f\"READ_ONLY  {read_only})\"\n",
    "    q = f\"'{path}' {'AS ' + catalog_name if catalog_name else ''} {o}\"\n",
    "    self.sql(f\"ATTACH {q}\")"
   ]
  },
  {
   "cell_type": "code",
   "execution_count": null,
   "metadata": {},
   "outputs": [],
   "source": [
    "@patch\n",
    "def detach(self: DuckDBPyConnection, catalog_name) -> None:\n",
    "    if catalog_name in self.schemas.to_list(): self.sql(f\"DETACH {catalog_name.split('_')[0]}\")"
   ]
  },
  {
   "cell_type": "code",
   "execution_count": null,
   "metadata": {},
   "outputs": [],
   "source": [
    "db.attach('../data/chinook.sqlite', catalog_name='lite')"
   ]
  },
  {
   "cell_type": "code",
   "execution_count": null,
   "metadata": {},
   "outputs": [
    {
     "data": {
      "text/html": [
       "<table border=\"1\" class=\"dataframe\">\n",
       "  <thead>\n",
       "    <tr style=\"text-align: right;\">\n",
       "      <th>catalog_schema</th>\n",
       "    </tr>\n",
       "  </thead>\n",
       "  <tbody>\n",
       "    <tr>\n",
       "      <td>chinook_main</td>\n",
       "    </tr>\n",
       "    <tr>\n",
       "      <td>lite_main</td>\n",
       "    </tr>\n",
       "  </tbody>\n",
       "</table><p>2 rows x  1 cols &nbsp;&nbsp;&nbsp;&nbsp;&nbsp;DuckDBPyRelation   </p>"
      ],
      "text/markdown": [
       "#### DuckDBPyRelation   \n",
       "\n",
       " | catalog_schema   |\n",
       "|:-----------------|\n",
       "| lite_main        |\n",
       "| chinook_main     |\n",
       "\n",
       " 2 rows  x  1 cols "
      ],
      "text/plain": [
       "DuckDBPyRelation   \n"
      ]
     },
     "execution_count": null,
     "metadata": {},
     "output_type": "execute_result"
    }
   ],
   "source": [
    "db.schemas"
   ]
  },
  {
   "cell_type": "code",
   "execution_count": null,
   "metadata": {},
   "outputs": [],
   "source": [
    "db.detach('lite_main')"
   ]
  },
  {
   "cell_type": "markdown",
   "metadata": {},
   "source": [
    "#### Drop"
   ]
  },
  {
   "cell_type": "code",
   "execution_count": null,
   "metadata": {},
   "outputs": [],
   "source": [
    "#| export\n",
    "\n",
    "\n",
    "def find_matches(pattern: str, items: List[str]) -> List[str]:\n",
    "    regex_pattern = re.compile(pattern)\n",
    "    return [item for item in items if regex_pattern.match(item)]\n",
    "    \n",
    "@patch\n",
    "def __contains__(self:DuckDBPyConnection, name:str):\n",
    "    schm, _, tbl = name.rpartition('.')\n",
    "    return tbl in self.tables.filter(f\"schema = '{schm or self.schema}'\").select('name').to_list()\n",
    "\n",
    "@patch\n",
    "def drop(self: DuckDBPyConnection, pattern: str):\n",
    "    '''Drop a table or view'''\n",
    "    schm, _, tbl = pattern.rpartition('.')\n",
    "    schm = schm or self.schema\n",
    "    dropping = find_matches('.'.join([schm, tbl]), [rec['schema']+'.'+rec['name'] for rec in self.tables.filter(f\"catalog = '{self.catalog}'\").to_recs()])\n",
    "    for tbl in dropping: self.sql(f\"DROP TABLE {tbl}\")"
   ]
  },
  {
   "cell_type": "code",
   "execution_count": null,
   "metadata": {},
   "outputs": [
    {
     "name": "stdout",
     "output_type": "stream",
     "text": [
      "┌─────────┬─────────┬───────────────┬────────────┬─────────────┐\n",
      "│ catalog │ schema  │     name      │    type    │   comment   │\n",
      "│ varchar │ varchar │    varchar    │  varchar   │   varchar   │\n",
      "├─────────┼─────────┼───────────────┼────────────┼─────────────┤\n",
      "│ chinook │ main    │ Album         │ BASE TABLE │ Album table │\n",
      "│ chinook │ main    │ Artist        │ BASE TABLE │ NULL        │\n",
      "│ chinook │ main    │ Customer      │ BASE TABLE │ NULL        │\n",
      "│ chinook │ main    │ Employee      │ BASE TABLE │ NULL        │\n",
      "│ chinook │ main    │ Genre         │ BASE TABLE │ NULL        │\n",
      "│ chinook │ main    │ Invoice       │ BASE TABLE │ NULL        │\n",
      "│ chinook │ main    │ InvoiceLine   │ BASE TABLE │ NULL        │\n",
      "│ chinook │ main    │ MediaType     │ BASE TABLE │ NULL        │\n",
      "│ chinook │ main    │ Playlist      │ BASE TABLE │ NULL        │\n",
      "│ chinook │ main    │ PlaylistTrack │ BASE TABLE │ NULL        │\n",
      "│ chinook │ main    │ Track         │ BASE TABLE │ NULL        │\n",
      "│ chinook │ main    │ a_view        │ VIEW       │ Just a view │\n",
      "│ chinook │ main    │ temp_view     │ VIEW       │ NULL        │\n",
      "├─────────┴─────────┴───────────────┴────────────┴─────────────┤\n",
      "│ 13 rows                                            5 columns │\n",
      "└──────────────────────────────────────────────────────────────┘\n",
      "\n"
     ]
    }
   ],
   "source": [
    "db.tables.show()"
   ]
  },
  {
   "cell_type": "code",
   "execution_count": null,
   "metadata": {},
   "outputs": [],
   "source": [
    "db.drop('non_existent')"
   ]
  },
  {
   "cell_type": "markdown",
   "metadata": {},
   "source": [
    "#### Create Table or View"
   ]
  },
  {
   "cell_type": "code",
   "execution_count": null,
   "metadata": {},
   "outputs": [],
   "source": [
    "#| export\n",
    "\n",
    "@patch\n",
    "def _create(self: DuckDBPyConnection, type: str, fileglob: str, table_name: Optional[str] = None, \n",
    "            filetype: Optional[Literal['csv', 'xlsx', 'json', 'parquet', 'sqlite']] = None, \n",
    "            replace: bool = False, as_name: Optional[str] = None, *args, **kwargs):\n",
    "    filepath, name = Path(fileglob), as_name or table_name or Path(fileglob).stem\n",
    "    if name in self and not replace: raise ValueError(f\"Table {name} already exists\")\n",
    "    self.drop(name)\n",
    "    filetype = filetype or filepath.suffix[1:]\n",
    "    options = ', '.join(f\"{k}={repr(v)}\" for k, v in kwargs.items())\n",
    "    \n",
    "    if filetype == 'sqlite':\n",
    "        self.install_extension('sqlite'), self.load_extension('sqlite')\n",
    "        self.sql(f\"CREATE {type} {name} AS SELECT * FROM sqlite_scan('{filepath}', {table_name} {options})\")\n",
    "    elif filetype == 'xlsx':\n",
    "        self.install_extension('spatial'), self.load_extension('spatial')\n",
    "        self.sql(f\"CREATE {type} {name} AS SELECT * FROM st_read('{filepath}' {options})\")\n",
    "    else:\n",
    "        getattr(self, f'read_{filetype}')(fileglob, *args, **kwargs).to_table(name)\n",
    "\n",
    "@patch\n",
    "def create_table(self: DuckDBPyConnection, \n",
    "                 fileglob: str, # file path or glob\n",
    "                 table_name: Optional[str] = None, # table name\n",
    "                 filetype: Optional[Literal['csv', 'xlsx', 'json', 'parquet', 'sqlite']] = None, # file type\n",
    "                 as_name:Optional[str]=None ,\n",
    "                 replace: bool = False, # replace existing table\n",
    "                 *args, **kwargs \n",
    "                 ):\n",
    "    '''Create a table from a file'''\n",
    "    return self._create('TABLE', fileglob, table_name, filetype, replace, as_name, *args, **kwargs)\n",
    "\n",
    "@patch\n",
    "def create_view(self: DuckDBPyConnection, \n",
    "                 fileglob: str, # file path or glob\n",
    "                 view_name: Optional[str] = None, # view name\n",
    "                 filetype: Optional[Literal['csv', 'xlsx', 'json', 'parquet', 'sqlite']] = None, # file type\n",
    "                 replace: bool = False,  # replace existing view\n",
    "                 as_name:Optional[str]=None ,\n",
    "                 *args, **kwargs\n",
    "                 ):\n",
    "    '''Create a view from a file'''\n",
    "    return self._create('VIEW', fileglob, view_name, filetype, replace, as_name, *args, **kwargs)\n",
    "    "
   ]
  },
  {
   "cell_type": "code",
   "execution_count": null,
   "metadata": {},
   "outputs": [
    {
     "data": {
      "text/html": [
       "<table border=\"1\" class=\"dataframe\">\n",
       "  <thead>\n",
       "    <tr style=\"text-align: right;\">\n",
       "      <th>catalog</th>\n",
       "      <th>schema</th>\n",
       "      <th>name</th>\n",
       "      <th>type</th>\n",
       "      <th>comment</th>\n",
       "    </tr>\n",
       "  </thead>\n",
       "  <tbody>\n",
       "    <tr>\n",
       "      <td>chinook</td>\n",
       "      <td>main</td>\n",
       "      <td>Album</td>\n",
       "      <td>BASE TABLE</td>\n",
       "      <td>Album table</td>\n",
       "    </tr>\n",
       "    <tr>\n",
       "      <td>chinook</td>\n",
       "      <td>main</td>\n",
       "      <td>Artist</td>\n",
       "      <td>BASE TABLE</td>\n",
       "      <td>None</td>\n",
       "    </tr>\n",
       "    <tr>\n",
       "      <td>chinook</td>\n",
       "      <td>main</td>\n",
       "      <td>Customer</td>\n",
       "      <td>BASE TABLE</td>\n",
       "      <td>None</td>\n",
       "    </tr>\n",
       "    <tr>\n",
       "      <td>...</td>\n",
       "      <td>...</td>\n",
       "      <td>...</td>\n",
       "      <td>...</td>\n",
       "      <td>...</td>\n",
       "    </tr>\n",
       "    <tr>\n",
       "      <td>chinook</td>\n",
       "      <td>main</td>\n",
       "      <td>a_view</td>\n",
       "      <td>VIEW</td>\n",
       "      <td>Just a view</td>\n",
       "    </tr>\n",
       "    <tr>\n",
       "      <td>chinook</td>\n",
       "      <td>main</td>\n",
       "      <td>temp_view</td>\n",
       "      <td>VIEW</td>\n",
       "      <td>None</td>\n",
       "    </tr>\n",
       "  </tbody>\n",
       "</table><p>14 rows x  5 cols &nbsp;&nbsp;&nbsp;&nbsp;&nbsp;DuckDBPyRelation   </p>"
      ],
      "text/markdown": [
       "#### DuckDBPyRelation   \n",
       "\n",
       " | catalog   | schema   | name      | type       | comment     |\n",
       "|:----------|:---------|:----------|:-----------|:------------|\n",
       "| chinook   | main     | Album     | BASE TABLE | Album table |\n",
       "| chinook   | main     | Artist    | BASE TABLE |             |\n",
       "| chinook   | main     | Customer  | BASE TABLE |             |\n",
       "| ...       | ...      | ...       | ...        | ...         |\n",
       "| chinook   | main     | a_view    | VIEW       | Just a view |\n",
       "| chinook   | main     | temp_view | VIEW       |             |\n",
       "\n",
       " 14 rows  x  5 cols "
      ],
      "text/plain": [
       "DuckDBPyRelation   \n"
      ]
     },
     "execution_count": null,
     "metadata": {},
     "output_type": "execute_result"
    }
   ],
   "source": [
    "db.create_table('../data/username.latin1.csv', 'latin', replace=True)\n",
    "db.tables"
   ]
  },
  {
   "cell_type": "code",
   "execution_count": null,
   "metadata": {},
   "outputs": [],
   "source": [
    "db.create_view('../data/username.latin1.csv', 'latin1view', replace=True)"
   ]
  },
  {
   "cell_type": "code",
   "execution_count": null,
   "metadata": {},
   "outputs": [
    {
     "data": {
      "text/html": [
       "<table border=\"1\" class=\"dataframe\">\n",
       "  <thead>\n",
       "    <tr style=\"text-align: right;\">\n",
       "      <th>catalog</th>\n",
       "      <th>schema</th>\n",
       "      <th>name</th>\n",
       "      <th>type</th>\n",
       "      <th>comment</th>\n",
       "    </tr>\n",
       "  </thead>\n",
       "  <tbody>\n",
       "    <tr>\n",
       "      <td>chinook</td>\n",
       "      <td>main</td>\n",
       "      <td>latin</td>\n",
       "      <td>BASE TABLE</td>\n",
       "      <td>None</td>\n",
       "    </tr>\n",
       "    <tr>\n",
       "      <td>chinook</td>\n",
       "      <td>main</td>\n",
       "      <td>latin1view</td>\n",
       "      <td>BASE TABLE</td>\n",
       "      <td>None</td>\n",
       "    </tr>\n",
       "  </tbody>\n",
       "</table><p>2 rows x  5 cols &nbsp;&nbsp;&nbsp;&nbsp;&nbsp;DuckDBPyRelation   </p>"
      ],
      "text/markdown": [
       "#### DuckDBPyRelation   \n",
       "\n",
       " | catalog   | schema   | name       | type       | comment   |\n",
       "|:----------|:---------|:-----------|:-----------|:----------|\n",
       "| chinook   | main     | latin      | BASE TABLE |           |\n",
       "| chinook   | main     | latin1view | BASE TABLE |           |\n",
       "\n",
       " 2 rows  x  5 cols "
      ],
      "text/plain": [
       "DuckDBPyRelation   \n"
      ]
     },
     "execution_count": null,
     "metadata": {},
     "output_type": "execute_result"
    }
   ],
   "source": [
    "db.tables.filter(f\"name like '%latin%'\")\n",
    "#  db.sql(\"select distinct database_name, schema_name, table_name, column_name from duckdb_columns()\")\n",
    "# db.sql(\"attach database '../data/chinook.sqlite' as sqlite\")"
   ]
  },
  {
   "cell_type": "code",
   "execution_count": null,
   "metadata": {},
   "outputs": [],
   "source": [
    "db.drop('latin1view')\n",
    "db.drop('latin')"
   ]
  },
  {
   "cell_type": "code",
   "execution_count": null,
   "metadata": {},
   "outputs": [],
   "source": [
    "# from fastcore.test import test_fail\n",
    "# test_fail(db.drop, 'banana') # fix error in nbdev_prepare"
   ]
  },
  {
   "cell_type": "code",
   "execution_count": null,
   "metadata": {},
   "outputs": [],
   "source": [
    "# db.create_table('https://jsonplaceholder.typicode.com/todos/', 'todos', filetype='json', replace=True)"
   ]
  },
  {
   "cell_type": "code",
   "execution_count": null,
   "metadata": {},
   "outputs": [],
   "source": [
    "# db.t.todos.limit(10)"
   ]
  },
  {
   "cell_type": "code",
   "execution_count": null,
   "metadata": {},
   "outputs": [],
   "source": [
    "# db.create_table('https://huggingface.co/datasets/ibm/duorc/resolve/refs%2Fconvert%2Fparquet/ParaphraseRC/test/0000.parquet', 'hf_movies')"
   ]
  },
  {
   "cell_type": "code",
   "execution_count": null,
   "metadata": {},
   "outputs": [],
   "source": [
    "# db.t.hf_movies.limit(2)"
   ]
  },
  {
   "cell_type": "code",
   "execution_count": null,
   "metadata": {},
   "outputs": [],
   "source": [
    "# db.drop('hf_movies')\n"
   ]
  },
  {
   "cell_type": "code",
   "execution_count": null,
   "metadata": {},
   "outputs": [],
   "source": [
    "\n",
    "db.create_table('../data/example.xlsx')"
   ]
  },
  {
   "cell_type": "code",
   "execution_count": null,
   "metadata": {},
   "outputs": [
    {
     "data": {
      "text/html": [
       "<table border=\"1\" class=\"dataframe\">\n",
       "  <thead>\n",
       "    <tr style=\"text-align: right;\">\n",
       "      <th>COLUMN1</th>\n",
       "      <th>COLUMN WITH SPACE</th>\n",
       "      <th>Cólumn name</th>\n",
       "    </tr>\n",
       "  </thead>\n",
       "  <tbody>\n",
       "    <tr>\n",
       "      <td>1</td>\n",
       "      <td>1.3</td>\n",
       "      <td>a</td>\n",
       "    </tr>\n",
       "    <tr>\n",
       "      <td>2</td>\n",
       "      <td>1.3</td>\n",
       "      <td>bn</td>\n",
       "    </tr>\n",
       "    <tr>\n",
       "      <td>3</td>\n",
       "      <td>1.3</td>\n",
       "      <td>v</td>\n",
       "    </tr>\n",
       "    <tr>\n",
       "      <td>4</td>\n",
       "      <td>1.3</td>\n",
       "      <td>sgf</td>\n",
       "    </tr>\n",
       "    <tr>\n",
       "      <td>5</td>\n",
       "      <td>1.3</td>\n",
       "      <td>asd</td>\n",
       "    </tr>\n",
       "  </tbody>\n",
       "</table><p>5 rows x  3 cols &nbsp;&nbsp;&nbsp;&nbsp;&nbsp;DuckDBPyRelation BASE_TABLE chinook.main.example </p>"
      ],
      "text/markdown": [
       "#### DuckDBPyRelation BASE TABLE chinook.main.example \n",
       "\n",
       " |   COLUMN1 |   COLUMN WITH SPACE | Cólumn name   |\n",
       "|----------:|--------------------:|:--------------|\n",
       "|         1 |                 1.3 | a             |\n",
       "|         2 |                 1.3 | bn            |\n",
       "|         3 |                 1.3 | v             |\n",
       "|         4 |                 1.3 | sgf           |\n",
       "|         5 |                 1.3 | asd           |\n",
       "\n",
       " 5 rows  x  3 cols "
      ],
      "text/plain": [
       "DuckDBPyRelation BASE TABLE chinook.main.example \n"
      ]
     },
     "execution_count": null,
     "metadata": {},
     "output_type": "execute_result"
    }
   ],
   "source": [
    "sheet = db.t.example\n",
    "sheet"
   ]
  },
  {
   "cell_type": "code",
   "execution_count": null,
   "metadata": {},
   "outputs": [],
   "source": [
    "\n",
    "db.drop('example')"
   ]
  },
  {
   "cell_type": "code",
   "execution_count": null,
   "metadata": {},
   "outputs": [],
   "source": [
    "db.create_table('../data/chinook.sqlite', filetype='sqlite', table_name='Customer', as_name='sqlite_Customer')"
   ]
  },
  {
   "cell_type": "code",
   "execution_count": null,
   "metadata": {},
   "outputs": [
    {
     "data": {
      "text/html": [
       "<table border=\"1\" class=\"dataframe\">\n",
       "  <thead>\n",
       "    <tr style=\"text-align: right;\">\n",
       "      <th>CustomerId</th>\n",
       "      <th>FirstName</th>\n",
       "      <th>LastName</th>\n",
       "      <th>Company</th>\n",
       "      <th>Address</th>\n",
       "      <th>City</th>\n",
       "      <th>State</th>\n",
       "      <th>Country</th>\n",
       "      <th>PostalCode</th>\n",
       "      <th>Phone</th>\n",
       "      <th>Fax</th>\n",
       "      <th>Email</th>\n",
       "      <th>SupportRepId</th>\n",
       "    </tr>\n",
       "  </thead>\n",
       "  <tbody>\n",
       "    <tr>\n",
       "      <td>1</td>\n",
       "      <td>Luís</td>\n",
       "      <td>Gonçalves</td>\n",
       "      <td>Embraer - Empresa Brasileira de Aeronáutica S.A.</td>\n",
       "      <td>Av. Brigadeiro Faria Lima, 2170</td>\n",
       "      <td>São José dos Campos</td>\n",
       "      <td>SP</td>\n",
       "      <td>Brazil</td>\n",
       "      <td>12227-000</td>\n",
       "      <td>+55 (12) 3923-5555</td>\n",
       "      <td>+55 (12) 3923-5566</td>\n",
       "      <td>luisg@embraer.com.br</td>\n",
       "      <td>3</td>\n",
       "    </tr>\n",
       "    <tr>\n",
       "      <td>2</td>\n",
       "      <td>Leonie</td>\n",
       "      <td>Köhler</td>\n",
       "      <td>None</td>\n",
       "      <td>Theodor-Heuss-Straße 34</td>\n",
       "      <td>Stuttgart</td>\n",
       "      <td>None</td>\n",
       "      <td>Germany</td>\n",
       "      <td>70174</td>\n",
       "      <td>+49 0711 2842222</td>\n",
       "      <td>None</td>\n",
       "      <td>leonekohler@surfeu.de</td>\n",
       "      <td>5</td>\n",
       "    </tr>\n",
       "    <tr>\n",
       "      <td>3</td>\n",
       "      <td>François</td>\n",
       "      <td>Tremblay</td>\n",
       "      <td>None</td>\n",
       "      <td>1498 rue Bélanger</td>\n",
       "      <td>Montréal</td>\n",
       "      <td>QC</td>\n",
       "      <td>Canada</td>\n",
       "      <td>H2G 1A7</td>\n",
       "      <td>+1 (514) 721-4711</td>\n",
       "      <td>None</td>\n",
       "      <td>ftremblay@gmail.com</td>\n",
       "      <td>3</td>\n",
       "    </tr>\n",
       "    <tr>\n",
       "      <td>...</td>\n",
       "      <td>...</td>\n",
       "      <td>...</td>\n",
       "      <td>...</td>\n",
       "      <td>...</td>\n",
       "      <td>...</td>\n",
       "      <td>...</td>\n",
       "      <td>...</td>\n",
       "      <td>...</td>\n",
       "      <td>...</td>\n",
       "      <td>...</td>\n",
       "      <td>...</td>\n",
       "      <td>...</td>\n",
       "    </tr>\n",
       "    <tr>\n",
       "      <td>58</td>\n",
       "      <td>Manoj</td>\n",
       "      <td>Pareek</td>\n",
       "      <td>None</td>\n",
       "      <td>12,Community Centre</td>\n",
       "      <td>Delhi</td>\n",
       "      <td>None</td>\n",
       "      <td>India</td>\n",
       "      <td>110017</td>\n",
       "      <td>+91 0124 39883988</td>\n",
       "      <td>None</td>\n",
       "      <td>manoj.pareek@rediff.com</td>\n",
       "      <td>3</td>\n",
       "    </tr>\n",
       "    <tr>\n",
       "      <td>59</td>\n",
       "      <td>Puja</td>\n",
       "      <td>Srivastava</td>\n",
       "      <td>None</td>\n",
       "      <td>3,Raj Bhavan Road</td>\n",
       "      <td>Bangalore</td>\n",
       "      <td>None</td>\n",
       "      <td>India</td>\n",
       "      <td>560001</td>\n",
       "      <td>+91 080 22289999</td>\n",
       "      <td>None</td>\n",
       "      <td>puja_srivastava@yahoo.in</td>\n",
       "      <td>3</td>\n",
       "    </tr>\n",
       "  </tbody>\n",
       "</table><p>59 rows x  13 cols &nbsp;&nbsp;&nbsp;&nbsp;&nbsp;DuckDBPyRelation BASE_TABLE chinook.main.sqlite_Customer </p>"
      ],
      "text/markdown": [
       "#### DuckDBPyRelation BASE TABLE chinook.main.sqlite_Customer \n",
       "\n",
       " | CustomerId   | FirstName   | LastName   | Company                                          | Address                         | City                | State   | Country   | PostalCode   | Phone              | Fax                | Email                    | SupportRepId   |\n",
       "|:-------------|:------------|:-----------|:-------------------------------------------------|:--------------------------------|:--------------------|:--------|:----------|:-------------|:-------------------|:-------------------|:-------------------------|:---------------|\n",
       "| 1            | Luís        | Gonçalves  | Embraer - Empresa Brasileira de Aeronáutica S.A. | Av. Brigadeiro Faria Lima, 2170 | São José dos Campos | SP      | Brazil    | 12227-000    | +55 (12) 3923-5555 | +55 (12) 3923-5566 | luisg@embraer.com.br     | 3              |\n",
       "| 2            | Leonie      | Köhler     |                                                  | Theodor-Heuss-Straße 34         | Stuttgart           |         | Germany   | 70174        | +49 0711 2842222   |                    | leonekohler@surfeu.de    | 5              |\n",
       "| 3            | François    | Tremblay   |                                                  | 1498 rue Bélanger               | Montréal            | QC      | Canada    | H2G 1A7      | +1 (514) 721-4711  |                    | ftremblay@gmail.com      | 3              |\n",
       "| ...          | ...         | ...        | ...                                              | ...                             | ...                 | ...     | ...       | ...          | ...                | ...                | ...                      | ...            |\n",
       "| 58           | Manoj       | Pareek     |                                                  | 12,Community Centre             | Delhi               |         | India     | 110017       | +91 0124 39883988  |                    | manoj.pareek@rediff.com  | 3              |\n",
       "| 59           | Puja        | Srivastava |                                                  | 3,Raj Bhavan Road               | Bangalore           |         | India     | 560001       | +91 080 22289999   |                    | puja_srivastava@yahoo.in | 3              |\n",
       "\n",
       " 59 rows  x  13 cols "
      ],
      "text/plain": [
       "DuckDBPyRelation BASE TABLE chinook.main.sqlite_Customer \n"
      ]
     },
     "execution_count": null,
     "metadata": {},
     "output_type": "execute_result"
    }
   ],
   "source": [
    "db.t.sqlite_Customer"
   ]
  },
  {
   "cell_type": "code",
   "execution_count": null,
   "metadata": {},
   "outputs": [],
   "source": [
    "db.drop('sqlite_Customer')"
   ]
  },
  {
   "cell_type": "code",
   "execution_count": null,
   "metadata": {},
   "outputs": [],
   "source": [
    "#| export\n",
    "\n",
    "@patch\n",
    "def import_from(self:DuckDBPyConnection, filepath=None, pre='', suf='', schema=None, replace=None):\n",
    "    self.attach(filepath, catalog_name='import')\n",
    "    list =  self.tables.filter(\"catalog = 'import' and type='BASE TABLE'\").select('name').to_list()\n",
    "    self.sql('detach import')\n",
    "    schema = schema or self.schema\n",
    "    db.sql(f\"CREATE SCHEMA IF NOT EXISTS {schema}\")\n",
    "    for tbl in list: db.create_table(fileglob=filepath, filetype='sqlite', table_name=tbl, as_name=schema+'.'+pre+tbl+suf, replace=replace)"
   ]
  },
  {
   "cell_type": "code",
   "execution_count": null,
   "metadata": {},
   "outputs": [
    {
     "name": "stdout",
     "output_type": "stream",
     "text": [
      "┌─────────┬─────────┬───────────────┬────────────┬─────────────┐\n",
      "│ catalog │ schema  │     name      │    type    │   comment   │\n",
      "│ varchar │ varchar │    varchar    │  varchar   │   varchar   │\n",
      "├─────────┼─────────┼───────────────┼────────────┼─────────────┤\n",
      "│ chinook │ main    │ Album         │ BASE TABLE │ Album table │\n",
      "│ chinook │ main    │ Artist        │ BASE TABLE │ NULL        │\n",
      "│ chinook │ main    │ Customer      │ BASE TABLE │ NULL        │\n",
      "│ chinook │ main    │ Employee      │ BASE TABLE │ NULL        │\n",
      "│ chinook │ main    │ Genre         │ BASE TABLE │ NULL        │\n",
      "│ chinook │ main    │ Invoice       │ BASE TABLE │ NULL        │\n",
      "│ chinook │ main    │ InvoiceLine   │ BASE TABLE │ NULL        │\n",
      "│ chinook │ main    │ MediaType     │ BASE TABLE │ NULL        │\n",
      "│ chinook │ main    │ Playlist      │ BASE TABLE │ NULL        │\n",
      "│ chinook │ main    │ PlaylistTrack │ BASE TABLE │ NULL        │\n",
      "│ chinook │ main    │ Track         │ BASE TABLE │ NULL        │\n",
      "│ chinook │ main    │ a_view        │ VIEW       │ Just a view │\n",
      "│ chinook │ main    │ temp_view     │ VIEW       │ NULL        │\n",
      "├─────────┴─────────┴───────────────┴────────────┴─────────────┤\n",
      "│ 13 rows                                            5 columns │\n",
      "└──────────────────────────────────────────────────────────────┘\n",
      "\n"
     ]
    }
   ],
   "source": [
    "db.tables.show()"
   ]
  },
  {
   "cell_type": "code",
   "execution_count": null,
   "metadata": {},
   "outputs": [],
   "source": [
    "db.import_from('../data/chinook.sqlite', schema = 'cebola', replace=True)"
   ]
  },
  {
   "cell_type": "code",
   "execution_count": null,
   "metadata": {},
   "outputs": [
    {
     "name": "stdout",
     "output_type": "stream",
     "text": [
      "┌─────────┬─────────┬───────────────┬────────────┬─────────────┐\n",
      "│ catalog │ schema  │     name      │    type    │   comment   │\n",
      "│ varchar │ varchar │    varchar    │  varchar   │   varchar   │\n",
      "├─────────┼─────────┼───────────────┼────────────┼─────────────┤\n",
      "│ chinook │ cebola  │ Album         │ BASE TABLE │ NULL        │\n",
      "│ chinook │ main    │ Album         │ BASE TABLE │ Album table │\n",
      "│ chinook │ main    │ Artist        │ BASE TABLE │ NULL        │\n",
      "│ chinook │ cebola  │ Artist        │ BASE TABLE │ NULL        │\n",
      "│ chinook │ main    │ Customer      │ BASE TABLE │ NULL        │\n",
      "│ chinook │ cebola  │ Customer      │ BASE TABLE │ NULL        │\n",
      "│ chinook │ cebola  │ Employee      │ BASE TABLE │ NULL        │\n",
      "│ chinook │ main    │ Employee      │ BASE TABLE │ NULL        │\n",
      "│ chinook │ cebola  │ Genre         │ BASE TABLE │ NULL        │\n",
      "│ chinook │ main    │ Genre         │ BASE TABLE │ NULL        │\n",
      "│    ·    │  ·      │   ·           │     ·      │  ·          │\n",
      "│    ·    │  ·      │   ·           │     ·      │  ·          │\n",
      "│    ·    │  ·      │   ·           │     ·      │  ·          │\n",
      "│ chinook │ main    │ MediaType     │ BASE TABLE │ NULL        │\n",
      "│ chinook │ cebola  │ MediaType     │ BASE TABLE │ NULL        │\n",
      "│ chinook │ cebola  │ Playlist      │ BASE TABLE │ NULL        │\n",
      "│ chinook │ main    │ Playlist      │ BASE TABLE │ NULL        │\n",
      "│ chinook │ cebola  │ PlaylistTrack │ BASE TABLE │ NULL        │\n",
      "│ chinook │ main    │ PlaylistTrack │ BASE TABLE │ NULL        │\n",
      "│ chinook │ main    │ Track         │ BASE TABLE │ NULL        │\n",
      "│ chinook │ cebola  │ Track         │ BASE TABLE │ NULL        │\n",
      "│ chinook │ main    │ a_view        │ VIEW       │ Just a view │\n",
      "│ chinook │ main    │ temp_view     │ VIEW       │ NULL        │\n",
      "├─────────┴─────────┴───────────────┴────────────┴─────────────┤\n",
      "│ 24 rows (20 shown)                                 5 columns │\n",
      "└──────────────────────────────────────────────────────────────┘\n",
      "\n"
     ]
    }
   ],
   "source": [
    "db.tables.show()"
   ]
  },
  {
   "cell_type": "code",
   "execution_count": null,
   "metadata": {},
   "outputs": [],
   "source": [
    "db.drop('cebola.*')\n",
    "db.detach('lite_main')"
   ]
  },
  {
   "cell_type": "code",
   "execution_count": null,
   "metadata": {},
   "outputs": [
    {
     "data": {
      "text/html": [
       "<table border=\"1\" class=\"dataframe\">\n",
       "  <thead>\n",
       "    <tr style=\"text-align: right;\">\n",
       "      <th>catalog</th>\n",
       "      <th>schema</th>\n",
       "      <th>name</th>\n",
       "      <th>type</th>\n",
       "      <th>comment</th>\n",
       "    </tr>\n",
       "  </thead>\n",
       "  <tbody>\n",
       "    <tr>\n",
       "      <td>chinook</td>\n",
       "      <td>main</td>\n",
       "      <td>Album</td>\n",
       "      <td>BASE TABLE</td>\n",
       "      <td>Album table</td>\n",
       "    </tr>\n",
       "    <tr>\n",
       "      <td>chinook</td>\n",
       "      <td>main</td>\n",
       "      <td>Artist</td>\n",
       "      <td>BASE TABLE</td>\n",
       "      <td>None</td>\n",
       "    </tr>\n",
       "    <tr>\n",
       "      <td>chinook</td>\n",
       "      <td>main</td>\n",
       "      <td>Customer</td>\n",
       "      <td>BASE TABLE</td>\n",
       "      <td>None</td>\n",
       "    </tr>\n",
       "    <tr>\n",
       "      <td>...</td>\n",
       "      <td>...</td>\n",
       "      <td>...</td>\n",
       "      <td>...</td>\n",
       "      <td>...</td>\n",
       "    </tr>\n",
       "    <tr>\n",
       "      <td>chinook</td>\n",
       "      <td>main</td>\n",
       "      <td>a_view</td>\n",
       "      <td>VIEW</td>\n",
       "      <td>Just a view</td>\n",
       "    </tr>\n",
       "    <tr>\n",
       "      <td>chinook</td>\n",
       "      <td>main</td>\n",
       "      <td>temp_view</td>\n",
       "      <td>VIEW</td>\n",
       "      <td>None</td>\n",
       "    </tr>\n",
       "  </tbody>\n",
       "</table><p>13 rows x  5 cols &nbsp;&nbsp;&nbsp;&nbsp;&nbsp;DuckDBPyRelation   </p>"
      ],
      "text/markdown": [
       "#### DuckDBPyRelation   \n",
       "\n",
       " | catalog   | schema   | name      | type       | comment     |\n",
       "|:----------|:---------|:----------|:-----------|:------------|\n",
       "| chinook   | main     | Album     | BASE TABLE | Album table |\n",
       "| chinook   | main     | Artist    | BASE TABLE |             |\n",
       "| chinook   | main     | Customer  | BASE TABLE |             |\n",
       "| ...       | ...      | ...       | ...        | ...         |\n",
       "| chinook   | main     | a_view    | VIEW       | Just a view |\n",
       "| chinook   | main     | temp_view | VIEW       |             |\n",
       "\n",
       " 13 rows  x  5 cols "
      ],
      "text/plain": [
       "DuckDBPyRelation   \n"
      ]
     },
     "execution_count": null,
     "metadata": {},
     "output_type": "execute_result"
    }
   ],
   "source": [
    "db.tables"
   ]
  },
  {
   "cell_type": "markdown",
   "metadata": {},
   "source": [
    "## export - "
   ]
  },
  {
   "cell_type": "code",
   "execution_count": null,
   "metadata": {},
   "outputs": [],
   "source": [
    "#| hide\n",
    "import nbdev; nbdev.nbdev_export()"
   ]
  },
  {
   "cell_type": "code",
   "execution_count": null,
   "metadata": {},
   "outputs": [],
   "source": []
  }
 ],
 "metadata": {
  "kernelspec": {
   "display_name": "python3",
   "language": "python",
   "name": "python3"
  }
 },
 "nbformat": 4,
 "nbformat_minor": 4
}
