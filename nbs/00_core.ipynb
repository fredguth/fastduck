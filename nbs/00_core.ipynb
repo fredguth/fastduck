{
 "cells": [
  {
   "cell_type": "code",
   "execution_count": null,
   "metadata": {},
   "outputs": [],
   "source": [
    "#| default_exp core"
   ]
  },
  {
   "cell_type": "code",
   "execution_count": null,
   "metadata": {},
   "outputs": [],
   "source": [
    "#| hide\n",
    "#| export\n",
    "\n",
    "from __future__ import annotations\n",
    "import duckdb\n",
    "from duckdb import DuckDBPyConnection\n",
    "from duckdb import DuckDBPyRelation\n",
    "from typing import List, Dict, Optional, Union, Any, Tuple, Set\n",
    "from fastcore.all import store_attr, patch, L\n",
    "import numpy as np\n",
    "import pandas as pd\n",
    "from dataclasses import field, make_dataclass\n",
    "from fastcore.xtras import hl_md, dataclass_src\n",
    "from functools import wraps, partial"
   ]
  },
  {
   "cell_type": "markdown",
   "metadata": {},
   "source": [
    "### Wrapping DuckDB Python API"
   ]
  },
  {
   "cell_type": "markdown",
   "metadata": {},
   "source": [
    "When you `import duckdb`, there are two main concepts that you have to handle:\n",
    "\n",
    "\n",
    "A *DuckDBPyConnection* represents a connection to a DuckDB database in a file or memory"
   ]
  },
  {
   "cell_type": "code",
   "execution_count": null,
   "metadata": {},
   "outputs": [
    {
     "data": {
      "text/plain": [
       "<duckdb.duckdb.DuckDBPyConnection>"
      ]
     },
     "execution_count": null,
     "metadata": {},
     "output_type": "execute_result"
    }
   ],
   "source": [
    "db = duckdb.connect('../data/chinook.duckdb')\n",
    "db"
   ]
  },
  {
   "cell_type": "markdown",
   "metadata": {},
   "source": [
    "DuckDB API has no concept of a Database, only of a connection that may envolve different attached databases (or catalogs) and schemas.\n",
    "\n",
    "A Catalog is just a holder for schemas, and schemas hold catalog entries, like tables, views, functions, types, etc..\n",
    "\n",
    "We will change this behaviour in a bit..."
   ]
  },
  {
   "cell_type": "markdown",
   "metadata": {},
   "source": [
    "A DuckDBPyRelation represents a query. It is a table-like object that will be lazy executed and can be queried further. \n",
    "\n",
    "Once it's executed then yes, it contains the result set.\n",
    "\n",
    "But when further projections are made on it, that result set is not used, the projections are just done on top of the original query as a subquery\n",
    "\n",
    "`duckdb.table('tbl').sql(\"select a\")`\n",
    "\n",
    "\n",
    "Really becomes, in essence:\n",
    "`select a from (select * from tbl)`\n"
   ]
  },
  {
   "cell_type": "code",
   "execution_count": null,
   "metadata": {},
   "outputs": [
    {
     "data": {
      "text/plain": [
       "┌───────────────┐\n",
       "│  table_name   │\n",
       "│    varchar    │\n",
       "├───────────────┤\n",
       "│ Album         │\n",
       "│ Artist        │\n",
       "│ Customer      │\n",
       "│ Employee      │\n",
       "│ Genre         │\n",
       "│ Invoice       │\n",
       "│ InvoiceLine   │\n",
       "│ latin         │\n",
       "│ latin1view    │\n",
       "│ MediaType     │\n",
       "│ Playlist      │\n",
       "│ PlaylistTrack │\n",
       "│ todos         │\n",
       "│ Track         │\n",
       "├───────────────┤\n",
       "│    14 rows    │\n",
       "└───────────────┘"
      ]
     },
     "execution_count": null,
     "metadata": {},
     "output_type": "execute_result"
    }
   ],
   "source": [
    "db.sql(f\"FROM duckdb_tables()\").select('table_name')"
   ]
  },
  {
   "cell_type": "code",
   "execution_count": null,
   "metadata": {},
   "outputs": [
    {
     "data": {
      "text/plain": [
       "duckdb.duckdb.DuckDBPyRelation"
      ]
     },
     "execution_count": null,
     "metadata": {},
     "output_type": "execute_result"
    }
   ],
   "source": [
    "type(db.sql(f\"SELECT table_name FROM duckdb_tables()\"))"
   ]
  },
  {
   "cell_type": "markdown",
   "metadata": {},
   "source": [
    "### Improving Connection"
   ]
  },
  {
   "cell_type": "markdown",
   "metadata": {},
   "source": [
    "We want the developer to understand the connection as a database.\n",
    "\n",
    "```python\n",
    "\n",
    "import duckdb\n",
    "\n",
    "conn = duckdb.connect()\n",
    "\n",
    "```\n",
    "\n",
    "becomes\n",
    "\n",
    "\n",
    "```python\n",
    "\n",
    "from fastduck import duckdb\n",
    "\n",
    "db = duckdb.connect()\n",
    "\n",
    "```\n",
    "By acessing the same Python API using `fastduck`, the developer shall get some niceties.\n"
   ]
  },
  {
   "cell_type": "markdown",
   "metadata": {},
   "source": [
    "\n",
    "Let's start by simplifying the access to some information on the current catalog and schema in the connection."
   ]
  },
  {
   "cell_type": "code",
   "execution_count": null,
   "metadata": {},
   "outputs": [],
   "source": [
    "#| export\n",
    "\n",
    "def _current(self: DuckDBPyConnection): return self.sql('select current_catalog, current_schema').fetchone()\n",
    "@patch(as_prop=True)\n",
    "def catalog(self: DuckDBPyConnection): return _current(self)[0]\n",
    "\n",
    "@patch(as_prop=True)\n",
    "def schema(self: DuckDBPyConnection): return _current(self)[1]\n",
    "\n",
    "@patch(as_prop=True) # alias for alias\n",
    "def name(self:DuckDBPyRelation): return self.alias\n",
    "\n",
    "@patch\n",
    "def __getitem__(self:DuckDBPyRelation, idxs) -> DuckDBPyRelation: # selecting by passing a list of column names\n",
    "    return self.select(*idxs) if isinstance(idxs, Union[List, Set, Tuple]) else self.select(idxs)\n",
    "@patch \n",
    "def to_recs(self:DuckDBPyRelation) -> List[Dict[str, Any]]:\n",
    "    '''The relation as a list of records'''\n",
    "    return self.df().to_dict(orient='records')\n",
    "\n",
    "@patch \n",
    "def q(self:DuckDBPyConnection, *args, **kwargs) -> List[Dict[str, Any]]:\n",
    "    '''Run a query and return the result as a list of records'''\n",
    "    return self.sql(*args, **kwargs).to_recs()\n",
    "\n"
   ]
  },
  {
   "cell_type": "code",
   "execution_count": null,
   "metadata": {},
   "outputs": [
    {
     "data": {
      "text/plain": [
       "┌─────────┬───────────────────────────────────────┐\n",
       "│ AlbumId │                 Title                 │\n",
       "│  int32  │                varchar                │\n",
       "├─────────┼───────────────────────────────────────┤\n",
       "│       1 │ For Those About To Rock We Salute You │\n",
       "│       2 │ Balls to the Wall                     │\n",
       "│       3 │ Restless and Wild                     │\n",
       "│       4 │ Let There Be Rock                     │\n",
       "│       5 │ Big Ones                              │\n",
       "└─────────┴───────────────────────────────────────┘"
      ]
     },
     "execution_count": null,
     "metadata": {},
     "output_type": "execute_result"
    }
   ],
   "source": [
    "album = db.sql(\"select * from Album\")\n",
    "album['AlbumId', 'Title'].limit(5)"
   ]
  },
  {
   "cell_type": "code",
   "execution_count": null,
   "metadata": {},
   "outputs": [
    {
     "data": {
      "text/plain": [
       "[{'AlbumId': 1, 'Title': 'For Those About To Rock We Salute You'},\n",
       " {'AlbumId': 2, 'Title': 'Balls to the Wall'}]"
      ]
     },
     "execution_count": null,
     "metadata": {},
     "output_type": "execute_result"
    }
   ],
   "source": [
    "db.table('Album')['AlbumId', 'Title'].limit(2).to_recs()"
   ]
  },
  {
   "cell_type": "markdown",
   "metadata": {},
   "source": [
    "We also need a way to know the tables in the database.\n"
   ]
  },
  {
   "cell_type": "code",
   "execution_count": null,
   "metadata": {},
   "outputs": [],
   "source": [
    "#| export\n",
    "\n",
    "@patch\n",
    "def _tables(self: DuckDBPyConnection, catalog:str=None) -> DuckDBPyRelation:\n",
    "    '''Returns a dictionary of tables in the database'''\n",
    "    q = f\"from {catalog or self.catalog}.information_schema.tables\"\n",
    "    s = f\"'{catalog or self.catalog}' as catalog, table_schema as schema, table_name as name, table_type as type, table_comment as comment\"\n",
    "    return self.sql(q).distinct().select(s)\n",
    "@patch(as_prop=True)\n",
    "def tables(self: DuckDBPyConnection) -> DuckDBPyRelation: return self._tables()"
   ]
  },
  {
   "cell_type": "code",
   "execution_count": null,
   "metadata": {},
   "outputs": [],
   "source": [
    "@patch(as_prop=True)\n",
    "def views(self: DuckDBPyConnection) -> DuckDBPyRelation:\n",
    "    '''Returns a dictionary of views in the database'''\n",
    "    return self.tables.filter(\"type =='VIEW'\")\n",
    "@patch(as_prop=True)\n",
    "def base_tables(self: DuckDBPyConnection) -> DuckDBPyRelation:\n",
    "    '''Returns a dictionary of views in the database'''\n",
    "    return self.tables.filter(\"type =='BASE TABLE'\")"
   ]
  },
  {
   "cell_type": "code",
   "execution_count": null,
   "metadata": {},
   "outputs": [
    {
     "data": {
      "text/plain": [
       "┌─────────┬─────────┬───────────────┬────────────┬─────────────┐\n",
       "│ catalog │ schema  │     name      │    type    │   comment   │\n",
       "│ varchar │ varchar │    varchar    │  varchar   │   varchar   │\n",
       "├─────────┼─────────┼───────────────┼────────────┼─────────────┤\n",
       "│ chinook │ main    │ Album         │ BASE TABLE │ Album table │\n",
       "│ chinook │ main    │ Artist        │ BASE TABLE │ NULL        │\n",
       "│ chinook │ main    │ PlaylistTrack │ BASE TABLE │ NULL        │\n",
       "│ chinook │ main    │ Playlist      │ BASE TABLE │ NULL        │\n",
       "│ chinook │ main    │ todos         │ BASE TABLE │ NULL        │\n",
       "│ chinook │ main    │ latin         │ BASE TABLE │ NULL        │\n",
       "│ chinook │ main    │ MediaType     │ BASE TABLE │ NULL        │\n",
       "│ chinook │ main    │ Track         │ BASE TABLE │ NULL        │\n",
       "│ chinook │ main    │ Employee      │ BASE TABLE │ NULL        │\n",
       "│ chinook │ main    │ InvoiceLine   │ BASE TABLE │ NULL        │\n",
       "│ chinook │ main    │ Customer      │ BASE TABLE │ NULL        │\n",
       "│ chinook │ main    │ Genre         │ BASE TABLE │ NULL        │\n",
       "│ chinook │ main    │ latin1view    │ BASE TABLE │ NULL        │\n",
       "│ chinook │ main    │ Invoice       │ BASE TABLE │ NULL        │\n",
       "├─────────┴─────────┴───────────────┴────────────┴─────────────┤\n",
       "│ 14 rows                                            5 columns │\n",
       "└──────────────────────────────────────────────────────────────┘"
      ]
     },
     "execution_count": null,
     "metadata": {},
     "output_type": "execute_result"
    }
   ],
   "source": [
    "db.base_tables"
   ]
  },
  {
   "cell_type": "markdown",
   "metadata": {},
   "source": [
    "The functions bellow add some utilities that are useful for working with tables and views in a database."
   ]
  },
  {
   "cell_type": "code",
   "execution_count": null,
   "metadata": {},
   "outputs": [],
   "source": [
    "#| export\n",
    "\n",
    "@patch\n",
    "def datamodel(self: DuckDBPyConnection, table_name:str) ->List[Dict]:\n",
    "    ''' Returns the data model of a table or view. \n",
    "    The columns names, types, nullable status, default value and\n",
    "    primary key status.'''\n",
    "    \n",
    "    return [{'name': r[1], 'type': r[2], 'nullable': not r[3], 'default': r[4], 'pk': r[5]} \n",
    "            for r in self.sql(f\"PRAGMA table_info='{table_name}'\").fetchall()]"
   ]
  },
  {
   "cell_type": "code",
   "execution_count": null,
   "metadata": {},
   "outputs": [
    {
     "data": {
      "text/plain": [
       "[{'name': 'ArtistId',\n",
       "  'type': 'INTEGER',\n",
       "  'nullable': False,\n",
       "  'default': None,\n",
       "  'pk': True},\n",
       " {'name': 'Name',\n",
       "  'type': 'VARCHAR',\n",
       "  'nullable': True,\n",
       "  'default': None,\n",
       "  'pk': False}]"
      ]
     },
     "execution_count": null,
     "metadata": {},
     "output_type": "execute_result"
    }
   ],
   "source": [
    "db.datamodel('Artist')\n"
   ]
  },
  {
   "cell_type": "code",
   "execution_count": null,
   "metadata": {},
   "outputs": [],
   "source": [
    "#| export\n",
    "\n",
    "from dataclasses import field, make_dataclass\n",
    "def convertTypes(s:str)->type:\n",
    "    ''' Convert DuckDB types to Python and Numpy types'''\n",
    "    d = {\n",
    "        # Built-in types\n",
    "        'BOOLEAN': bool,\n",
    "        'BLOB': bytearray,  # For bytes, bytearray can be used in Python\n",
    "        'DOUBLE': float,\n",
    "        'BIGINT': int,\n",
    "        'VARCHAR': str,\n",
    "        'VARCHAR[]': str,\n",
    "    \n",
    "        # NumPy DTypes\n",
    "        'FLOAT': np.float32,\n",
    "        'DOUBLE': float,\n",
    "        'SMALLINT': np.int16,\n",
    "        'INTEGER': np.int32,\n",
    "        'TINYINT': np.int8,\n",
    "        'USMALLINT': np.uint16,\n",
    "        'UINTEGER': np.uint32,\n",
    "        'UBIGINT': np.uint64,\n",
    "        'UTINYINT': np.uint8\n",
    "    }\n",
    "    if s in d: return d[s]\n",
    "    if s[:7]=='DECIMAL': return float\n",
    "    raise ValueError(f'Unknown type {s}')\n",
    "\n",
    "\n",
    "import re, keyword\n",
    "def clean(s):\n",
    "    s = re.sub(r'\\W|^(?=\\d)', '_', s)\n",
    "    return s + '_' if keyword.iskeyword(s) else s\n",
    "\n",
    "@patch\n",
    "def dataclass(self: DuckDBPyConnection, \n",
    "              table_name:str, # table or view name\n",
    "              pref='', # prefix to add to the field names\n",
    "              suf='', # suffix to add to the field names\n",
    "              cls_name:str = None # defaults to table_name\n",
    "              ) -> type:\n",
    "    '''Creates a `dataclass` type from a table or view in the database.'''\n",
    "    cls_name = cls_name or table_name\n",
    "    fields = self.datamodel(table_name)\n",
    "    fields = [(clean(pref+f['name']+suf), convertTypes(f['type']) if not f['nullable'] else convertTypes(f['type'])|None , field(default=f['default'])) for f in fields]\n",
    "    return make_dataclass(table_name, fields)"
   ]
  },
  {
   "cell_type": "code",
   "execution_count": null,
   "metadata": {},
   "outputs": [
    {
     "data": {
      "text/markdown": [
       "```python\n",
       "@dataclass\n",
       "class Artist:\n",
       "    ArtistId: int32 = None\n",
       "    Name: str | None = None\n",
       "\n",
       "```"
      ],
      "text/plain": [
       "<IPython.core.display.Markdown object>"
      ]
     },
     "execution_count": null,
     "metadata": {},
     "output_type": "execute_result"
    }
   ],
   "source": [
    "artist_dc = db.dataclass('Artist')\n",
    "# src = dataclass_src(artist_dc)\n",
    "# hl_md(src, 'python') # fix error in nbdev_prepare"
   ]
  },
  {
   "cell_type": "code",
   "execution_count": null,
   "metadata": {},
   "outputs": [
    {
     "data": {
      "text/plain": [
       "[{'ArtistId': 1, 'Name': 'AC/DC'}]"
      ]
     },
     "execution_count": null,
     "metadata": {},
     "output_type": "execute_result"
    }
   ],
   "source": [
    "acdc = db.sql(f\"select * from artist where artist.Name like 'AC/%'\").df().to_dict(orient='records')\n",
    "acdc"
   ]
  },
  {
   "cell_type": "code",
   "execution_count": null,
   "metadata": {},
   "outputs": [
    {
     "data": {
      "text/plain": [
       "Artist(ArtistId=1, Name='AC/DC')"
      ]
     },
     "execution_count": null,
     "metadata": {},
     "output_type": "execute_result"
    }
   ],
   "source": [
    "acdc_object = artist_dc(**acdc[0])\n",
    "acdc_object"
   ]
  },
  {
   "cell_type": "markdown",
   "metadata": {},
   "source": [
    "### Autocomplete\n",
    "\n",
    "We want an easy access to table information.\n",
    "\n",
    "like db`.tables` should work similar to the `.table` cli command."
   ]
  },
  {
   "cell_type": "code",
   "execution_count": null,
   "metadata": {},
   "outputs": [],
   "source": [
    "#| export\n",
    "\n",
    "def noop(*args, **kwargs): return None\n",
    "def identity(x): return x\n",
    "\n",
    "\n",
    "class _Getter: \n",
    "    \"\"\" A Getter utility check https://github.com/AnswerDotAI/fastlite \"\"\"\n",
    "    def __init__(self, name:str='', type:str='', dir:List=[], get=noop): store_attr()    \n",
    "    def __dir__(self): return self.dir\n",
    "    def __str__(self): return \", \".join(dir(self))\n",
    "    def __repr__(self): return f\"{self.type}s: {str(self)}\"\n",
    "    def __contains__(self, s:str): return s in dir(self)\n",
    "    def __getitem__(self, k): return self.get(k)\n",
    "    def __getattr__(self, k):\n",
    "        if k[0]!='_': return self.get(k)\n",
    "        else: raise AttributeError \n",
    "\n",
    "@patch(as_prop=True) # tables\n",
    "def t(self:DuckDBPyConnection): \n",
    "    '''Autocomplete functonality for tables'''\n",
    "    return _Getter('Tables', 'Table', [r[0] for r in self.base_tables.select('name').fetchall()], self.table)\n",
    "@patch(as_prop=True) # views\n",
    "def v(self:DuckDBPyConnection): \n",
    "    '''Autocomplete functonality for views'''\n",
    "    return _Getter('Views', 'View', [r[0] for r in self.views.select('name').fetchall()], self.table)\n",
    "@patch(as_prop=True) # functions\n",
    "def fns(self:DuckDBPyConnection): raise NotImplementedError\n",
    "# def fns(self:DuckDBPyConnection): return _Getter(self, f\"SELECT function_name FROM duckdb_functions() WHERE schema_name = '{self.schema}' and internal = False\")\n",
    "\n",
    "@patch(as_prop=True) # secrets\n",
    "def shh(self:DuckDBPyConnection): raise NotImplementedError\n",
    "# def shh(self:DuckDBPyConnection): return _Getter(self, f\"SELECT name FROM duckdb_secrets()\")\n",
    "\n",
    "@patch\n",
    "def __repr__(self:DuckDBPyConnection): return f'{self.__class__.__name__} ({self.catalog}::{self.schema})'\n"
   ]
  },
  {
   "cell_type": "code",
   "execution_count": null,
   "metadata": {},
   "outputs": [],
   "source": [
    "@patch\n",
    "def _select(self:DuckDBPyRelation, k) -> DuckDBPyRelation:\n",
    "    return self.select(k) if isinstance(k, str) else self.select(*k)\n",
    "\n",
    "@patch(as_prop=True)\n",
    "def c(self:DuckDBPyRelation): \n",
    "    '''Column autocomplete'''\n",
    "    return _Getter('Columns', 'Column', self.columns, self._select)"
   ]
  },
  {
   "cell_type": "markdown",
   "metadata": {},
   "source": [
    "::: \n",
    " \n",
    "![Autocomplete in Jupyter](images/autocomplete.png){.lightbox}\n",
    "\n",
    ":::"
   ]
  },
  {
   "cell_type": "code",
   "execution_count": null,
   "metadata": {},
   "outputs": [
    {
     "data": {
      "text/plain": [
       "┌─────────┬───────────────────────────────────────┐\n",
       "│ AlbumId │                 Title                 │\n",
       "│  int32  │                varchar                │\n",
       "├─────────┼───────────────────────────────────────┤\n",
       "│       1 │ For Those About To Rock We Salute You │\n",
       "│       2 │ Balls to the Wall                     │\n",
       "│       3 │ Restless and Wild                     │\n",
       "│       4 │ Let There Be Rock                     │\n",
       "└─────────┴───────────────────────────────────────┘"
      ]
     },
     "execution_count": null,
     "metadata": {},
     "output_type": "execute_result"
    }
   ],
   "source": [
    "\n",
    "a = db.t.Album.c['AlbumId', 'Title'].limit(4)\n",
    "a"
   ]
  },
  {
   "cell_type": "markdown",
   "metadata": {},
   "source": [
    "### Relation utilities"
   ]
  },
  {
   "cell_type": "markdown",
   "metadata": {},
   "source": [
    "Once we know that a certain `DuckDBPyRelation` is a table (or view), we can also make it keep some valuable props."
   ]
  },
  {
   "cell_type": "code",
   "execution_count": null,
   "metadata": {},
   "outputs": [],
   "source": [
    "#| export\n",
    "\n",
    "_saved = {}\n",
    "\n",
    "@patch\n",
    "def _set(self:DuckDBPyRelation, k, v):\n",
    "    global _saved\n",
    "    # use hash to avoid clashes\n",
    "    _saved[str(hash(self))+'_'+k] = v\n",
    "\n",
    "@patch\n",
    "def _get(self:DuckDBPyRelation, key):\n",
    "    global _saved\n",
    "    k = str(hash(self))+'_'+key\n",
    "    return _saved[k] if k in _saved else None\n",
    "\n",
    "def custom_dir(c, add): return dir(type(c)) + list(c.__dict__.keys()) + add\n",
    "\n",
    "def create_patch_property(name):\n",
    "    @patch(as_prop=True)\n",
    "    def prop(self: DuckDBPyRelation):\n",
    "        return self._get(name)\n",
    "    return prop\n",
    "\n",
    "props = ['cls', 'rel', 'model', 'meta']\n",
    "for p in props: setattr(DuckDBPyRelation, p, create_patch_property(p))\n",
    "\n",
    "@patch\n",
    "def __dir__(self:DuckDBPyRelation): return custom_dir(self, props)\n",
    "    \n",
    "def create_prop(c, name, f): setattr(c, name, property(f))\n",
    "@patch(as_prop=True)\n",
    "def cls(self:DuckDBPyRelation): return self._get('cls')\n",
    "\n",
    "@patch(as_prop=True)\n",
    "def model(self:DuckDBPyRelation): return self._get('model')\n",
    "\n",
    "@patch(as_prop=True)\n",
    "def meta(self:DuckDBPyRelation): return self._get('meta')\n",
    "\n",
    "@patch(as_prop=True)\n",
    "def rel(self:DuckDBPyRelation): return self._get('rel')\n",
    "\n",
    "\n",
    "@patch\n",
    "def table(self:DuckDBPyConnection, name:str, schema:str= None) -> DuckDBPyRelation:\n",
    "    if isinstance(name, Union[List, Set, Tuple]): return [self.table(n) for n in name]\n",
    "    if not isinstance(name,str): raise AttributeError\n",
    "    r = self.tables.filter(f\"name == '{name}' and schema == '{schema or self.schema}'\")\n",
    "    catalog, schema, name, type, comment = r.fetchone()\n",
    "    tbl = self.sql(f\"from {schema}.{name}\")\n",
    "    tbl = tbl.set_alias(f\"{schema}.{name}\")\n",
    "    tbl._set('cls', self.dataclass(name))\n",
    "    tbl._set('model', self.datamodel(name))\n",
    "    meta = {'base': self, 'catalog': catalog, 'schema': schema, 'name': name, 'type': type, 'comment': comment, 'shape': tbl.shape}\n",
    "    tbl._set('meta', meta)\n",
    "    tbl._set('rel', tbl)\n",
    "    return tbl"
   ]
  },
  {
   "cell_type": "markdown",
   "metadata": {},
   "source": [
    "Let's also improve the representation of `Relations`."
   ]
  },
  {
   "cell_type": "code",
   "execution_count": null,
   "metadata": {},
   "outputs": [],
   "source": [
    "\n",
    "@patch\n",
    "def __str__(self:DuckDBPyRelation): return f'{self.alias}'\n",
    "\n",
    "@patch\n",
    "def __repr__(self:DuckDBPyRelation): \n",
    "    return f\"<{self.__class__.__name__} {self.meta['type'] if self.meta else ''} :: _{self.alias}_ ({self.shape[0]} rows, {self.shape[1]} cols)>\"\n",
    "\n",
    "@patch\n",
    "def _repr_markdown_(self: DuckDBPyRelation): \n",
    "    markdown =  self.__repr__()+\"\\n\\n\"\n",
    "    if self.meta and self.meta['comment']: markdown += f\"> {self.meta['comment']}\\n\\n\"\n",
    "    df = self.df()\n",
    "    if self.shape[0] > 6: \n",
    "        head = df.head(3)\n",
    "        tail = df.tail(3)\n",
    "        ellipsis = pd.DataFrame([[\"...\"] * df.shape[1]], columns=df.columns)\n",
    "        df = pd.concat([head, ellipsis, tail])\n",
    "    markdown += f\"{df.to_markdown(index=False, headers=\"keys\", tablefmt=\"pipe\" )}\\n\\n\"\n",
    "    return markdown\n"
   ]
  },
  {
   "cell_type": "code",
   "execution_count": null,
   "metadata": {},
   "outputs": [
    {
     "data": {
      "text/markdown": [
       "<DuckDBPyRelation  :: _unnamed_relation_2ca56d641557b4dc_ (347 rows, 3 cols)>\n",
       "\n",
       "| AlbumId   | Title                                              | ArtistId   |\n",
       "|:----------|:---------------------------------------------------|:-----------|\n",
       "| 1         | For Those About To Rock We Salute You              | 1          |\n",
       "| 2         | Balls to the Wall                                  | 2          |\n",
       "| 3         | Restless and Wild                                  | 2          |\n",
       "| ...       | ...                                                | ...        |\n",
       "| 345       | Monteverdi: L'Orfeo                                | 273        |\n",
       "| 346       | Mozart: Chamber Music                              | 274        |\n",
       "| 347       | Koyaanisqatsi (Soundtrack from the Motion Picture) | 275        |\n",
       "\n"
      ],
      "text/plain": [
       "<DuckDBPyRelation  :: _unnamed_relation_2ca56d641557b4dc_ (347 rows, 3 cols)>"
      ]
     },
     "execution_count": null,
     "metadata": {},
     "output_type": "execute_result"
    }
   ],
   "source": [
    "db.sql('select * from Album')"
   ]
  },
  {
   "cell_type": "code",
   "execution_count": null,
   "metadata": {},
   "outputs": [
    {
     "data": {
      "text/markdown": [
       "<DuckDBPyRelation BASE TABLE :: _main.Genre_ (25 rows, 2 cols)>\n",
       "\n",
       "| GenreId   | Name        |\n",
       "|:----------|:------------|\n",
       "| 1         | Rock        |\n",
       "| 2         | Jazz        |\n",
       "| 3         | Metal       |\n",
       "| ...       | ...         |\n",
       "| 23        | Alternative |\n",
       "| 24        | Classical   |\n",
       "| 25        | Opera       |\n",
       "\n"
      ],
      "text/plain": [
       "<DuckDBPyRelation BASE TABLE :: _main.Genre_ (25 rows, 2 cols)>"
      ]
     },
     "execution_count": null,
     "metadata": {},
     "output_type": "execute_result"
    }
   ],
   "source": [
    "db.t.Genre"
   ]
  },
  {
   "cell_type": "code",
   "execution_count": null,
   "metadata": {},
   "outputs": [
    {
     "data": {
      "text/markdown": [
       "<DuckDBPyRelation  :: _Album_ (4 rows, 2 cols)>\n",
       "\n",
       "|   AlbumId | Title                                 |\n",
       "|----------:|:--------------------------------------|\n",
       "|         1 | For Those About To Rock We Salute You |\n",
       "|         2 | Balls to the Wall                     |\n",
       "|         3 | Restless and Wild                     |\n",
       "|         4 | Let There Be Rock                     |\n",
       "\n"
      ],
      "text/plain": [
       "<DuckDBPyRelation  :: _Album_ (4 rows, 2 cols)>"
      ]
     },
     "execution_count": null,
     "metadata": {},
     "output_type": "execute_result"
    }
   ],
   "source": [
    "a"
   ]
  },
  {
   "cell_type": "markdown",
   "metadata": {},
   "source": [
    "### Replacement Scans"
   ]
  },
  {
   "cell_type": "markdown",
   "metadata": {},
   "source": [
    "You may be asking yourself why I am patching `DuckDBPyRelation` and `DuckDBPyConnection` instead of subclassing them.\n",
    "The problem is that these classes do not allow subclassing.  They do not implement `__init__`.\n",
    "\n",
    "We could have create our own classes like `Database` and `Table` and just wrap DuckDBPy objects. But then we would loose a very nice feature of the PyRelation objects.....\n",
    "\n",
    "\n",
    "*replacement scans*.\n"
   ]
  },
  {
   "cell_type": "code",
   "execution_count": null,
   "metadata": {},
   "outputs": [],
   "source": [
    "a = db.t.Album"
   ]
  },
  {
   "cell_type": "code",
   "execution_count": null,
   "metadata": {},
   "outputs": [
    {
     "data": {
      "text/markdown": [
       "<DuckDBPyRelation  :: _unnamed_relation_e2365f83b82bfa49_ (347 rows, 3 cols)>\n",
       "\n",
       "| AlbumId   | Title                                              | ArtistId   |\n",
       "|:----------|:---------------------------------------------------|:-----------|\n",
       "| 1         | For Those About To Rock We Salute You              | 1          |\n",
       "| 2         | Balls to the Wall                                  | 2          |\n",
       "| 3         | Restless and Wild                                  | 2          |\n",
       "| ...       | ...                                                | ...        |\n",
       "| 345       | Monteverdi: L'Orfeo                                | 273        |\n",
       "| 346       | Mozart: Chamber Music                              | 274        |\n",
       "| 347       | Koyaanisqatsi (Soundtrack from the Motion Picture) | 275        |\n",
       "\n"
      ],
      "text/plain": [
       "<DuckDBPyRelation  :: _unnamed_relation_e2365f83b82bfa49_ (347 rows, 3 cols)>"
      ]
     },
     "execution_count": null,
     "metadata": {},
     "output_type": "execute_result"
    }
   ],
   "source": [
    "db.sql(\"select * from a\")"
   ]
  },
  {
   "cell_type": "markdown",
   "metadata": {},
   "source": [
    "I did not had to use a f-string and pass the variable.  DuckDBPy objects (as well as Pandas and Polars Dataframes, Arrow tables, and Datasets) are replaced in the query automagically."
   ]
  },
  {
   "cell_type": "code",
   "execution_count": null,
   "metadata": {},
   "outputs": [
    {
     "data": {
      "text/markdown": [
       "<DuckDBPyRelation  :: _unnamed_relation_eb016f018b76cdf0_ (347 rows, 3 cols)>\n",
       "\n",
       "| AlbumId   | Title                                              | ArtistId   |\n",
       "|:----------|:---------------------------------------------------|:-----------|\n",
       "| 1         | For Those About To Rock We Salute You              | 1          |\n",
       "| 2         | Balls to the Wall                                  | 2          |\n",
       "| 3         | Restless and Wild                                  | 2          |\n",
       "| ...       | ...                                                | ...        |\n",
       "| 345       | Monteverdi: L'Orfeo                                | 273        |\n",
       "| 346       | Mozart: Chamber Music                              | 274        |\n",
       "| 347       | Koyaanisqatsi (Soundtrack from the Motion Picture) | 275        |\n",
       "\n"
      ],
      "text/plain": [
       "<DuckDBPyRelation  :: _unnamed_relation_eb016f018b76cdf0_ (347 rows, 3 cols)>"
      ]
     },
     "execution_count": null,
     "metadata": {},
     "output_type": "execute_result"
    }
   ],
   "source": [
    "db.sql(f\"select * from {a}\")"
   ]
  },
  {
   "cell_type": "code",
   "execution_count": null,
   "metadata": {},
   "outputs": [
    {
     "data": {
      "text/plain": [
       "'main.Album'"
      ]
     },
     "execution_count": null,
     "metadata": {},
     "output_type": "execute_result"
    }
   ],
   "source": [
    "str(a)"
   ]
  },
  {
   "cell_type": "markdown",
   "metadata": {},
   "source": [
    "### Improving Database import"
   ]
  },
  {
   "cell_type": "code",
   "execution_count": null,
   "metadata": {},
   "outputs": [],
   "source": [
    "from pathlib import Path\n",
    "from typing import Optional, Literal\n",
    "\n",
    "\n",
    "\n",
    "@patch\n",
    "def __contains__(self:DuckDBPyConnection, name:str):\n",
    "    return name in [r[0] for r in self.tables.select('name').fetchall()]\n",
    "\n",
    "@patch\n",
    "def drop(self:DuckDBPyConnection, table_name:str):\n",
    "    '''Drop a table or view'''\n",
    "    self.tables.filter(\"name == 'a_view'\")\n",
    "    if table_name not in self: raise ValueError(f\"Table {table_name} does not exist\")\n",
    "    self.sql(f\"DROP TABLE {table_name}\")\n",
    "    \n",
    "@patch\n",
    "def _create(self: DuckDBPyConnection, \n",
    "            type: str, fileglob: str, \n",
    "            table_name: Optional[str] = None, \n",
    "            filetype: Optional[Literal['csv', 'xlsx', 'json', 'parquet']] = None, \n",
    "            replace: bool = False, \n",
    "            *args, **kwargs):\n",
    "  \n",
    "    filepath = Path(fileglob)\n",
    "    name = table_name or filepath.stem\n",
    "    if name in self and not replace: raise ValueError(f\"Table {name} already exists\")\n",
    "    if name in self: self.drop(name)\n",
    "    \n",
    "    filetype = filetype or filepath.suffix[1:]\n",
    "    if filetype == 'xlsx':\n",
    "        self.install_extension('spatial')\n",
    "        self.load_extension('spatial') # for excel import/export\n",
    "        fn = 'st_read'\n",
    "        options = ', '.join(f\"{key}={repr(value)}\" for key, value in kwargs.items())\n",
    "        self.sql(f\"CREATE {type} {name} AS SELECT * FROM {fn}('{str(filepath)}' {options})\")\n",
    "    else:\n",
    "        (getattr(self, f'read_{filetype}')(fileglob, *args, **kwargs)).to_table(name)\n",
    "\n",
    "\n",
    "@patch\n",
    "def create_table(self: DuckDBPyConnection, \n",
    "                 fileglob: str, # file path or glob\n",
    "                 table_name: Optional[str] = None, # table name\n",
    "                 filetype: Optional[Literal['csv', 'xlsx', 'json', 'parquet', 'sqlite']] = None, # file type\n",
    "                 replace: bool = False, # replace existing table\n",
    "                 *args, **kwargs \n",
    "                 ):\n",
    "    '''Create a table from a file'''\n",
    "    return self._create('TABLE', fileglob, table_name, filetype, replace, *args, **kwargs)\n",
    "\n",
    "@patch\n",
    "def create_view(self: DuckDBPyConnection, \n",
    "                 fileglob: str, # file path or glob\n",
    "                 view_name: Optional[str] = None, # view name\n",
    "                 filetype: Optional[Literal['csv', 'xlsx', 'json', 'parquet', 'sqlite']] = None, # file type\n",
    "                 replace: bool = False,  # replace existing view\n",
    "                 *args, **kwargs\n",
    "                 ):\n",
    "    '''Create a view from a file'''\n",
    "    return self._create('VIEW', fileglob, view_name, filetype, replace, *args, **kwargs)\n",
    "    "
   ]
  },
  {
   "cell_type": "code",
   "execution_count": null,
   "metadata": {},
   "outputs": [
    {
     "data": {
      "text/markdown": [
       "<DuckDBPyRelation  :: _unnamed_relation_3eb4ad76c1db552e_ (15 rows, 5 cols)>\n",
       "\n",
       "| catalog   | schema   | name        | type       | comment   |\n",
       "|:----------|:---------|:------------|:-----------|:----------|\n",
       "| chinook   | main     | Invoice     | BASE TABLE |           |\n",
       "| chinook   | main     | latin1      | VIEW       |           |\n",
       "| chinook   | main     | Playlist    | BASE TABLE |           |\n",
       "| ...       | ...      | ...         | ...        | ...       |\n",
       "| chinook   | main     | InvoiceLine | BASE TABLE |           |\n",
       "| chinook   | main     | Customer    | BASE TABLE |           |\n",
       "| chinook   | main     | Genre       | BASE TABLE |           |\n",
       "\n"
      ],
      "text/plain": [
       "<DuckDBPyRelation  :: _unnamed_relation_3eb4ad76c1db552e_ (15 rows, 5 cols)>"
      ]
     },
     "execution_count": null,
     "metadata": {},
     "output_type": "execute_result"
    }
   ],
   "source": [
    "db.create_table('../data/username.latin1.csv', 'latin', replace=True)\n",
    "db.tables"
   ]
  },
  {
   "cell_type": "code",
   "execution_count": null,
   "metadata": {},
   "outputs": [
    {
     "data": {
      "text/markdown": [
       "<DuckDBPyRelation  :: _unnamed_relation_0555d0f4c1ea15b1_ (15 rows, 5 cols)>\n",
       "\n",
       "| catalog   | schema   | name       | type       | comment     |\n",
       "|:----------|:---------|:-----------|:-----------|:------------|\n",
       "| chinook   | main     | Playlist   | BASE TABLE |             |\n",
       "| chinook   | main     | Album      | BASE TABLE | Album table |\n",
       "| chinook   | main     | Artist     | BASE TABLE |             |\n",
       "| ...       | ...      | ...        | ...        | ...         |\n",
       "| chinook   | main     | Genre      | BASE TABLE |             |\n",
       "| chinook   | main     | todos      | BASE TABLE |             |\n",
       "| chinook   | main     | latin1view | BASE TABLE |             |\n",
       "\n"
      ],
      "text/plain": [
       "<DuckDBPyRelation  :: _unnamed_relation_0555d0f4c1ea15b1_ (15 rows, 5 cols)>"
      ]
     },
     "execution_count": null,
     "metadata": {},
     "output_type": "execute_result"
    }
   ],
   "source": [
    "db.tables\n",
    "#  db.sql(\"select distinct database_name, schema_name, table_name, column_name from duckdb_columns()\")\n",
    "# db.sql(\"attach database '../data/chinook.sqlite' as sqlite\")"
   ]
  },
  {
   "cell_type": "code",
   "execution_count": null,
   "metadata": {},
   "outputs": [],
   "source": [
    "db.create_view('../data/username.latin1.csv', 'latin1view', replace=True)"
   ]
  },
  {
   "cell_type": "code",
   "execution_count": null,
   "metadata": {},
   "outputs": [],
   "source": [
    "# from fastcore.test import test_fail\n",
    "# test_fail(db.drop, 'banana') # fix error in nbdev_prepare"
   ]
  },
  {
   "cell_type": "code",
   "execution_count": null,
   "metadata": {},
   "outputs": [],
   "source": [
    "db.create_table('https://jsonplaceholder.typicode.com/todos/', 'todos', filetype='json', replace=True)"
   ]
  },
  {
   "cell_type": "code",
   "execution_count": null,
   "metadata": {},
   "outputs": [
    {
     "data": {
      "text/markdown": [
       "<DuckDBPyRelation  :: _main.todos_ (10 rows, 4 cols)>\n",
       "\n",
       "| userId   | id   | title                                        | completed   |\n",
       "|:---------|:-----|:---------------------------------------------|:------------|\n",
       "| 1        | 1    | delectus aut autem                           | False       |\n",
       "| 1        | 2    | quis ut nam facilis et officia qui           | False       |\n",
       "| 1        | 3    | fugiat veniam minus                          | False       |\n",
       "| ...      | ...  | ...                                          | ...         |\n",
       "| 1        | 8    | quo adipisci enim quam ut ab                 | True        |\n",
       "| 1        | 9    | molestiae perspiciatis ipsa                  | False       |\n",
       "| 1        | 10   | illo est ratione doloremque quia maiores aut | True        |\n",
       "\n"
      ],
      "text/plain": [
       "<DuckDBPyRelation  :: _main.todos_ (10 rows, 4 cols)>"
      ]
     },
     "execution_count": null,
     "metadata": {},
     "output_type": "execute_result"
    }
   ],
   "source": [
    "db.t.todos.limit(10)"
   ]
  },
  {
   "cell_type": "code",
   "execution_count": null,
   "metadata": {},
   "outputs": [],
   "source": [
    "db.create_table('https://huggingface.co/datasets/ibm/duorc/resolve/refs%2Fconvert%2Fparquet/ParaphraseRC/test/0000.parquet', 'hf_movies')"
   ]
  },
  {
   "cell_type": "code",
   "execution_count": null,
   "metadata": {},
   "outputs": [
    {
     "data": {
      "text/markdown": [
       "<DuckDBPyRelation  :: _main.hf_movies_ (2 rows, 7 cols)>\n",
       "\n",
       "| plot_id    | plot                                                                                                                                                                                                                                                                                                                                                                                                                                                                                                                                                                                                                                                                                                                                                                                                         | title                 | question_id                          | question                      | answers           | no_answer   |\n",
       "|:-----------|:-------------------------------------------------------------------------------------------------------------------------------------------------------------------------------------------------------------------------------------------------------------------------------------------------------------------------------------------------------------------------------------------------------------------------------------------------------------------------------------------------------------------------------------------------------------------------------------------------------------------------------------------------------------------------------------------------------------------------------------------------------------------------------------------------------------|:----------------------|:-------------------------------------|:------------------------------|:------------------|:------------|\n",
       "| /m/0278wws | This section needs expansion. You can help by adding to it. (October 2014)                                                                                                                                                                                                                                                                                                                                                                                                                                                                                                                                                                                                                                                                                                                                   | The Last Horror Movie | 67386318-d155-189c-9569-e35bf46a338c | Who portrays Max Parry?       | ['Kevin Howarth'] | False       |\n",
       "|            | The film follows Max Parry (Kevin Howarth), a disturbed wedding video cameraman, and his unnamed assistant (Mark Stevenson) as they perform several murders that they have videotaped. The two have used a video store tape in order to record the proceedings, breaking the fourth wall and insinuating that the copy of the film being watched is the only existing version of the tape. Throughout the film Max uses meta-references in order to show off his gruesome activities as a serial killer. The film raises questions surrounding visceral pleasure, this can be seen in one scene in particular during which the audience cannot see the victims (two at once) being murdered, Max Parry then asks the audience \"I bet you wanted to see that, and if you didn't, why are you still watching?\" |                       |                                      |                               |                   |             |\n",
       "|            | At the end of the film the audience is left to believe that since they are watching the only copy of the film, that they will potentially become one of Max's victims.                                                                                                                                                                                                                                                                                                                                                                                                                                                                                                                                                                                                                                       |                       |                                      |                               |                   |             |\n",
       "| /m/0278wws | This section needs expansion. You can help by adding to it. (October 2014)                                                                                                                                                                                                                                                                                                                                                                                                                                                                                                                                                                                                                                                                                                                                   | The Last Horror Movie | 7255bfe4-67b0-7a6d-22ee-1245e4221f3f | Where does Max murder people? | []                | True        |\n",
       "|            | The film follows Max Parry (Kevin Howarth), a disturbed wedding video cameraman, and his unnamed assistant (Mark Stevenson) as they perform several murders that they have videotaped. The two have used a video store tape in order to record the proceedings, breaking the fourth wall and insinuating that the copy of the film being watched is the only existing version of the tape. Throughout the film Max uses meta-references in order to show off his gruesome activities as a serial killer. The film raises questions surrounding visceral pleasure, this can be seen in one scene in particular during which the audience cannot see the victims (two at once) being murdered, Max Parry then asks the audience \"I bet you wanted to see that, and if you didn't, why are you still watching?\" |                       |                                      |                               |                   |             |\n",
       "|            | At the end of the film the audience is left to believe that since they are watching the only copy of the film, that they will potentially become one of Max's victims.                                                                                                                                                                                                                                                                                                                                                                                                                                                                                                                                                                                                                                       |                       |                                      |                               |                   |             |\n",
       "\n"
      ],
      "text/plain": [
       "<DuckDBPyRelation  :: _main.hf_movies_ (2 rows, 7 cols)>"
      ]
     },
     "execution_count": null,
     "metadata": {},
     "output_type": "execute_result"
    }
   ],
   "source": [
    "db.t.hf_movies.limit(2)"
   ]
  },
  {
   "cell_type": "code",
   "execution_count": null,
   "metadata": {},
   "outputs": [],
   "source": [
    "db.drop('hf_movies')\n"
   ]
  },
  {
   "cell_type": "code",
   "execution_count": null,
   "metadata": {},
   "outputs": [],
   "source": [
    "\n",
    "db.create_table('../data/example.xlsx')"
   ]
  },
  {
   "cell_type": "code",
   "execution_count": null,
   "metadata": {},
   "outputs": [],
   "source": [
    "db.drop('example')"
   ]
  },
  {
   "cell_type": "markdown",
   "metadata": {},
   "source": [
    "#### Export"
   ]
  },
  {
   "cell_type": "code",
   "execution_count": null,
   "metadata": {},
   "outputs": [],
   "source": [
    "#| hide\n",
    "import nbdev; nbdev.nbdev_export()"
   ]
  }
 ],
 "metadata": {
  "kernelspec": {
   "display_name": "python3",
   "language": "python",
   "name": "python3"
  }
 },
 "nbformat": 4,
 "nbformat_minor": 4
}
