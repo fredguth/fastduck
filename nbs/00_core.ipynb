{
 "cells": [
  {
   "cell_type": "code",
   "execution_count": 1,
   "metadata": {},
   "outputs": [],
   "source": [
    "#| default_exp core"
   ]
  },
  {
   "cell_type": "code",
   "execution_count": 2,
   "metadata": {},
   "outputs": [],
   "source": [
    "#| hide\n",
    "#| export\n",
    "from __future__ import annotations\n",
    "import duckdb\n",
    "from duckdb import DuckDBPyConnection, DuckDBPyRelation\n",
    "from typing import List, Dict, Optional, Union, Any, Tuple, Set, Literal\n",
    "from fastcore.all import store_attr, patch, L\n",
    "import numpy as np\n",
    "import pandas as pd\n",
    "from dataclasses import field, make_dataclass\n",
    "from fastcore.xtras import hl_md, dataclass_src\n",
    "from functools import wraps, partial\n",
    "from pathlib import Path\n",
    "from IPython.display import Markdown\n"
   ]
  },
  {
   "cell_type": "markdown",
   "metadata": {},
   "source": [
    "# Source"
   ]
  },
  {
   "cell_type": "markdown",
   "metadata": {},
   "source": [
    ">  Wrapping DuckDB Python API"
   ]
  },
  {
   "cell_type": "markdown",
   "metadata": {},
   "source": [
    "When you `import duckdb`, there are two main concepts that you have to handle:\n",
    "\n",
    "\n",
    "A *DuckDBPyConnection* represents a connection to a DuckDB database in a file or memory"
   ]
  },
  {
   "cell_type": "markdown",
   "metadata": {},
   "source": [
    "DuckDB API has no concept of a Database, only of a connection that may envolve different attached databases (or catalogs) and schemas.\n",
    "\n",
    "A Catalog is just a holder for schemas, and schemas hold catalog entries, like tables, views, functions, types, etc..\n",
    "\n",
    "We will change this behaviour in a bit..."
   ]
  },
  {
   "cell_type": "markdown",
   "metadata": {},
   "source": []
  },
  {
   "cell_type": "markdown",
   "metadata": {},
   "source": [
    "A DuckDBPyRelation represents a query. It is a table-like object that will be lazy executed and can be queried further. \n",
    "\n",
    "Once it's executed then yes, it contains the result set.\n",
    "\n",
    "But when further projections are made on it, that result set is not used, the projections are just done on top of the original query as a subquery\n",
    "\n",
    "`duckdb.table('tbl').sql(\"select a\")`\n",
    "\n",
    "\n",
    "Really becomes, in essence:\n",
    "`select a from (select * from tbl)`\n"
   ]
  },
  {
   "cell_type": "code",
   "execution_count": 3,
   "metadata": {},
   "outputs": [
    {
     "data": {
      "text/plain": [
       "┌────────────┐\n",
       "│ table_name │\n",
       "│  varchar   │\n",
       "├────────────┤\n",
       "│   0 rows   │\n",
       "└────────────┘"
      ]
     },
     "execution_count": 3,
     "metadata": {},
     "output_type": "execute_result"
    }
   ],
   "source": [
    "db = duckdb.connect()\n",
    "db.sql(f\"FROM duckdb_tables()\").select('table_name')"
   ]
  },
  {
   "cell_type": "code",
   "execution_count": 4,
   "metadata": {},
   "outputs": [
    {
     "data": {
      "text/plain": [
       "duckdb.duckdb.DuckDBPyRelation"
      ]
     },
     "execution_count": 4,
     "metadata": {},
     "output_type": "execute_result"
    }
   ],
   "source": [
    "type(db.sql(f\"SELECT table_name FROM duckdb_tables()\"))"
   ]
  },
  {
   "cell_type": "code",
   "execution_count": 5,
   "metadata": {},
   "outputs": [],
   "source": [
    "db.close()"
   ]
  },
  {
   "cell_type": "markdown",
   "metadata": {},
   "source": [
    "## Improving Connection"
   ]
  },
  {
   "cell_type": "markdown",
   "metadata": {},
   "source": [
    "We want the developer to understand the connection as a database.\n",
    "\n",
    "```python\n",
    "\n",
    "import duckdb\n",
    "\n",
    "conn = duckdb.connect()\n",
    "\n",
    "```\n",
    "\n",
    "becomes\n",
    "\n",
    "\n",
    "```python\n",
    "\n",
    "from fastduck import database\n",
    "db = database()\n",
    "\n",
    "```\n",
    "By acessing the same Python API using `fastduck`, the developer shall get some niceties.\n"
   ]
  },
  {
   "cell_type": "code",
   "execution_count": 6,
   "metadata": {},
   "outputs": [],
   "source": [
    "#| export\n",
    "@wraps(duckdb.connect)\n",
    "def database(*args, **kwargs):\n",
    "    db = duckdb.connect(*args, **kwargs)\n",
    "    return db"
   ]
  },
  {
   "cell_type": "markdown",
   "metadata": {},
   "source": [
    "\n",
    "Let's start by simplifying the access to some information on the current catalog and schema in the connection."
   ]
  },
  {
   "cell_type": "code",
   "execution_count": 7,
   "metadata": {},
   "outputs": [],
   "source": [
    "db = database('../data/chinook.duckdb')"
   ]
  },
  {
   "cell_type": "code",
   "execution_count": 8,
   "metadata": {},
   "outputs": [],
   "source": [
    "#| export\n",
    "def _current(self: DuckDBPyConnection): return self.sql('select current_catalog, current_schema').fetchone()\n",
    "@patch(as_prop=True)\n",
    "def catalog(self: DuckDBPyConnection): return _current(self)[0]\n",
    "\n",
    "@patch(as_prop=True)\n",
    "def schema(self: DuckDBPyConnection): return _current(self)[1]\n",
    "\n",
    "@patch(as_prop=True) # just the name part in the alias\n",
    "def name(self:DuckDBPyRelation): return self.alias.split('.')[-1]\n",
    "\n",
    "@patch\n",
    "def __getitem__(self:DuckDBPyRelation, idxs) -> DuckDBPyRelation: # selecting by passing a list of column names\n",
    "    return self.select(*idxs) if isinstance(idxs, Union[List, Set, Tuple]) else self.select(idxs)\n",
    "@patch \n",
    "def to_recs(self:DuckDBPyRelation) -> List[Dict[str, Any]]:\n",
    "    '''The relation as a list of records'''\n",
    "    return self.df().to_dict(orient='records')\n",
    "@patch \n",
    "def to_list(self:DuckDBPyRelation) -> List[List]:\n",
    "    '''The relation as a list'''\n",
    "    return [list(r.values()) if len(r.values())>1 else list(r.values())[0] for r in self.to_recs() ]\n",
    "@patch \n",
    "def q(self:DuckDBPyConnection, *args, **kwargs) -> List[Dict[str, Any]]:\n",
    "    '''Run a query and return the result as a list of records'''\n",
    "    return self.sql(*args, **kwargs).to_recs()\n",
    "\n"
   ]
  },
  {
   "cell_type": "code",
   "execution_count": 9,
   "metadata": {},
   "outputs": [
    {
     "data": {
      "text/plain": [
       "┌─────────┬───────────────────────────────────────┐\n",
       "│ AlbumId │                 Title                 │\n",
       "│  int32  │                varchar                │\n",
       "├─────────┼───────────────────────────────────────┤\n",
       "│       1 │ For Those About To Rock We Salute You │\n",
       "│       2 │ Balls to the Wall                     │\n",
       "│       3 │ Restless and Wild                     │\n",
       "│       4 │ Let There Be Rock                     │\n",
       "│       5 │ Big Ones                              │\n",
       "└─────────┴───────────────────────────────────────┘"
      ]
     },
     "execution_count": 9,
     "metadata": {},
     "output_type": "execute_result"
    }
   ],
   "source": [
    "album = db.sql(\"select * from Album\")\n",
    "album['AlbumId', 'Title'].limit(5)"
   ]
  },
  {
   "cell_type": "code",
   "execution_count": 10,
   "metadata": {},
   "outputs": [
    {
     "data": {
      "text/plain": [
       "[{'AlbumId': 1, 'Title': 'For Those About To Rock We Salute You'},\n",
       " {'AlbumId': 2, 'Title': 'Balls to the Wall'}]"
      ]
     },
     "execution_count": 10,
     "metadata": {},
     "output_type": "execute_result"
    }
   ],
   "source": [
    "db.table('Album')['AlbumId', 'Title'].limit(2).to_recs()"
   ]
  },
  {
   "cell_type": "markdown",
   "metadata": {},
   "source": [
    "We also need a way to know the tables in the database.\n"
   ]
  },
  {
   "cell_type": "code",
   "execution_count": 11,
   "metadata": {},
   "outputs": [],
   "source": [
    "#| export\n",
    "@patch(as_prop=True)\n",
    "def tables(self: DuckDBPyConnection, catalog:str=None) -> DuckDBPyRelation:\n",
    "    '''Returns a dictionary of tables in the database'''\n",
    "    q = f\"from {catalog or self.catalog}.information_schema.tables\"\n",
    "    s = f\"'{catalog or self.catalog}' as catalog, table_schema as schema, table_name as name, table_type as type, table_comment as comment\"\n",
    "    return self.sql(q).distinct().select(s)\n",
    "\n",
    "@patch(as_prop=True)\n",
    "def views(self: DuckDBPyConnection) -> DuckDBPyRelation:\n",
    "    '''Returns a dictionary of views in the database'''\n",
    "    return self.tables.filter(f\"type =='VIEW' and catalog='{self.catalog}' and schema = '{self.schema}'\")\n",
    "@patch(as_prop=True)\n",
    "def base_tables(self: DuckDBPyConnection) -> DuckDBPyRelation:\n",
    "    '''Returns a dictionary of views in the database'''\n",
    "    return self.tables.filter(f\"type =='BASE TABLE' and catalog='{self.catalog}' and schema = '{self.schema}'\")"
   ]
  },
  {
   "cell_type": "code",
   "execution_count": 12,
   "metadata": {},
   "outputs": [
    {
     "data": {
      "text/plain": [
       "┌─────────┬─────────┬───────────────┬────────────┬─────────────┐\n",
       "│ catalog │ schema  │     name      │    type    │   comment   │\n",
       "│ varchar │ varchar │    varchar    │  varchar   │   varchar   │\n",
       "├─────────┼─────────┼───────────────┼────────────┼─────────────┤\n",
       "│ chinook │ main    │ Album         │ BASE TABLE │ Album table │\n",
       "│ chinook │ main    │ Artist        │ BASE TABLE │ NULL        │\n",
       "│ chinook │ main    │ PlaylistTrack │ BASE TABLE │ NULL        │\n",
       "└─────────┴─────────┴───────────────┴────────────┴─────────────┘"
      ]
     },
     "execution_count": 12,
     "metadata": {},
     "output_type": "execute_result"
    }
   ],
   "source": [
    "db.base_tables.limit(3)"
   ]
  },
  {
   "cell_type": "markdown",
   "metadata": {},
   "source": [
    "The functions bellow add some utilities that are useful for working with tables and views in a database."
   ]
  },
  {
   "cell_type": "code",
   "execution_count": 13,
   "metadata": {},
   "outputs": [
    {
     "data": {
      "text/plain": [
       "┌─────────┬─────────┬───────────┬─────────┬─────────────┐\n",
       "│ catalog │ schema  │   name    │  type   │   comment   │\n",
       "│ varchar │ varchar │  varchar  │ varchar │   varchar   │\n",
       "├─────────┼─────────┼───────────┼─────────┼─────────────┤\n",
       "│ chinook │ main    │ a_view    │ VIEW    │ Just a view │\n",
       "│ chinook │ main    │ temp_view │ VIEW    │ NULL        │\n",
       "└─────────┴─────────┴───────────┴─────────┴─────────────┘"
      ]
     },
     "execution_count": 13,
     "metadata": {},
     "output_type": "execute_result"
    }
   ],
   "source": [
    "db.views.limit(3)"
   ]
  },
  {
   "cell_type": "code",
   "execution_count": 14,
   "metadata": {},
   "outputs": [],
   "source": [
    "#| export\n",
    "@patch\n",
    "def datamodel(self: DuckDBPyConnection, table_name:str) ->List[Dict]:\n",
    "    ''' Returns the data model of a table or view. \n",
    "    The columns names, types, nullable status, default value and\n",
    "    primary key status.'''\n",
    "    \n",
    "    return [{'name': r[1], 'type': r[2], 'nullable': not r[3], 'default': r[4], 'pk': r[5]} \n",
    "            for r in self.sql(f\"PRAGMA table_info='{table_name}'\").fetchall()]"
   ]
  },
  {
   "cell_type": "code",
   "execution_count": 15,
   "metadata": {},
   "outputs": [
    {
     "data": {
      "text/plain": [
       "[{'name': 'ArtistId',\n",
       "  'type': 'INTEGER',\n",
       "  'nullable': False,\n",
       "  'default': None,\n",
       "  'pk': True},\n",
       " {'name': 'Name',\n",
       "  'type': 'VARCHAR',\n",
       "  'nullable': True,\n",
       "  'default': None,\n",
       "  'pk': False}]"
      ]
     },
     "execution_count": 15,
     "metadata": {},
     "output_type": "execute_result"
    }
   ],
   "source": [
    "db.datamodel('Artist')\n"
   ]
  },
  {
   "cell_type": "code",
   "execution_count": 16,
   "metadata": {},
   "outputs": [],
   "source": [
    "#| export\n",
    "def convertTypes(s:str)->type:\n",
    "    ''' Convert DuckDB types to Python and Numpy types'''\n",
    "    d = {\n",
    "        # Built-in types\n",
    "        'BOOLEAN': bool,\n",
    "        'BLOB': bytearray,  # For bytes, bytearray can be used in Python\n",
    "        'DOUBLE': float,\n",
    "        'BIGINT': int,\n",
    "        'VARCHAR': str,\n",
    "        'VARCHAR[]': str,\n",
    "    \n",
    "        # NumPy DTypes\n",
    "        'FLOAT': np.float32,\n",
    "        'DOUBLE': float,\n",
    "        'SMALLINT': np.int16,\n",
    "        'INTEGER': np.int32,\n",
    "        'TINYINT': np.int8,\n",
    "        'USMALLINT': np.uint16,\n",
    "        'UINTEGER': np.uint32,\n",
    "        'UBIGINT': np.uint64,\n",
    "        'UTINYINT': np.uint8,\n",
    "        'TIMESTAMP': np.timedelta64\n",
    "    }\n",
    "    if s in d: return d[s]\n",
    "    if s[:7]=='DECIMAL': return float\n",
    "    raise ValueError(f'Unknown type {s}')\n",
    "\n",
    "\n",
    "import re, keyword\n",
    "def clean(s):\n",
    "    s = re.sub(r'\\W|^(?=\\d)', '_', s)\n",
    "    return s + '_' if keyword.iskeyword(s) else s\n",
    "\n",
    "@patch\n",
    "def dataclass(self: DuckDBPyConnection, \n",
    "              table_name:str, # table or view name\n",
    "              pref='', # prefix to add to the field names\n",
    "              suf='', # suffix to add to the field names\n",
    "              cls_name:str = None # defaults to table_name\n",
    "              ) -> type:\n",
    "    '''Creates a `dataclass` type from a table or view in the database.'''\n",
    "    cls_name = cls_name or table_name\n",
    "    fields = self.datamodel(table_name)\n",
    "    fields = [(clean(pref+f['name']+suf), convertTypes(f['type']) if not f['nullable'] else convertTypes(f['type'])|None , field(default=f['default'])) for f in fields]\n",
    "    return make_dataclass(table_name, fields)"
   ]
  },
  {
   "cell_type": "code",
   "execution_count": 17,
   "metadata": {},
   "outputs": [],
   "source": [
    "artist_dc = db.dataclass('Artist')\n",
    "# src = dataclass_src(artist_dc)\n",
    "# hl_md(src, 'python') # fix error in nbdev_prepare"
   ]
  },
  {
   "cell_type": "code",
   "execution_count": 18,
   "metadata": {},
   "outputs": [
    {
     "data": {
      "text/plain": [
       "[{'ArtistId': 1, 'Name': 'AC/DC'}]"
      ]
     },
     "execution_count": 18,
     "metadata": {},
     "output_type": "execute_result"
    }
   ],
   "source": [
    "acdc = db.sql(f\"select * from artist where artist.Name like 'AC/%'\").df().to_dict(orient='records')\n",
    "acdc"
   ]
  },
  {
   "cell_type": "code",
   "execution_count": 19,
   "metadata": {},
   "outputs": [
    {
     "data": {
      "text/plain": [
       "Artist(ArtistId=1, Name='AC/DC')"
      ]
     },
     "execution_count": 19,
     "metadata": {},
     "output_type": "execute_result"
    }
   ],
   "source": [
    "acdc_object = artist_dc(**acdc[0])\n",
    "acdc_object"
   ]
  },
  {
   "cell_type": "markdown",
   "metadata": {},
   "source": [
    "## Relation utilities"
   ]
  },
  {
   "cell_type": "markdown",
   "metadata": {},
   "source": [
    "Once we know that a certain `DuckDBPyRelation` is a table (or view), we can also make it keep some valuable props."
   ]
  },
  {
   "cell_type": "code",
   "execution_count": 20,
   "metadata": {},
   "outputs": [],
   "source": [
    "#| export\n",
    "_saved = {}\n",
    "\n",
    "@patch\n",
    "def _set(self:DuckDBPyRelation, k, v):\n",
    "    global _saved\n",
    "    # use hash to avoid clashes\n",
    "    _saved[str(hash(self))+'_'+k] = v\n",
    "\n",
    "@patch\n",
    "def _get(self:DuckDBPyRelation, key):\n",
    "    global _saved\n",
    "    k = str(hash(self))+'_'+key\n",
    "    return _saved[k] if k in _saved else None\n",
    "\n",
    "def custom_dir(c, add): return sorted(dir(type(c)) + list(c.__dict__.keys()) if hasattr(c, '__dict__') else [] + add)\n",
    "\n",
    "def create_patch_property(name):\n",
    "    @patch(as_prop=True)\n",
    "    def prop(self: DuckDBPyRelation):\n",
    "        return self._get(name)\n",
    "    return prop\n",
    "\n",
    "props = ['cls', 'rel', 'model', 'meta']\n",
    "for p in props: setattr(DuckDBPyRelation, p, create_patch_property(p))\n",
    "\n",
    "@patch\n",
    "def __dir__(self:DuckDBPyRelation) -> List[str]: return custom_dir(DuckDBPyRelation, props)\n",
    "    \n",
    "def create_prop(c, name, f): setattr(c, name, property(f))\n",
    "@patch(as_prop=True)\n",
    "def cls(self:DuckDBPyRelation): return self._get('cls')\n",
    "\n",
    "@patch(as_prop=True)\n",
    "def model(self:DuckDBPyRelation): return self._get('model')\n",
    "\n",
    "@patch(as_prop=True)\n",
    "def meta(self:DuckDBPyRelation): return self._get('meta')\n",
    "\n",
    "@patch(as_prop=True)\n",
    "def rel(self:DuckDBPyRelation): return self._get('rel')\n",
    "\n",
    "\n",
    "@patch\n",
    "def table(self:DuckDBPyConnection, name:str, schema:str= None, catalog:str=None) -> DuckDBPyRelation:\n",
    "    if isinstance(name, Union[List, Set, Tuple]): return [self.table(n) for n in name]\n",
    "    if not isinstance(name,str): raise AttributeError\n",
    "    r = self.tables.filter(f\"name == '{name}' and schema == '{schema or self.schema}' and catalog =='{catalog or self.catalog}'\")\n",
    "    catalog, schema, name, type, comment = r.fetchone()\n",
    "    tbl = self.sql(f\"from {catalog}.{schema}.{name}\")\n",
    "    tbl = tbl.set_alias(f\"{catalog}.{schema}.{name}\")\n",
    "    tbl._set('cls', self.dataclass(name))\n",
    "    tbl._set('model', self.datamodel(name))\n",
    "    meta = {'base': self, 'catalog': catalog, 'schema': schema, 'name': name, 'type': type, 'comment': comment, 'shape': tbl.shape}\n",
    "    tbl._set('meta', meta)\n",
    "    tbl._set('rel', tbl)\n",
    "    return tbl\n",
    "\n"
   ]
  },
  {
   "cell_type": "code",
   "execution_count": 21,
   "metadata": {},
   "outputs": [
    {
     "data": {
      "text/plain": [
       "['__abstractmethods__',\n",
       " '__annotations__',\n",
       " '__base__',\n",
       " '__bases__',\n",
       " '__basicsize__',\n",
       " '__call__',\n",
       " '__class__',\n",
       " '__contains__',\n",
       " '__delattr__',\n",
       " '__dict__',\n",
       " '__dictoffset__',\n",
       " '__dir__',\n",
       " '__dir__',\n",
       " '__doc__',\n",
       " '__doc__',\n",
       " '__eq__',\n",
       " '__flags__',\n",
       " '__format__',\n",
       " '__ge__',\n",
       " '__getattr__',\n",
       " '__getattribute__',\n",
       " '__getitem__',\n",
       " '__getstate__',\n",
       " '__gt__',\n",
       " '__hash__',\n",
       " '__init__',\n",
       " '__init__',\n",
       " '__init_subclass__',\n",
       " '__instancecheck__',\n",
       " '__itemsize__',\n",
       " '__le__',\n",
       " '__len__',\n",
       " '__lt__',\n",
       " '__module__',\n",
       " '__module__',\n",
       " '__mro__',\n",
       " '__name__',\n",
       " '__ne__',\n",
       " '__new__',\n",
       " '__or__',\n",
       " '__prepare__',\n",
       " '__pybind11_module_local_v5_clang_libcpp_cxxabi1002__',\n",
       " '__qualname__',\n",
       " '__reduce__',\n",
       " '__reduce_ex__',\n",
       " '__repr__',\n",
       " '__repr__',\n",
       " '__ror__',\n",
       " '__setattr__',\n",
       " '__sizeof__',\n",
       " '__str__',\n",
       " '__str__',\n",
       " '__subclasscheck__',\n",
       " '__subclasses__',\n",
       " '__subclasshook__',\n",
       " '__text_signature__',\n",
       " '__type_params__',\n",
       " '__weakrefoffset__',\n",
       " '_get',\n",
       " '_orig___dir__',\n",
       " '_orig___getitem__',\n",
       " '_set',\n",
       " 'aggregate',\n",
       " 'alias',\n",
       " 'any_value',\n",
       " 'apply',\n",
       " 'arg_max',\n",
       " 'arg_min',\n",
       " 'arrow',\n",
       " 'avg',\n",
       " 'bit_and',\n",
       " 'bit_or',\n",
       " 'bit_xor',\n",
       " 'bitstring_agg',\n",
       " 'bool_and',\n",
       " 'bool_or',\n",
       " 'close',\n",
       " 'cls',\n",
       " 'columns',\n",
       " 'count',\n",
       " 'create',\n",
       " 'create_view',\n",
       " 'cume_dist',\n",
       " 'dense_rank',\n",
       " 'describe',\n",
       " 'description',\n",
       " 'df',\n",
       " 'distinct',\n",
       " 'dtypes',\n",
       " 'except_',\n",
       " 'execute',\n",
       " 'explain',\n",
       " 'favg',\n",
       " 'fetch_arrow_reader',\n",
       " 'fetch_arrow_table',\n",
       " 'fetch_df_chunk',\n",
       " 'fetchall',\n",
       " 'fetchdf',\n",
       " 'fetchmany',\n",
       " 'fetchnumpy',\n",
       " 'fetchone',\n",
       " 'filter',\n",
       " 'first',\n",
       " 'first_value',\n",
       " 'fsum',\n",
       " 'geomean',\n",
       " 'histogram',\n",
       " 'insert',\n",
       " 'insert_into',\n",
       " 'intersect',\n",
       " 'join',\n",
       " 'lag',\n",
       " 'last',\n",
       " 'last_value',\n",
       " 'lead',\n",
       " 'limit',\n",
       " 'list',\n",
       " 'map',\n",
       " 'max',\n",
       " 'mean',\n",
       " 'median',\n",
       " 'meta',\n",
       " 'min',\n",
       " 'mode',\n",
       " 'model',\n",
       " 'mro',\n",
       " 'n_tile',\n",
       " 'name',\n",
       " 'nth_value',\n",
       " 'order',\n",
       " 'percent_rank',\n",
       " 'pl',\n",
       " 'product',\n",
       " 'project',\n",
       " 'prop',\n",
       " 'quantile',\n",
       " 'quantile_cont',\n",
       " 'quantile_disc',\n",
       " 'query',\n",
       " 'rank',\n",
       " 'rank_dense',\n",
       " 'record_batch',\n",
       " 'rel',\n",
       " 'row_number',\n",
       " 'select',\n",
       " 'select_dtypes',\n",
       " 'select_types',\n",
       " 'set_alias',\n",
       " 'shape',\n",
       " 'show',\n",
       " 'sort',\n",
       " 'sql_query',\n",
       " 'std',\n",
       " 'stddev',\n",
       " 'stddev_pop',\n",
       " 'stddev_samp',\n",
       " 'string_agg',\n",
       " 'sum',\n",
       " 'tf',\n",
       " 'to_arrow_table',\n",
       " 'to_csv',\n",
       " 'to_df',\n",
       " 'to_list',\n",
       " 'to_parquet',\n",
       " 'to_recs',\n",
       " 'to_table',\n",
       " 'to_view',\n",
       " 'torch',\n",
       " 'type',\n",
       " 'types',\n",
       " 'union',\n",
       " 'unique',\n",
       " 'value_counts',\n",
       " 'var',\n",
       " 'var_pop',\n",
       " 'var_samp',\n",
       " 'variance',\n",
       " 'write_csv',\n",
       " 'write_parquet']"
      ]
     },
     "execution_count": 21,
     "metadata": {},
     "output_type": "execute_result"
    }
   ],
   "source": [
    "# custom_dir(DuckDBPyRelation, props)\n",
    "dir(db.table('Album'))"
   ]
  },
  {
   "cell_type": "code",
   "execution_count": 22,
   "metadata": {},
   "outputs": [],
   "source": [
    "#| export\n",
    "@patch\n",
    "def _select(self:DuckDBPyRelation, k) -> DuckDBPyRelation:\n",
    "    return self.select(k) if isinstance(k, str) else self.select(*k)\n",
    "\n",
    "@patch(as_prop=True)\n",
    "def c(self:DuckDBPyRelation): \n",
    "    '''Column autocomplete'''\n",
    "    return _Getter(self, 'column', self.columns, self._select)"
   ]
  },
  {
   "cell_type": "markdown",
   "metadata": {},
   "source": [
    "### Autocomplete\n",
    "\n",
    "We want an easy access to table information.\n",
    "\n",
    "like db`.tables` should work similar to the `.table` cli command."
   ]
  },
  {
   "cell_type": "code",
   "execution_count": 23,
   "metadata": {},
   "outputs": [],
   "source": [
    "#| export\n",
    "def noop(*args, **kwargs): return None\n",
    "def identity(x): return x\n",
    "\n",
    "\n",
    "class _Getter: \n",
    "    \"\"\" A Getter utility check https://github.com/AnswerDotAI/fastlite \"\"\"\n",
    "    def __init__(self, db:DuckDBPyConnection, type:str='', dir:List=[], get=noop): store_attr()    \n",
    "    def __dir__(self): return self.dir\n",
    "    def __str__(self): return \", \".join(dir(self))\n",
    "    def __repr__(self): return f\"{str(self.db).split(' ')[-1]} {self.type.title()}s: {str(self)}\"\n",
    "    def __contains__(self, s:str): return s in dir(self)\n",
    "    def __getitem__(self, k): return self.get(k)\n",
    "    def __getattr__(self, k):\n",
    "        if k[0]!='_': return self.get(k)\n",
    "        else: raise AttributeError \n",
    "\n",
    "\n",
    "@patch\n",
    "def use(self:DuckDBPyConnection, catalog_schema:str=None, catalog:str=None, schema=None):\n",
    "    catalog, schema = catalog_schema.split('_')\n",
    "    self.sql(f\"use {catalog}.{schema}\")\n",
    "    print(\"Using \", self)\n",
    "    return self\n",
    "\n",
    "@patch(as_prop=True) # tables\n",
    "def s(self:DuckDBPyConnection): \n",
    "    '''Autocomplete functonality for schemas'''\n",
    "    return _Getter(self, 'schema', self.tables.project(f\"catalog || '_' || schema\").distinct().to_list(), self.use)\n",
    "@patch(as_prop=True) # tables\n",
    "def t(self:DuckDBPyConnection): \n",
    "    '''Autocomplete functonality for tables'''\n",
    "    return _Getter(self,'table', self.base_tables.select('name').to_list(), self.table)\n",
    "@patch(as_prop=True) # views\n",
    "def v(self:DuckDBPyConnection): \n",
    "    '''Autocomplete functonality for views'''\n",
    "    return _Getter(self, 'view', self.views.select('name').to_list(), self.table)\n",
    "@patch(as_prop=True) # functions\n",
    "def fns(self:DuckDBPyConnection): raise NotImplementedError\n",
    "# def fns(self:DuckDBPyConnection): return _Getter(self, f\"SELECT function_name FROM duckdb_functions() WHERE schema_name = '{self.schema}' and internal = False\")\n",
    "\n",
    "@patch(as_prop=True) # secrets\n",
    "def shh(self:DuckDBPyConnection): raise NotImplementedError\n",
    "# def shh(self:DuckDBPyConnection): return _Getter(self, f\"SELECT name FROM duckdb_secrets()\")\n",
    "\n",
    "@patch\n",
    "def __repr__(self:DuckDBPyConnection): return f'{self.__class__.__name__} ({self.catalog}_{self.schema})'\n"
   ]
  },
  {
   "cell_type": "markdown",
   "metadata": {},
   "source": [
    "::: \n",
    " \n",
    "![Autocomplete in Jupyter](images/autocomplete.png){.lightbox}\n",
    "\n",
    ":::"
   ]
  },
  {
   "cell_type": "code",
   "execution_count": 24,
   "metadata": {},
   "outputs": [
    {
     "data": {
      "text/plain": [
       "┌─────────┬───────────────────────────────────────┐\n",
       "│ AlbumId │                 Title                 │\n",
       "│  int32  │                varchar                │\n",
       "├─────────┼───────────────────────────────────────┤\n",
       "│       1 │ For Those About To Rock We Salute You │\n",
       "│       2 │ Balls to the Wall                     │\n",
       "│       3 │ Restless and Wild                     │\n",
       "│       4 │ Let There Be Rock                     │\n",
       "└─────────┴───────────────────────────────────────┘"
      ]
     },
     "execution_count": 24,
     "metadata": {},
     "output_type": "execute_result"
    }
   ],
   "source": [
    "\n",
    "a = db.t.Album.c['AlbumId', 'Title'].limit(4)\n",
    "a"
   ]
  },
  {
   "cell_type": "markdown",
   "metadata": {},
   "source": [
    "Let's also improve the representation of `Relations`."
   ]
  },
  {
   "cell_type": "code",
   "execution_count": 25,
   "metadata": {},
   "outputs": [],
   "source": [
    "\n",
    "@patch\n",
    "def __str__(self:DuckDBPyRelation): return f'{self.alias}'\n",
    "\n",
    "@patch\n",
    "def __repr__(self:DuckDBPyRelation): \n",
    "    return f\"<{self.__class__.__name__} {self.meta['type'] if self.meta else ''} **{self.alias}** ({self.shape[0]} rows, {self.shape[1]} cols)>\\n\\n\"\n",
    "@patch\n",
    "def _repr_markdown_(self: DuckDBPyRelation): \n",
    "    markdown =  f\"{self.__repr__()}\\n\\n\"\n",
    "    if self.meta and self.meta['comment']: markdown += f\"> {self.meta['comment']}\\n\\n\"\n",
    "    df = self.df()\n",
    "    if self.shape[0] > 5: \n",
    "        head = df.head(3)\n",
    "        tail = df.tail(2)\n",
    "        ellipsis = pd.DataFrame([[\"...\"] * df.shape[1]], columns=df.columns)\n",
    "        df = pd.concat([head, ellipsis, tail])\n",
    "    markdown += df.to_markdown(index=False)\n",
    "    return markdown\n",
    "\n"
   ]
  },
  {
   "cell_type": "code",
   "execution_count": 26,
   "metadata": {},
   "outputs": [
    {
     "name": "stdout",
     "output_type": "stream",
     "text": [
      "┌─────────┬─────────┬───────────────┬────────────┬─────────────┐\n",
      "│ catalog │ schema  │     name      │    type    │   comment   │\n",
      "│ varchar │ varchar │    varchar    │  varchar   │   varchar   │\n",
      "├─────────┼─────────┼───────────────┼────────────┼─────────────┤\n",
      "│ chinook │ main    │ Customer      │ BASE TABLE │ NULL        │\n",
      "│ chinook │ main    │ Genre         │ BASE TABLE │ NULL        │\n",
      "│ chinook │ main    │ tst           │ BASE TABLE │ NULL        │\n",
      "│ chinook │ main    │ Invoice       │ BASE TABLE │ NULL        │\n",
      "│ chinook │ main    │ temp_view     │ VIEW       │ NULL        │\n",
      "│ chinook │ main    │ Album         │ BASE TABLE │ Album table │\n",
      "│ chinook │ main    │ Artist        │ BASE TABLE │ NULL        │\n",
      "│ chinook │ main    │ PlaylistTrack │ BASE TABLE │ NULL        │\n",
      "│ chinook │ main    │ Employee      │ BASE TABLE │ NULL        │\n",
      "│ chinook │ main    │ InvoiceLine   │ BASE TABLE │ NULL        │\n",
      "│ chinook │ main    │ todos         │ BASE TABLE │ NULL        │\n",
      "│ chinook │ main    │ MediaType     │ BASE TABLE │ NULL        │\n",
      "│ chinook │ main    │ Track         │ BASE TABLE │ NULL        │\n",
      "│ chinook │ main    │ a_view        │ VIEW       │ Just a view │\n",
      "│ chinook │ main    │ fd_Customer   │ BASE TABLE │ NULL        │\n",
      "│ chinook │ main    │ Playlist      │ BASE TABLE │ NULL        │\n",
      "├─────────┴─────────┴───────────────┴────────────┴─────────────┤\n",
      "│ 16 rows                                            5 columns │\n",
      "└──────────────────────────────────────────────────────────────┘\n",
      "\n"
     ]
    }
   ],
   "source": [
    "db.tables.show()"
   ]
  },
  {
   "cell_type": "code",
   "execution_count": 27,
   "metadata": {},
   "outputs": [
    {
     "data": {
      "text/markdown": [
       "<DuckDBPyRelation BASE TABLE **chinook.main.Employee** (8 rows, 15 cols)>\n",
       "\n",
       "\n",
       "\n",
       "| EmployeeId   | LastName   | FirstName   | Title               | ReportsTo   | BirthDate           | HireDate            | Address                     | City       | State   | Country   | PostalCode   | Phone             | Fax               | Email                  |\n",
       "|:-------------|:-----------|:------------|:--------------------|:------------|:--------------------|:--------------------|:----------------------------|:-----------|:--------|:----------|:-------------|:------------------|:------------------|:-----------------------|\n",
       "| 1            | Adams      | Andrew      | General Manager     | nan         | 1962-02-18 00:00:00 | 2002-08-14 00:00:00 | 11120 Jasper Ave NW         | Edmonton   | AB      | Canada    | T5K 2N1      | +1 (780) 428-9482 | +1 (780) 428-3457 | andrew@chinookcorp.com |\n",
       "| 2            | Edwards    | Nancy       | Sales Manager       | 1.0         | 1958-12-08 00:00:00 | 2002-05-01 00:00:00 | 825 8 Ave SW                | Calgary    | AB      | Canada    | T2P 2T3      | +1 (403) 262-3443 | +1 (403) 262-3322 | nancy@chinookcorp.com  |\n",
       "| 3            | Peacock    | Jane        | Sales Support Agent | 2.0         | 1973-08-29 00:00:00 | 2002-04-01 00:00:00 | 1111 6 Ave SW               | Calgary    | AB      | Canada    | T2P 5M5      | +1 (403) 262-3443 | +1 (403) 262-6712 | jane@chinookcorp.com   |\n",
       "| ...          | ...        | ...         | ...                 | ...         | ...                 | ...                 | ...                         | ...        | ...     | ...       | ...          | ...               | ...               | ...                    |\n",
       "| 7            | King       | Robert      | IT Staff            | 6.0         | 1970-05-29 00:00:00 | 2004-01-02 00:00:00 | 590 Columbia Boulevard West | Lethbridge | AB      | Canada    | T1K 5N8      | +1 (403) 456-9986 | +1 (403) 456-8485 | robert@chinookcorp.com |\n",
       "| 8            | Callahan   | Laura       | IT Staff            | 6.0         | 1968-01-09 00:00:00 | 2004-03-04 00:00:00 | 923 7 ST NW                 | Lethbridge | AB      | Canada    | T1H 1Y8      | +1 (403) 467-3351 | +1 (403) 467-8772 | laura@chinookcorp.com  |"
      ],
      "text/plain": [
       "<DuckDBPyRelation BASE TABLE **chinook.main.Employee** (8 rows, 15 cols)>\n"
      ]
     },
     "execution_count": 27,
     "metadata": {},
     "output_type": "execute_result"
    }
   ],
   "source": [
    "db.t.Employee"
   ]
  },
  {
   "cell_type": "code",
   "execution_count": 28,
   "metadata": {},
   "outputs": [
    {
     "data": {
      "text/markdown": [
       "<DuckDBPyRelation  **unnamed_relation_db012eee38ea7ee6** (347 rows, 3 cols)>\n",
       "\n",
       "\n",
       "\n",
       "| AlbumId   | Title                                              | ArtistId   |\n",
       "|:----------|:---------------------------------------------------|:-----------|\n",
       "| 1         | For Those About To Rock We Salute You              | 1          |\n",
       "| 2         | Balls to the Wall                                  | 2          |\n",
       "| 3         | Restless and Wild                                  | 2          |\n",
       "| ...       | ...                                                | ...        |\n",
       "| 346       | Mozart: Chamber Music                              | 274        |\n",
       "| 347       | Koyaanisqatsi (Soundtrack from the Motion Picture) | 275        |"
      ],
      "text/plain": [
       "<DuckDBPyRelation  **unnamed_relation_db012eee38ea7ee6** (347 rows, 3 cols)>\n"
      ]
     },
     "execution_count": 28,
     "metadata": {},
     "output_type": "execute_result"
    }
   ],
   "source": [
    "db.sql('select * from Album')"
   ]
  },
  {
   "cell_type": "code",
   "execution_count": 29,
   "metadata": {},
   "outputs": [
    {
     "data": {
      "text/markdown": [
       "<DuckDBPyRelation BASE TABLE **chinook.main.Genre** (25 rows, 2 cols)>\n",
       "\n",
       "\n",
       "\n",
       "| GenreId   | Name      |\n",
       "|:----------|:----------|\n",
       "| 1         | Rock      |\n",
       "| 2         | Jazz      |\n",
       "| 3         | Metal     |\n",
       "| ...       | ...       |\n",
       "| 24        | Classical |\n",
       "| 25        | Opera     |"
      ],
      "text/plain": [
       "<DuckDBPyRelation BASE TABLE **chinook.main.Genre** (25 rows, 2 cols)>\n"
      ]
     },
     "execution_count": 29,
     "metadata": {},
     "output_type": "execute_result"
    }
   ],
   "source": [
    "db.t.Genre"
   ]
  },
  {
   "cell_type": "code",
   "execution_count": 30,
   "metadata": {},
   "outputs": [
    {
     "data": {
      "text/markdown": [
       "<DuckDBPyRelation  **chinook.main.Album** (4 rows, 2 cols)>\n",
       "\n",
       "\n",
       "\n",
       "|   AlbumId | Title                                 |\n",
       "|----------:|:--------------------------------------|\n",
       "|         1 | For Those About To Rock We Salute You |\n",
       "|         2 | Balls to the Wall                     |\n",
       "|         3 | Restless and Wild                     |\n",
       "|         4 | Let There Be Rock                     |"
      ],
      "text/plain": [
       "<DuckDBPyRelation  **chinook.main.Album** (4 rows, 2 cols)>\n"
      ]
     },
     "execution_count": 30,
     "metadata": {},
     "output_type": "execute_result"
    }
   ],
   "source": [
    "a"
   ]
  },
  {
   "cell_type": "markdown",
   "metadata": {},
   "source": [
    "#### Replacement Scans"
   ]
  },
  {
   "cell_type": "markdown",
   "metadata": {},
   "source": [
    "You may be asking yourself why I am patching `DuckDBPyRelation` and `DuckDBPyConnection` instead of subclassing them.\n",
    "The problem is that these classes do not allow subclassing.  They do not implement `__init__`.\n",
    "\n",
    "We could have create our own classes like `Database` and `Table` and just wrap DuckDBPy objects. But then we would loose a very nice feature of the PyRelation objects.....\n",
    "\n",
    "\n",
    "*replacement scans*.\n"
   ]
  },
  {
   "cell_type": "code",
   "execution_count": 31,
   "metadata": {},
   "outputs": [],
   "source": [
    "a = db.t.Album"
   ]
  },
  {
   "cell_type": "code",
   "execution_count": 32,
   "metadata": {},
   "outputs": [
    {
     "data": {
      "text/markdown": [
       "<DuckDBPyRelation  **unnamed_relation_ac1817debb6ad7c4** (347 rows, 3 cols)>\n",
       "\n",
       "\n",
       "\n",
       "| AlbumId   | Title                                              | ArtistId   |\n",
       "|:----------|:---------------------------------------------------|:-----------|\n",
       "| 1         | For Those About To Rock We Salute You              | 1          |\n",
       "| 2         | Balls to the Wall                                  | 2          |\n",
       "| 3         | Restless and Wild                                  | 2          |\n",
       "| ...       | ...                                                | ...        |\n",
       "| 346       | Mozart: Chamber Music                              | 274        |\n",
       "| 347       | Koyaanisqatsi (Soundtrack from the Motion Picture) | 275        |"
      ],
      "text/plain": [
       "<DuckDBPyRelation  **unnamed_relation_ac1817debb6ad7c4** (347 rows, 3 cols)>\n"
      ]
     },
     "execution_count": 32,
     "metadata": {},
     "output_type": "execute_result"
    }
   ],
   "source": [
    "db.sql(\"select * from a\")"
   ]
  },
  {
   "cell_type": "markdown",
   "metadata": {},
   "source": [
    "I did not had to use a f-string and pass the variable.  DuckDBPy objects (as well as Pandas and Polars Dataframes, Arrow tables, and Datasets) are replaced in the query automagically."
   ]
  },
  {
   "cell_type": "code",
   "execution_count": 33,
   "metadata": {},
   "outputs": [],
   "source": [
    "# db.sql(f\"select * from {a}\")"
   ]
  },
  {
   "cell_type": "code",
   "execution_count": 34,
   "metadata": {},
   "outputs": [
    {
     "data": {
      "text/plain": [
       "'chinook.main.Album'"
      ]
     },
     "execution_count": 34,
     "metadata": {},
     "output_type": "execute_result"
    }
   ],
   "source": [
    "str(a)"
   ]
  },
  {
   "cell_type": "code",
   "execution_count": 35,
   "metadata": {},
   "outputs": [
    {
     "data": {
      "text/markdown": [
       "<DuckDBPyRelation  **unnamed_relation_4c3ce5d87b52df26** (16 rows, 5 cols)>\n",
       "\n",
       "\n",
       "\n",
       "| catalog   | schema   | name        | type       | comment   |\n",
       "|:----------|:---------|:------------|:-----------|:----------|\n",
       "| chinook   | main     | Customer    | BASE TABLE |           |\n",
       "| chinook   | main     | Genre       | BASE TABLE |           |\n",
       "| chinook   | main     | fd_Customer | BASE TABLE |           |\n",
       "| ...       | ...      | ...         | ...        | ...       |\n",
       "| chinook   | main     | Invoice     | BASE TABLE |           |\n",
       "| chinook   | main     | temp_view   | VIEW       |           |"
      ],
      "text/plain": [
       "<DuckDBPyRelation  **unnamed_relation_4c3ce5d87b52df26** (16 rows, 5 cols)>\n"
      ]
     },
     "execution_count": 35,
     "metadata": {},
     "output_type": "execute_result"
    }
   ],
   "source": [
    "db.tables"
   ]
  },
  {
   "cell_type": "markdown",
   "metadata": {},
   "source": [
    "## Database management"
   ]
  },
  {
   "cell_type": "code",
   "execution_count": null,
   "metadata": {},
   "outputs": [],
   "source": []
  },
  {
   "cell_type": "markdown",
   "metadata": {},
   "source": [
    "#### Drop"
   ]
  },
  {
   "cell_type": "code",
   "execution_count": 36,
   "metadata": {},
   "outputs": [],
   "source": [
    "\n",
    "@patch\n",
    "def __contains__(self:DuckDBPyConnection, name:str):\n",
    "    return name in self.tables.select('name').to_list()\n",
    "\n",
    "@patch\n",
    "def drop(self:DuckDBPyConnection, table_name:str):\n",
    "    '''Drop a table or view'''\n",
    "    if table_name not in self: raise ValueError(f\"Table {table_name} does not exist\")\n",
    "    self.sql(f\"DROP TABLE {table_name}\")"
   ]
  },
  {
   "cell_type": "markdown",
   "metadata": {},
   "source": [
    "#### Create Table or View"
   ]
  },
  {
   "cell_type": "code",
   "execution_count": 37,
   "metadata": {},
   "outputs": [],
   "source": [
    "    \n",
    "@patch\n",
    "def _create(self: DuckDBPyConnection, \n",
    "            type: str, fileglob: str, \n",
    "            table_name: Optional[str] = None, \n",
    "            filetype: Optional[Literal['csv', 'xlsx', 'json', 'parquet']] = None, \n",
    "            replace: bool = False, \n",
    "            *args, **kwargs):\n",
    "  \n",
    "    filepath = Path(fileglob)\n",
    "    name = table_name or filepath.stem\n",
    "    if name in self and not replace: raise ValueError(f\"Table {name} already exists\")\n",
    "    if name in self: self.drop(name)\n",
    "    \n",
    "    filetype = filetype or filepath.suffix[1:]\n",
    "    if filetype == 'xlsx':\n",
    "        self.install_extension('spatial')\n",
    "        self.load_extension('spatial') # for excel import/export\n",
    "        fn = 'st_read'\n",
    "        options = ', '.join(f\"{key}={repr(value)}\" for key, value in kwargs.items())\n",
    "        self.sql(f\"CREATE {type} {name} AS SELECT * FROM {fn}('{str(filepath)}' {options})\")\n",
    "    else:\n",
    "        (getattr(self, f'read_{filetype}')(fileglob, *args, **kwargs)).to_table(name)\n",
    "\n",
    "\n",
    "@patch\n",
    "def create_table(self: DuckDBPyConnection, \n",
    "                 fileglob: str, # file path or glob\n",
    "                 table_name: Optional[str] = None, # table name\n",
    "                 filetype: Optional[Literal['csv', 'xlsx', 'json', 'parquet', 'sqlite']] = None, # file type\n",
    "                 replace: bool = False, # replace existing table\n",
    "                 *args, **kwargs \n",
    "                 ):\n",
    "    '''Create a table from a file'''\n",
    "    return self._create('TABLE', fileglob, table_name, filetype, replace, *args, **kwargs)\n",
    "\n",
    "@patch\n",
    "def create_view(self: DuckDBPyConnection, \n",
    "                 fileglob: str, # file path or glob\n",
    "                 view_name: Optional[str] = None, # view name\n",
    "                 filetype: Optional[Literal['csv', 'xlsx', 'json', 'parquet', 'sqlite']] = None, # file type\n",
    "                 replace: bool = False,  # replace existing view\n",
    "                 *args, **kwargs\n",
    "                 ):\n",
    "    '''Create a view from a file'''\n",
    "    return self._create('VIEW', fileglob, view_name, filetype, replace, *args, **kwargs)\n",
    "    "
   ]
  },
  {
   "cell_type": "code",
   "execution_count": 38,
   "metadata": {},
   "outputs": [
    {
     "data": {
      "text/markdown": [
       "<DuckDBPyRelation  **unnamed_relation_7266e9deb9b85538** (17 rows, 5 cols)>\n",
       "\n",
       "\n",
       "\n",
       "| catalog   | schema   | name      | type       | comment   |\n",
       "|:----------|:---------|:----------|:-----------|:----------|\n",
       "| chinook   | main     | latin     | BASE TABLE |           |\n",
       "| chinook   | main     | MediaType | BASE TABLE |           |\n",
       "| chinook   | main     | Track     | BASE TABLE |           |\n",
       "| ...       | ...      | ...       | ...        | ...       |\n",
       "| chinook   | main     | Genre     | BASE TABLE |           |\n",
       "| chinook   | main     | todos     | BASE TABLE |           |"
      ],
      "text/plain": [
       "<DuckDBPyRelation  **unnamed_relation_7266e9deb9b85538** (17 rows, 5 cols)>\n"
      ]
     },
     "execution_count": 38,
     "metadata": {},
     "output_type": "execute_result"
    }
   ],
   "source": [
    "db.create_table('../data/username.latin1.csv', 'latin', replace=True)\n",
    "db.tables"
   ]
  },
  {
   "cell_type": "code",
   "execution_count": 39,
   "metadata": {},
   "outputs": [],
   "source": [
    "db.create_view('../data/username.latin1.csv', 'latin1view', replace=True)"
   ]
  },
  {
   "cell_type": "code",
   "execution_count": 40,
   "metadata": {},
   "outputs": [
    {
     "data": {
      "text/markdown": [
       "<DuckDBPyRelation  **unnamed_relation_eb73ae285d2447a7** (2 rows, 5 cols)>\n",
       "\n",
       "\n",
       "\n",
       "| catalog   | schema   | name       | type       | comment   |\n",
       "|:----------|:---------|:-----------|:-----------|:----------|\n",
       "| chinook   | main     | latin      | BASE TABLE |           |\n",
       "| chinook   | main     | latin1view | BASE TABLE |           |"
      ],
      "text/plain": [
       "<DuckDBPyRelation  **unnamed_relation_eb73ae285d2447a7** (2 rows, 5 cols)>\n"
      ]
     },
     "execution_count": 40,
     "metadata": {},
     "output_type": "execute_result"
    }
   ],
   "source": [
    "db.tables.filter(f\"name like '%latin%'\")\n",
    "#  db.sql(\"select distinct database_name, schema_name, table_name, column_name from duckdb_columns()\")\n",
    "# db.sql(\"attach database '../data/chinook.sqlite' as sqlite\")"
   ]
  },
  {
   "cell_type": "code",
   "execution_count": 41,
   "metadata": {},
   "outputs": [],
   "source": [
    "db.drop('latin1view')\n",
    "db.drop('latin')"
   ]
  },
  {
   "cell_type": "code",
   "execution_count": 42,
   "metadata": {},
   "outputs": [],
   "source": [
    "# from fastcore.test import test_fail\n",
    "# test_fail(db.drop, 'banana') # fix error in nbdev_prepare"
   ]
  },
  {
   "cell_type": "code",
   "execution_count": 43,
   "metadata": {},
   "outputs": [],
   "source": [
    "db.create_table('https://jsonplaceholder.typicode.com/todos/', 'todos', filetype='json', replace=True)"
   ]
  },
  {
   "cell_type": "code",
   "execution_count": 44,
   "metadata": {},
   "outputs": [
    {
     "data": {
      "text/markdown": [
       "<DuckDBPyRelation  **chinook.main.todos** (10 rows, 4 cols)>\n",
       "\n",
       "\n",
       "\n",
       "| userId   | id   | title                                        | completed   |\n",
       "|:---------|:-----|:---------------------------------------------|:------------|\n",
       "| 1        | 1    | delectus aut autem                           | False       |\n",
       "| 1        | 2    | quis ut nam facilis et officia qui           | False       |\n",
       "| 1        | 3    | fugiat veniam minus                          | False       |\n",
       "| ...      | ...  | ...                                          | ...         |\n",
       "| 1        | 9    | molestiae perspiciatis ipsa                  | False       |\n",
       "| 1        | 10   | illo est ratione doloremque quia maiores aut | True        |"
      ],
      "text/plain": [
       "<DuckDBPyRelation  **chinook.main.todos** (10 rows, 4 cols)>\n"
      ]
     },
     "execution_count": 44,
     "metadata": {},
     "output_type": "execute_result"
    }
   ],
   "source": [
    "db.t.todos.limit(10)"
   ]
  },
  {
   "cell_type": "code",
   "execution_count": 45,
   "metadata": {},
   "outputs": [],
   "source": [
    "# db.create_table('https://huggingface.co/datasets/ibm/duorc/resolve/refs%2Fconvert%2Fparquet/ParaphraseRC/test/0000.parquet', 'hf_movies')"
   ]
  },
  {
   "cell_type": "code",
   "execution_count": 46,
   "metadata": {},
   "outputs": [],
   "source": [
    "# db.t.hf_movies.limit(2)"
   ]
  },
  {
   "cell_type": "code",
   "execution_count": 47,
   "metadata": {},
   "outputs": [],
   "source": [
    "# db.drop('hf_movies')\n"
   ]
  },
  {
   "cell_type": "code",
   "execution_count": 48,
   "metadata": {},
   "outputs": [],
   "source": [
    "\n",
    "db.create_table('../data/example.xlsx')"
   ]
  },
  {
   "cell_type": "code",
   "execution_count": 49,
   "metadata": {},
   "outputs": [
    {
     "data": {
      "text/markdown": [
       "<DuckDBPyRelation BASE TABLE **chinook.main.example** (5 rows, 3 cols)>\n",
       "\n",
       "\n",
       "\n",
       "|   COLUMN1 |   COLUMN WITH SPACE | Cólumn name   |\n",
       "|----------:|--------------------:|:--------------|\n",
       "|         1 |                 1.3 | a             |\n",
       "|         2 |                 1.3 | bn            |\n",
       "|         3 |                 1.3 | v             |\n",
       "|         4 |                 1.3 | sgf           |\n",
       "|         5 |                 1.3 | asd           |"
      ],
      "text/plain": [
       "<DuckDBPyRelation BASE TABLE **chinook.main.example** (5 rows, 3 cols)>\n"
      ]
     },
     "execution_count": 49,
     "metadata": {},
     "output_type": "execute_result"
    }
   ],
   "source": [
    "sheet = db.t.example\n",
    "sheet"
   ]
  },
  {
   "cell_type": "code",
   "execution_count": 50,
   "metadata": {},
   "outputs": [],
   "source": [
    "\n",
    "db.drop('example')"
   ]
  },
  {
   "cell_type": "markdown",
   "metadata": {},
   "source": [
    "#### Attach, Detach and Use"
   ]
  },
  {
   "cell_type": "code",
   "execution_count": 51,
   "metadata": {},
   "outputs": [],
   "source": [
    "class RemoteSqliteError(Exception):\n",
    "    pass\n",
    "class InvalidPathError(Exception):\n",
    "    pass"
   ]
  },
  {
   "cell_type": "code",
   "execution_count": 52,
   "metadata": {},
   "outputs": [],
   "source": [
    "@patch\n",
    "def attach(self: DuckDBPyConnection, path, read_only:bool = False, type:Literal['duckdb' | 'sqlite']='duckdb', catalog_name:str=None) -> None:\n",
    "    type = 'sqlite' if Path(path).suffix =='.sqlite' else type\n",
    "    if path.startswith(('s3://', 'gcp://', 'https://')):\n",
    "        self.install_extension('httpfs')\n",
    "        self.load_extension('httpfs')\n",
    "        read_only = True\n",
    "        if type =='sqlite': raise RemoteSqliteError('Cannot attach to a remote sqlite database.')\n",
    "    elif not Path(path).exists(): raise InvalidPathError(f\"Couldn't find {path}\")\n",
    "    self.install_extension('sqlite')\n",
    "    self.load_extension('sqlite')\n",
    "    o = \"(TYPE sqlite, \" if type=='sqlite' else \"(\"\n",
    "    o += f\"READ_ONLY  {read_only})\"\n",
    "    q = f\" '{path}' {f\" AS {catalog_name}\" if catalog_name else \"\"} {o}\"\n",
    "    print (f\"Attaching {q}\")\n",
    "    self.sql(f\"ATTACH {q}\")"
   ]
  },
  {
   "cell_type": "code",
   "execution_count": 53,
   "metadata": {},
   "outputs": [],
   "source": [
    "@patch\n",
    "def detach(self: DuckDBPyConnection, catalog_name) -> None:\n",
    "    self.sql(f\"DETACH {catalog_name}\")"
   ]
  },
  {
   "cell_type": "code",
   "execution_count": 54,
   "metadata": {},
   "outputs": [],
   "source": [
    "@patch\n",
    "def use(self:DuckDBPyConnection, catalog_schema:str=None, catalog:str=None, schema=None) -> None:\n",
    "    if not catalog_schema and not catalog and not schema: return self\n",
    "    catalog, schema = catalog_schema.split('_') if catalog_schema else (catalog, schema)\n",
    "    catalog = catalog or self.catalog\n",
    "    schema = schema or self.schema\n",
    "    self.sql(f\"use {catalog}.{schema}\")\n",
    "    print(\"Using \", self)\n"
   ]
  },
  {
   "cell_type": "code",
   "execution_count": 55,
   "metadata": {},
   "outputs": [
    {
     "name": "stdout",
     "output_type": "stream",
     "text": [
      "Attaching  's3://duckdb-blobs/databases/stations.duckdb'  (READ_ONLY  True)\n"
     ]
    }
   ],
   "source": [
    "db.attach('s3://duckdb-blobs/databases/stations.duckdb')"
   ]
  },
  {
   "cell_type": "code",
   "execution_count": 56,
   "metadata": {},
   "outputs": [
    {
     "name": "stdout",
     "output_type": "stream",
     "text": [
      "Using  DuckDBPyConnection (chinook_main)\n"
     ]
    }
   ],
   "source": [
    "db.s.chinook_main"
   ]
  },
  {
   "cell_type": "markdown",
   "metadata": {},
   "source": [
    "## export - "
   ]
  },
  {
   "cell_type": "code",
   "execution_count": 57,
   "metadata": {},
   "outputs": [],
   "source": [
    "#| hide\n",
    "import nbdev; nbdev.nbdev_export()"
   ]
  }
 ],
 "metadata": {
  "kernelspec": {
   "display_name": "python3",
   "language": "python",
   "name": "python3"
  },
  "language_info": {
   "codemirror_mode": {
    "name": "ipython",
    "version": 3
   },
   "file_extension": ".py",
   "mimetype": "text/x-python",
   "name": "python",
   "nbconvert_exporter": "python",
   "pygments_lexer": "ipython3",
   "version": "3.12.4"
  }
 },
 "nbformat": 4,
 "nbformat_minor": 4
}
